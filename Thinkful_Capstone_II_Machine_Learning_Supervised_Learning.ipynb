{
  "nbformat": 4,
  "nbformat_minor": 0,
  "metadata": {
    "colab": {
      "name": "Thinkful Capstone II: Machine Learning - Supervised Learning",
      "provenance": [],
      "machine_shape": "hm"
    },
    "kernelspec": {
      "name": "python3",
      "display_name": "Python 3"
    }
  },
  "cells": [
    {
      "cell_type": "markdown",
      "metadata": {
        "id": "B_YDQKlhO4yM",
        "colab_type": "text"
      },
      "source": [
        "# Predicting Foreign Donations in Higher Education\n",
        "\n",
        "This capstone is concerned with using supervised machine learning to predict the amount of foreign donations to institutions of higher education in the United States. \n",
        "\n",
        "Donations and Philanthropy are typically sums of money handled by staff working as \"Advancement\", or \"Development\" officers in Colleges & Universities in the United States. Their primary goal is to solicit funds for any number of uses at their respective institution. Often these donors are alumni, but they may be corporate partners, or in the case of this capstone, foreign entities.\n",
        "\n",
        "As donated funds directly tie into the operating budget of Colleges & Universities, the business significance of this project would be to help Advancement or Development officers by creating a predictive model to aid in goal-setting for the amount to be expected in an individual donation from a foreign entity. \n",
        "\n",
        "This project also attempts to model the total amount of foreign donations per year."
      ]
    },
    {
      "cell_type": "code",
      "metadata": {
        "id": "nA9d6UjMdsno",
        "colab_type": "code",
        "colab": {}
      },
      "source": [
        "# Setting up Colab\n",
        "\n",
        "import pandas as pd\n",
        "import numpy as np\n",
        "import matplotlib.pyplot as plt\n",
        "%matplotlib inline\n",
        "import seaborn as sns\n",
        "from scipy.stats import stats\n",
        "from google.colab import drive \n",
        "from sklearn.model_selection import train_test_split, cross_val_score\n",
        "from sklearn.neighbors import KNeighborsRegressor\n",
        "from sklearn.preprocessing import StandardScaler\n",
        "from sklearn.tree import DecisionTreeRegressor\n",
        "from sklearn.ensemble import RandomForestRegressor, GradientBoostingRegressor\n",
        "from sklearn.metrics import mean_squared_error \n",
        "from sklearn.model_selection import GridSearchCV\n",
        "import warnings"
      ],
      "execution_count": 0,
      "outputs": []
    },
    {
      "cell_type": "code",
      "metadata": {
        "id": "dhbXz2_bzcfa",
        "colab_type": "code",
        "colab": {}
      },
      "source": [
        "# Handle warnings\n",
        "\n",
        "warnings.filterwarnings('ignore')"
      ],
      "execution_count": 0,
      "outputs": []
    },
    {
      "cell_type": "markdown",
      "metadata": {
        "id": "NGBWYOtvQ669",
        "colab_type": "text"
      },
      "source": [
        "To do this, I sourced data from 3 locations: The aggregated [Education Data Set](https://https://educationdata.urban.org/data-explorer/colleges/) found through the Thinkful data resources, Foreign Donation Data available from [FAFSA.gov](https://studentaid.gov/data-center/school/foreign-gifts), and U.S. News and World Reports rankings of the 50 best colleges & universities in the U.S.(citation: Andrew G. Reiter, “U.S. News & World Report Historical Liberal Arts College and University Rankings,” available at: http://andyreiter.com/datasets/)"
      ]
    },
    {
      "cell_type": "code",
      "metadata": {
        "id": "jZJb1OKIgY4a",
        "colab_type": "code",
        "outputId": "1a2213cd-f3d2-4346-a385-ef20e1387cd7",
        "colab": {
          "base_uri": "https://localhost:8080/",
          "height": 34
        }
      },
      "source": [
        "# Mount Google Drive\n",
        "\n",
        "drive.mount('/content/gdrive')"
      ],
      "execution_count": 0,
      "outputs": [
        {
          "output_type": "stream",
          "text": [
            "Drive already mounted at /content/gdrive; to attempt to forcibly remount, call drive.mount(\"/content/gdrive\", force_remount=True).\n"
          ],
          "name": "stdout"
        }
      ]
    },
    {
      "cell_type": "code",
      "metadata": {
        "id": "QHcHbZQddiX-",
        "colab_type": "code",
        "colab": {}
      },
      "source": [
        "# Load Data Sets\n",
        "\n",
        "df = pd.read_csv('gdrive/My Drive/EducationDataPortal_01.15.2020_institutions.csv')\n",
        "df2 = pd.read_csv('gdrive/My Drive/ForeignGifts.csv', skiprows=1)\n",
        "df3 = pd.read_csv('gdrive/My Drive/US-News-Rankings-Universities-Through-2020.csv', skiprows=1)"
      ],
      "execution_count": 0,
      "outputs": []
    },
    {
      "cell_type": "markdown",
      "metadata": {
        "id": "ERPGIPdOO8TG",
        "colab_type": "text"
      },
      "source": [
        "I started by inspecting each Data Set as well as identifying and cleaning columns on which to merge the 3 dataframes"
      ]
    },
    {
      "cell_type": "code",
      "metadata": {
        "id": "YdxXM-DeNjTY",
        "colab_type": "code",
        "outputId": "8f520b5b-2a7a-4a94-e5cc-f4db6e9f6fa1",
        "colab": {
          "base_uri": "https://localhost:8080/",
          "height": 568
        }
      },
      "source": [
        "df.head()"
      ],
      "execution_count": 0,
      "outputs": [
        {
          "output_type": "execute_result",
          "data": {
            "text/html": [
              "<div>\n",
              "<style scoped>\n",
              "    .dataframe tbody tr th:only-of-type {\n",
              "        vertical-align: middle;\n",
              "    }\n",
              "\n",
              "    .dataframe tbody tr th {\n",
              "        vertical-align: top;\n",
              "    }\n",
              "\n",
              "    .dataframe thead th {\n",
              "        text-align: right;\n",
              "    }\n",
              "</style>\n",
              "<table border=\"1\" class=\"dataframe\">\n",
              "  <thead>\n",
              "    <tr style=\"text-align: right;\">\n",
              "      <th></th>\n",
              "      <th>year</th>\n",
              "      <th>unitid</th>\n",
              "      <th>inst_name</th>\n",
              "      <th>state_name</th>\n",
              "      <th>number_applied</th>\n",
              "      <th>number_admitted</th>\n",
              "      <th>number_enrolled_ft</th>\n",
              "      <th>number_enrolled_pt</th>\n",
              "      <th>number_enrolled_total</th>\n",
              "      <th>offering_highest_level</th>\n",
              "      <th>inst_control</th>\n",
              "      <th>institution_level</th>\n",
              "      <th>sector</th>\n",
              "      <th>hbcu</th>\n",
              "      <th>primarily_postsecondary</th>\n",
              "      <th>hospital</th>\n",
              "      <th>medical_degree</th>\n",
              "      <th>tribal_college</th>\n",
              "      <th>opeid</th>\n",
              "      <th>offering_highest_degree</th>\n",
              "      <th>title_iv_indicator</th>\n",
              "      <th>offering_undergrad</th>\n",
              "      <th>offering_grad</th>\n",
              "      <th>degree_granting</th>\n",
              "      <th>open_public</th>\n",
              "      <th>postsec_public_active</th>\n",
              "      <th>postsec_public_active_title_iv</th>\n",
              "      <th>inst_system_flag</th>\n",
              "      <th>inst_category</th>\n",
              "      <th>land_grant</th>\n",
              "      <th>inst_size</th>\n",
              "      <th>inst_alias</th>\n",
              "      <th>cc_basic_2015</th>\n",
              "      <th>inst_status</th>\n",
              "      <th>dist_ug_offered</th>\n",
              "      <th>dist_grad_offered</th>\n",
              "      <th>remedial_services</th>\n",
              "      <th>academic_counseling</th>\n",
              "      <th>employment_services</th>\n",
              "      <th>placement_services</th>\n",
              "      <th>oncampus_daycare</th>\n",
              "      <th>oncampus_housing</th>\n",
              "      <th>oncampus_required</th>\n",
              "      <th>tuition_guaranteed</th>\n",
              "      <th>prepaid_tuition</th>\n",
              "      <th>tuition_payment_plan</th>\n",
              "      <th>member_ncaa</th>\n",
              "      <th>study_abroad</th>\n",
              "    </tr>\n",
              "  </thead>\n",
              "  <tbody>\n",
              "    <tr>\n",
              "      <th>0</th>\n",
              "      <td>2017</td>\n",
              "      <td>100654</td>\n",
              "      <td>Alabama A &amp; M University</td>\n",
              "      <td>Alabama</td>\n",
              "      <td>8610.0</td>\n",
              "      <td>7772.0</td>\n",
              "      <td>1288.0</td>\n",
              "      <td>6.0</td>\n",
              "      <td>1294.0</td>\n",
              "      <td>Doctor's degree</td>\n",
              "      <td>Public</td>\n",
              "      <td>Four or more years</td>\n",
              "      <td>Public, four-year or above</td>\n",
              "      <td>Yes</td>\n",
              "      <td>Yes</td>\n",
              "      <td>No</td>\n",
              "      <td>No</td>\n",
              "      <td>No</td>\n",
              "      <td>00100200</td>\n",
              "      <td>Doctor's degree, research/scholarship</td>\n",
              "      <td>Participates in Title IV federal financial aid...</td>\n",
              "      <td>Yes</td>\n",
              "      <td>Yes</td>\n",
              "      <td>Yes</td>\n",
              "      <td>Yes</td>\n",
              "      <td>Active postsecondary institution</td>\n",
              "      <td>Title IV postsecondary institution</td>\n",
              "      <td>No</td>\n",
              "      <td>Degree-granting, primarily baccalaureate or above</td>\n",
              "      <td>Yes</td>\n",
              "      <td>5,000-9,999</td>\n",
              "      <td>AAMU</td>\n",
              "      <td>Master's colleges &amp; universities: larger programs</td>\n",
              "      <td>Active - institution</td>\n",
              "      <td>Yes</td>\n",
              "      <td>Yes</td>\n",
              "      <td>Yes</td>\n",
              "      <td>Yes</td>\n",
              "      <td>Yes</td>\n",
              "      <td>Yes</td>\n",
              "      <td>Yes</td>\n",
              "      <td>Yes</td>\n",
              "      <td>No</td>\n",
              "      <td>No</td>\n",
              "      <td>No</td>\n",
              "      <td>Yes</td>\n",
              "      <td>Yes</td>\n",
              "      <td>Yes</td>\n",
              "    </tr>\n",
              "    <tr>\n",
              "      <th>1</th>\n",
              "      <td>2017</td>\n",
              "      <td>100663</td>\n",
              "      <td>University of Alabama at Birmingham</td>\n",
              "      <td>Alabama</td>\n",
              "      <td>7555.0</td>\n",
              "      <td>6936.0</td>\n",
              "      <td>2228.0</td>\n",
              "      <td>71.0</td>\n",
              "      <td>2299.0</td>\n",
              "      <td>Doctor's degree</td>\n",
              "      <td>Public</td>\n",
              "      <td>Four or more years</td>\n",
              "      <td>Public, four-year or above</td>\n",
              "      <td>No</td>\n",
              "      <td>Yes</td>\n",
              "      <td>Yes</td>\n",
              "      <td>Yes</td>\n",
              "      <td>No</td>\n",
              "      <td>00105200</td>\n",
              "      <td>Doctor's degree, research/scholarship and prof...</td>\n",
              "      <td>Participates in Title IV federal financial aid...</td>\n",
              "      <td>Yes</td>\n",
              "      <td>Yes</td>\n",
              "      <td>Yes</td>\n",
              "      <td>Yes</td>\n",
              "      <td>Active postsecondary institution</td>\n",
              "      <td>Title IV postsecondary institution</td>\n",
              "      <td>Yes</td>\n",
              "      <td>Degree-granting, primarily baccalaureate or above</td>\n",
              "      <td>No</td>\n",
              "      <td>20,000 and above</td>\n",
              "      <td></td>\n",
              "      <td>Doctoral universities: highest research activity</td>\n",
              "      <td>Active - institution</td>\n",
              "      <td>Yes</td>\n",
              "      <td>Yes</td>\n",
              "      <td>Yes</td>\n",
              "      <td>Yes</td>\n",
              "      <td>Yes</td>\n",
              "      <td>Yes</td>\n",
              "      <td>No</td>\n",
              "      <td>Yes</td>\n",
              "      <td>No</td>\n",
              "      <td>No</td>\n",
              "      <td>No</td>\n",
              "      <td>Yes</td>\n",
              "      <td>Yes</td>\n",
              "      <td>Yes</td>\n",
              "    </tr>\n",
              "    <tr>\n",
              "      <th>2</th>\n",
              "      <td>2017</td>\n",
              "      <td>100690</td>\n",
              "      <td>Amridge University</td>\n",
              "      <td>Alabama</td>\n",
              "      <td>NaN</td>\n",
              "      <td>NaN</td>\n",
              "      <td>NaN</td>\n",
              "      <td>NaN</td>\n",
              "      <td>NaN</td>\n",
              "      <td>Doctor's degree</td>\n",
              "      <td>Private not-for-profit</td>\n",
              "      <td>Four or more years</td>\n",
              "      <td>Private not-for-profit, four-year or above</td>\n",
              "      <td>No</td>\n",
              "      <td>Yes</td>\n",
              "      <td>No</td>\n",
              "      <td>No</td>\n",
              "      <td>No</td>\n",
              "      <td>02503400</td>\n",
              "      <td>Doctor's degree, research/scholarship</td>\n",
              "      <td>Participates in Title IV federal financial aid...</td>\n",
              "      <td>Yes</td>\n",
              "      <td>Yes</td>\n",
              "      <td>Yes</td>\n",
              "      <td>Yes</td>\n",
              "      <td>Active postsecondary institution</td>\n",
              "      <td>Title IV postsecondary institution</td>\n",
              "      <td>No</td>\n",
              "      <td>Degree-granting, primarily baccalaureate or above</td>\n",
              "      <td>No</td>\n",
              "      <td>Under 1,000</td>\n",
              "      <td>Southern Christian University |Regions University</td>\n",
              "      <td>Master's colleges &amp; universities: small programs</td>\n",
              "      <td>Active - institution</td>\n",
              "      <td>Yes</td>\n",
              "      <td>Yes</td>\n",
              "      <td>No</td>\n",
              "      <td>Yes</td>\n",
              "      <td>Yes</td>\n",
              "      <td>No</td>\n",
              "      <td>No</td>\n",
              "      <td>No</td>\n",
              "      <td>No</td>\n",
              "      <td>Yes</td>\n",
              "      <td>No</td>\n",
              "      <td>No</td>\n",
              "      <td>No</td>\n",
              "      <td>No</td>\n",
              "    </tr>\n",
              "    <tr>\n",
              "      <th>3</th>\n",
              "      <td>2017</td>\n",
              "      <td>100706</td>\n",
              "      <td>University of Alabama in Huntsville</td>\n",
              "      <td>Alabama</td>\n",
              "      <td>4454.0</td>\n",
              "      <td>3618.0</td>\n",
              "      <td>1341.0</td>\n",
              "      <td>11.0</td>\n",
              "      <td>1352.0</td>\n",
              "      <td>Doctor's degree</td>\n",
              "      <td>Public</td>\n",
              "      <td>Four or more years</td>\n",
              "      <td>Public, four-year or above</td>\n",
              "      <td>No</td>\n",
              "      <td>Yes</td>\n",
              "      <td>No</td>\n",
              "      <td>No</td>\n",
              "      <td>No</td>\n",
              "      <td>00105500</td>\n",
              "      <td>Doctor's degree, research/scholarship and prof...</td>\n",
              "      <td>Participates in Title IV federal financial aid...</td>\n",
              "      <td>Yes</td>\n",
              "      <td>Yes</td>\n",
              "      <td>Yes</td>\n",
              "      <td>Yes</td>\n",
              "      <td>Active postsecondary institution</td>\n",
              "      <td>Title IV postsecondary institution</td>\n",
              "      <td>Yes</td>\n",
              "      <td>Degree-granting, primarily baccalaureate or above</td>\n",
              "      <td>No</td>\n",
              "      <td>5,000-9,999</td>\n",
              "      <td>UAH |University of Alabama Huntsville</td>\n",
              "      <td>Doctoral universities: higher research activity</td>\n",
              "      <td>Active - institution</td>\n",
              "      <td>Yes</td>\n",
              "      <td>Yes</td>\n",
              "      <td>Yes</td>\n",
              "      <td>Yes</td>\n",
              "      <td>Yes</td>\n",
              "      <td>Yes</td>\n",
              "      <td>Yes</td>\n",
              "      <td>Yes</td>\n",
              "      <td>No</td>\n",
              "      <td>No</td>\n",
              "      <td>No</td>\n",
              "      <td>Yes</td>\n",
              "      <td>Yes</td>\n",
              "      <td>Yes</td>\n",
              "    </tr>\n",
              "    <tr>\n",
              "      <th>4</th>\n",
              "      <td>2017</td>\n",
              "      <td>100724</td>\n",
              "      <td>Alabama State University</td>\n",
              "      <td>Alabama</td>\n",
              "      <td>6842.0</td>\n",
              "      <td>6696.0</td>\n",
              "      <td>951.0</td>\n",
              "      <td>16.0</td>\n",
              "      <td>967.0</td>\n",
              "      <td>Doctor's degree</td>\n",
              "      <td>Public</td>\n",
              "      <td>Four or more years</td>\n",
              "      <td>Public, four-year or above</td>\n",
              "      <td>Yes</td>\n",
              "      <td>Yes</td>\n",
              "      <td>No</td>\n",
              "      <td>No</td>\n",
              "      <td>No</td>\n",
              "      <td>00100500</td>\n",
              "      <td>Doctor's degree, research/scholarship and prof...</td>\n",
              "      <td>Participates in Title IV federal financial aid...</td>\n",
              "      <td>Yes</td>\n",
              "      <td>Yes</td>\n",
              "      <td>Yes</td>\n",
              "      <td>Yes</td>\n",
              "      <td>Active postsecondary institution</td>\n",
              "      <td>Title IV postsecondary institution</td>\n",
              "      <td>No</td>\n",
              "      <td>Degree-granting, primarily baccalaureate or above</td>\n",
              "      <td>No</td>\n",
              "      <td>1,000-4,999</td>\n",
              "      <td></td>\n",
              "      <td>Master's colleges &amp; universities: medium programs</td>\n",
              "      <td>Active - institution</td>\n",
              "      <td>Yes</td>\n",
              "      <td>Yes</td>\n",
              "      <td>Yes</td>\n",
              "      <td>Yes</td>\n",
              "      <td>Yes</td>\n",
              "      <td>Yes</td>\n",
              "      <td>No</td>\n",
              "      <td>Yes</td>\n",
              "      <td>No</td>\n",
              "      <td>No</td>\n",
              "      <td>No</td>\n",
              "      <td>Yes</td>\n",
              "      <td>Yes</td>\n",
              "      <td>Yes</td>\n",
              "    </tr>\n",
              "  </tbody>\n",
              "</table>\n",
              "</div>"
            ],
            "text/plain": [
              "   year  unitid  ... member_ncaa study_abroad\n",
              "0  2017  100654  ...         Yes          Yes\n",
              "1  2017  100663  ...         Yes          Yes\n",
              "2  2017  100690  ...          No           No\n",
              "3  2017  100706  ...         Yes          Yes\n",
              "4  2017  100724  ...         Yes          Yes\n",
              "\n",
              "[5 rows x 48 columns]"
            ]
          },
          "metadata": {
            "tags": []
          },
          "execution_count": 5
        }
      ]
    },
    {
      "cell_type": "code",
      "metadata": {
        "id": "8CsLwWY36aCr",
        "colab_type": "code",
        "outputId": "b2552b58-a506-4141-f798-e326fa459f15",
        "colab": {
          "base_uri": "https://localhost:8080/",
          "height": 907
        }
      },
      "source": [
        "df.info()"
      ],
      "execution_count": 0,
      "outputs": [
        {
          "output_type": "stream",
          "text": [
            "<class 'pandas.core.frame.DataFrame'>\n",
            "RangeIndex: 19402 entries, 0 to 19401\n",
            "Data columns (total 48 columns):\n",
            "year                              19402 non-null int64\n",
            "unitid                            19402 non-null int64\n",
            "inst_name                         19402 non-null object\n",
            "state_name                        19402 non-null object\n",
            "number_applied                    11302 non-null float64\n",
            "number_admitted                   11263 non-null float64\n",
            "number_enrolled_ft                11239 non-null float64\n",
            "number_enrolled_pt                9739 non-null float64\n",
            "number_enrolled_total             11263 non-null float64\n",
            "offering_highest_level            19402 non-null object\n",
            "inst_control                      19402 non-null object\n",
            "institution_level                 19402 non-null object\n",
            "sector                            19402 non-null object\n",
            "hbcu                              19402 non-null object\n",
            "primarily_postsecondary           19402 non-null object\n",
            "hospital                          19402 non-null object\n",
            "medical_degree                    19402 non-null object\n",
            "tribal_college                    19402 non-null object\n",
            "opeid                             19402 non-null object\n",
            "offering_highest_degree           19402 non-null object\n",
            "title_iv_indicator                19402 non-null object\n",
            "offering_undergrad                19402 non-null object\n",
            "offering_grad                     19402 non-null object\n",
            "degree_granting                   19402 non-null object\n",
            "open_public                       19402 non-null object\n",
            "postsec_public_active             19402 non-null object\n",
            "postsec_public_active_title_iv    19402 non-null object\n",
            "inst_system_flag                  19402 non-null object\n",
            "inst_category                     19402 non-null object\n",
            "land_grant                        19402 non-null object\n",
            "inst_size                         19402 non-null object\n",
            "inst_alias                        19402 non-null object\n",
            "cc_basic_2015                     9642 non-null object\n",
            "inst_status                       19402 non-null object\n",
            "dist_ug_offered                   18868 non-null object\n",
            "dist_grad_offered                 18868 non-null object\n",
            "remedial_services                 18868 non-null object\n",
            "academic_counseling               18868 non-null object\n",
            "employment_services               18868 non-null object\n",
            "placement_services                18868 non-null object\n",
            "oncampus_daycare                  18868 non-null object\n",
            "oncampus_housing                  18868 non-null object\n",
            "oncampus_required                 18868 non-null object\n",
            "tuition_guaranteed                18868 non-null object\n",
            "prepaid_tuition                   18868 non-null object\n",
            "tuition_payment_plan              18868 non-null object\n",
            "member_ncaa                       18868 non-null object\n",
            "study_abroad                      18868 non-null object\n",
            "dtypes: float64(5), int64(2), object(41)\n",
            "memory usage: 7.1+ MB\n"
          ],
          "name": "stdout"
        }
      ]
    },
    {
      "cell_type": "code",
      "metadata": {
        "id": "IGNpeVihYZfX",
        "colab_type": "code",
        "outputId": "ebba4dfe-e19b-4e62-a384-7b771f3feceb",
        "colab": {
          "base_uri": "https://localhost:8080/",
          "height": 218
        }
      },
      "source": [
        "df['opeid'].value_counts()"
      ],
      "execution_count": 0,
      "outputs": [
        {
          "output_type": "execute_result",
          "data": {
            "text/plain": [
              "Not applicable    83\n",
              "202500            12\n",
              "1303900            8\n",
              "2179907            8\n",
              "638500             8\n",
              "                  ..\n",
              "00405703           1\n",
              "1007400            1\n",
              "02594300           1\n",
              "00464601           1\n",
              "11072704           1\n",
              "Name: opeid, Length: 6543, dtype: int64"
            ]
          },
          "metadata": {
            "tags": []
          },
          "execution_count": 7
        }
      ]
    },
    {
      "cell_type": "code",
      "metadata": {
        "id": "HKcnXl1RiOO7",
        "colab_type": "code",
        "colab": {}
      },
      "source": [
        "df = df[df['opeid'] != 'Not applicable']\n",
        "df = df[df['opeid'] != ' ']\n",
        "\n",
        "df['opeid'] = pd.to_numeric(df['opeid'])"
      ],
      "execution_count": 0,
      "outputs": []
    },
    {
      "cell_type": "code",
      "metadata": {
        "id": "5Wu6fZgG6Yet",
        "colab_type": "code",
        "outputId": "9788a650-1bb5-44f4-b951-5ecc10fb3fca",
        "colab": {
          "base_uri": "https://localhost:8080/",
          "height": 195
        }
      },
      "source": [
        "df2.head()"
      ],
      "execution_count": 0,
      "outputs": [
        {
          "output_type": "execute_result",
          "data": {
            "text/html": [
              "<div>\n",
              "<style scoped>\n",
              "    .dataframe tbody tr th:only-of-type {\n",
              "        vertical-align: middle;\n",
              "    }\n",
              "\n",
              "    .dataframe tbody tr th {\n",
              "        vertical-align: top;\n",
              "    }\n",
              "\n",
              "    .dataframe thead th {\n",
              "        text-align: right;\n",
              "    }\n",
              "</style>\n",
              "<table border=\"1\" class=\"dataframe\">\n",
              "  <thead>\n",
              "    <tr style=\"text-align: right;\">\n",
              "      <th></th>\n",
              "      <th>ID</th>\n",
              "      <th>OPEID</th>\n",
              "      <th>Institution Name</th>\n",
              "      <th>City</th>\n",
              "      <th>State</th>\n",
              "      <th>Foreign Gift Received Date</th>\n",
              "      <th>Foreign Gift Amount</th>\n",
              "      <th>Gift Type</th>\n",
              "      <th>Country of Giftor</th>\n",
              "      <th>Giftor Name</th>\n",
              "    </tr>\n",
              "  </thead>\n",
              "  <tbody>\n",
              "    <tr>\n",
              "      <th>0</th>\n",
              "      <td>1</td>\n",
              "      <td>324200</td>\n",
              "      <td>Carnegie Mellon University</td>\n",
              "      <td>Pittsburgh</td>\n",
              "      <td>PA</td>\n",
              "      <td>01/01/2015</td>\n",
              "      <td>$77,391,377.00</td>\n",
              "      <td>Contract</td>\n",
              "      <td>QATAR</td>\n",
              "      <td>Qatar Foundation for Education</td>\n",
              "    </tr>\n",
              "    <tr>\n",
              "      <th>1</th>\n",
              "      <td>2</td>\n",
              "      <td>143400</td>\n",
              "      <td>American University (The)</td>\n",
              "      <td>Washington</td>\n",
              "      <td>DC</td>\n",
              "      <td>01/25/2012</td>\n",
              "      <td>$500,000.00</td>\n",
              "      <td>Monetary Gift</td>\n",
              "      <td>BAHRAIN</td>\n",
              "      <td>Kingdom of Bahrain</td>\n",
              "    </tr>\n",
              "    <tr>\n",
              "      <th>2</th>\n",
              "      <td>3</td>\n",
              "      <td>143400</td>\n",
              "      <td>American University (The)</td>\n",
              "      <td>Washington</td>\n",
              "      <td>DC</td>\n",
              "      <td>05/28/2013</td>\n",
              "      <td>$500,000.00</td>\n",
              "      <td>Monetary Gift</td>\n",
              "      <td>BAHRAIN</td>\n",
              "      <td>Sheikh Salman Bin Al-Khalifa</td>\n",
              "    </tr>\n",
              "    <tr>\n",
              "      <th>3</th>\n",
              "      <td>4</td>\n",
              "      <td>143400</td>\n",
              "      <td>American University (The)</td>\n",
              "      <td>Washington</td>\n",
              "      <td>DC</td>\n",
              "      <td>09/10/2015</td>\n",
              "      <td>$500,000.00</td>\n",
              "      <td>Monetary Gift</td>\n",
              "      <td>KUWAIT</td>\n",
              "      <td>NaN</td>\n",
              "    </tr>\n",
              "    <tr>\n",
              "      <th>4</th>\n",
              "      <td>5</td>\n",
              "      <td>143400</td>\n",
              "      <td>American University (The)</td>\n",
              "      <td>Washington</td>\n",
              "      <td>DC</td>\n",
              "      <td>05/17/2012</td>\n",
              "      <td>$610,000.00</td>\n",
              "      <td>Monetary Gift</td>\n",
              "      <td>ENGLAND</td>\n",
              "      <td>NaN</td>\n",
              "    </tr>\n",
              "  </tbody>\n",
              "</table>\n",
              "</div>"
            ],
            "text/plain": [
              "   ID   OPEID  ... Country of Giftor                     Giftor Name\n",
              "0   1  324200  ...             QATAR  Qatar Foundation for Education\n",
              "1   2  143400  ...           BAHRAIN              Kingdom of Bahrain\n",
              "2   3  143400  ...           BAHRAIN    Sheikh Salman Bin Al-Khalifa\n",
              "3   4  143400  ...            KUWAIT                             NaN\n",
              "4   5  143400  ...           ENGLAND                             NaN\n",
              "\n",
              "[5 rows x 10 columns]"
            ]
          },
          "metadata": {
            "tags": []
          },
          "execution_count": 9
        }
      ]
    },
    {
      "cell_type": "code",
      "metadata": {
        "id": "BnpjTZ4B6cEu",
        "colab_type": "code",
        "outputId": "57e66310-3cb8-440e-fb4b-5cd69fb4ccd6",
        "colab": {
          "base_uri": "https://localhost:8080/",
          "height": 269
        }
      },
      "source": [
        "df2.info()"
      ],
      "execution_count": 0,
      "outputs": [
        {
          "output_type": "stream",
          "text": [
            "<class 'pandas.core.frame.DataFrame'>\n",
            "RangeIndex: 21052 entries, 0 to 21051\n",
            "Data columns (total 10 columns):\n",
            "ID                            21052 non-null int64\n",
            "OPEID                         21052 non-null int64\n",
            "Institution Name              21052 non-null object\n",
            "City                          21052 non-null object\n",
            "State                         21052 non-null object\n",
            "Foreign Gift Received Date    21052 non-null object\n",
            "Foreign Gift Amount           21052 non-null object\n",
            "Gift Type                     21052 non-null object\n",
            "Country of Giftor             21052 non-null object\n",
            "Giftor Name                   17805 non-null object\n",
            "dtypes: int64(2), object(8)\n",
            "memory usage: 1.6+ MB\n"
          ],
          "name": "stdout"
        }
      ]
    },
    {
      "cell_type": "markdown",
      "metadata": {
        "id": "CY1IKn3TYIHn",
        "colab_type": "text"
      },
      "source": [
        "Clean Data for merging dataframes and feature selection/engineering"
      ]
    },
    {
      "cell_type": "code",
      "metadata": {
        "id": "4T-36fv-c5M7",
        "colab_type": "code",
        "outputId": "b0255ca7-8f9f-4296-e0f8-48adf70ed3a7",
        "colab": {
          "base_uri": "https://localhost:8080/",
          "height": 195
        }
      },
      "source": [
        "df2.rename(columns=dict([(x,x.strip()) for x in df2.columns]))\n",
        "df2.head()"
      ],
      "execution_count": 0,
      "outputs": [
        {
          "output_type": "execute_result",
          "data": {
            "text/html": [
              "<div>\n",
              "<style scoped>\n",
              "    .dataframe tbody tr th:only-of-type {\n",
              "        vertical-align: middle;\n",
              "    }\n",
              "\n",
              "    .dataframe tbody tr th {\n",
              "        vertical-align: top;\n",
              "    }\n",
              "\n",
              "    .dataframe thead th {\n",
              "        text-align: right;\n",
              "    }\n",
              "</style>\n",
              "<table border=\"1\" class=\"dataframe\">\n",
              "  <thead>\n",
              "    <tr style=\"text-align: right;\">\n",
              "      <th></th>\n",
              "      <th>ID</th>\n",
              "      <th>OPEID</th>\n",
              "      <th>Institution Name</th>\n",
              "      <th>City</th>\n",
              "      <th>State</th>\n",
              "      <th>Foreign Gift Received Date</th>\n",
              "      <th>Foreign Gift Amount</th>\n",
              "      <th>Gift Type</th>\n",
              "      <th>Country of Giftor</th>\n",
              "      <th>Giftor Name</th>\n",
              "    </tr>\n",
              "  </thead>\n",
              "  <tbody>\n",
              "    <tr>\n",
              "      <th>0</th>\n",
              "      <td>1</td>\n",
              "      <td>324200</td>\n",
              "      <td>Carnegie Mellon University</td>\n",
              "      <td>Pittsburgh</td>\n",
              "      <td>PA</td>\n",
              "      <td>01/01/2015</td>\n",
              "      <td>$77,391,377.00</td>\n",
              "      <td>Contract</td>\n",
              "      <td>QATAR</td>\n",
              "      <td>Qatar Foundation for Education</td>\n",
              "    </tr>\n",
              "    <tr>\n",
              "      <th>1</th>\n",
              "      <td>2</td>\n",
              "      <td>143400</td>\n",
              "      <td>American University (The)</td>\n",
              "      <td>Washington</td>\n",
              "      <td>DC</td>\n",
              "      <td>01/25/2012</td>\n",
              "      <td>$500,000.00</td>\n",
              "      <td>Monetary Gift</td>\n",
              "      <td>BAHRAIN</td>\n",
              "      <td>Kingdom of Bahrain</td>\n",
              "    </tr>\n",
              "    <tr>\n",
              "      <th>2</th>\n",
              "      <td>3</td>\n",
              "      <td>143400</td>\n",
              "      <td>American University (The)</td>\n",
              "      <td>Washington</td>\n",
              "      <td>DC</td>\n",
              "      <td>05/28/2013</td>\n",
              "      <td>$500,000.00</td>\n",
              "      <td>Monetary Gift</td>\n",
              "      <td>BAHRAIN</td>\n",
              "      <td>Sheikh Salman Bin Al-Khalifa</td>\n",
              "    </tr>\n",
              "    <tr>\n",
              "      <th>3</th>\n",
              "      <td>4</td>\n",
              "      <td>143400</td>\n",
              "      <td>American University (The)</td>\n",
              "      <td>Washington</td>\n",
              "      <td>DC</td>\n",
              "      <td>09/10/2015</td>\n",
              "      <td>$500,000.00</td>\n",
              "      <td>Monetary Gift</td>\n",
              "      <td>KUWAIT</td>\n",
              "      <td>NaN</td>\n",
              "    </tr>\n",
              "    <tr>\n",
              "      <th>4</th>\n",
              "      <td>5</td>\n",
              "      <td>143400</td>\n",
              "      <td>American University (The)</td>\n",
              "      <td>Washington</td>\n",
              "      <td>DC</td>\n",
              "      <td>05/17/2012</td>\n",
              "      <td>$610,000.00</td>\n",
              "      <td>Monetary Gift</td>\n",
              "      <td>ENGLAND</td>\n",
              "      <td>NaN</td>\n",
              "    </tr>\n",
              "  </tbody>\n",
              "</table>\n",
              "</div>"
            ],
            "text/plain": [
              "   ID   OPEID  ... Country of Giftor                     Giftor Name\n",
              "0   1  324200  ...             QATAR  Qatar Foundation for Education\n",
              "1   2  143400  ...           BAHRAIN              Kingdom of Bahrain\n",
              "2   3  143400  ...           BAHRAIN    Sheikh Salman Bin Al-Khalifa\n",
              "3   4  143400  ...            KUWAIT                             NaN\n",
              "4   5  143400  ...           ENGLAND                             NaN\n",
              "\n",
              "[5 rows x 10 columns]"
            ]
          },
          "metadata": {
            "tags": []
          },
          "execution_count": 11
        }
      ]
    },
    {
      "cell_type": "code",
      "metadata": {
        "id": "AW_0NXvkekkN",
        "colab_type": "code",
        "colab": {}
      },
      "source": [
        "df2['Foreign Gift Amount'] = df2['Foreign Gift Amount'].str.replace('$', '')\n",
        "df2['Foreign Gift Amount'] = df2['Foreign Gift Amount'].str.replace(',', '')\n",
        "df2['Foreign Gift Amount'] = pd.to_numeric(df2['Foreign Gift Amount'])\n",
        "\n",
        "df2['Foreign Gift Received Date'] = pd.to_datetime(df2['Foreign Gift Received Date'])\n",
        "df2 = df2.assign(year=df2['Foreign Gift Received Date'].dt.year)\n",
        "\n",
        "df2 = df2[df2['year'] != 2018]"
      ],
      "execution_count": 0,
      "outputs": []
    },
    {
      "cell_type": "markdown",
      "metadata": {
        "id": "U-dsWADUPZkt",
        "colab_type": "text"
      },
      "source": [
        "One final check of merge columns for df and df 2"
      ]
    },
    {
      "cell_type": "code",
      "metadata": {
        "id": "3tmD3oOAXQ2R",
        "colab_type": "code",
        "outputId": "d4eaa22d-efb2-4c75-b2e9-dbe0e3e8c98e",
        "colab": {
          "base_uri": "https://localhost:8080/",
          "height": 84
        }
      },
      "source": [
        "print(np.sort(df2['year'].unique()))\n",
        "print(np.sort(df['year'].unique()))\n",
        "print(df2['OPEID'].nunique())\n",
        "print(df['opeid'].nunique())"
      ],
      "execution_count": 0,
      "outputs": [
        {
          "output_type": "stream",
          "text": [
            "[2012 2013 2014 2015 2016 2017]\n",
            "[2012 2013 2014 2015 2016 2017]\n",
            "156\n",
            "3525\n"
          ],
          "name": "stdout"
        }
      ]
    },
    {
      "cell_type": "markdown",
      "metadata": {
        "id": "zT-SlQBMPjWW",
        "colab_type": "text"
      },
      "source": [
        "Repeat cleaning and inspection for df3"
      ]
    },
    {
      "cell_type": "code",
      "metadata": {
        "id": "KjW0mVrOPQl9",
        "colab_type": "code",
        "outputId": "2d6c6ef6-34e3-4c85-f525-ba87fea107c1",
        "colab": {
          "base_uri": "https://localhost:8080/",
          "height": 333
        }
      },
      "source": [
        "df3.head()"
      ],
      "execution_count": 0,
      "outputs": [
        {
          "output_type": "execute_result",
          "data": {
            "text/html": [
              "<div>\n",
              "<style scoped>\n",
              "    .dataframe tbody tr th:only-of-type {\n",
              "        vertical-align: middle;\n",
              "    }\n",
              "\n",
              "    .dataframe tbody tr th {\n",
              "        vertical-align: top;\n",
              "    }\n",
              "\n",
              "    .dataframe thead th {\n",
              "        text-align: right;\n",
              "    }\n",
              "</style>\n",
              "<table border=\"1\" class=\"dataframe\">\n",
              "  <thead>\n",
              "    <tr style=\"text-align: right;\">\n",
              "      <th></th>\n",
              "      <th>University Name</th>\n",
              "      <th>IPEDS ID</th>\n",
              "      <th>State</th>\n",
              "      <th>2020</th>\n",
              "      <th>2019</th>\n",
              "      <th>2018</th>\n",
              "      <th>2017</th>\n",
              "      <th>2016</th>\n",
              "      <th>2015</th>\n",
              "      <th>2014</th>\n",
              "      <th>2013</th>\n",
              "      <th>2012</th>\n",
              "      <th>2011</th>\n",
              "      <th>2010</th>\n",
              "      <th>2009</th>\n",
              "      <th>2008</th>\n",
              "      <th>2007</th>\n",
              "      <th>2006</th>\n",
              "      <th>2005</th>\n",
              "      <th>2004</th>\n",
              "      <th>2003</th>\n",
              "      <th>2002</th>\n",
              "      <th>2001</th>\n",
              "      <th>2000</th>\n",
              "      <th>1999</th>\n",
              "      <th>1998</th>\n",
              "      <th>1997</th>\n",
              "      <th>1996</th>\n",
              "      <th>1995</th>\n",
              "      <th>1994</th>\n",
              "      <th>1993</th>\n",
              "      <th>1992</th>\n",
              "      <th>1991</th>\n",
              "      <th>1990</th>\n",
              "      <th>1989</th>\n",
              "      <th>1988</th>\n",
              "      <th>1986</th>\n",
              "      <th>1984</th>\n",
              "    </tr>\n",
              "  </thead>\n",
              "  <tbody>\n",
              "    <tr>\n",
              "      <th>0</th>\n",
              "      <td>Princeton University</td>\n",
              "      <td>186131</td>\n",
              "      <td>NJ</td>\n",
              "      <td>1.0</td>\n",
              "      <td>1.0</td>\n",
              "      <td>1.0</td>\n",
              "      <td>1.0</td>\n",
              "      <td>1.0</td>\n",
              "      <td>1.0</td>\n",
              "      <td>1.0</td>\n",
              "      <td>1.0</td>\n",
              "      <td>1.0</td>\n",
              "      <td>2.0</td>\n",
              "      <td>1.0</td>\n",
              "      <td>2.0</td>\n",
              "      <td>1.0</td>\n",
              "      <td>1.0</td>\n",
              "      <td>1.0</td>\n",
              "      <td>1.0</td>\n",
              "      <td>1.0</td>\n",
              "      <td>1.0</td>\n",
              "      <td>1.0</td>\n",
              "      <td>1.0</td>\n",
              "      <td>4.0</td>\n",
              "      <td>1.0</td>\n",
              "      <td>1.0</td>\n",
              "      <td>2.0</td>\n",
              "      <td>2.0</td>\n",
              "      <td>2.0</td>\n",
              "      <td>2.0</td>\n",
              "      <td>2.0</td>\n",
              "      <td>4.0</td>\n",
              "      <td>4.0</td>\n",
              "      <td>2.0</td>\n",
              "      <td>2.0</td>\n",
              "      <td>4.0</td>\n",
              "      <td>4.0</td>\n",
              "      <td>4.0</td>\n",
              "    </tr>\n",
              "    <tr>\n",
              "      <th>1</th>\n",
              "      <td>Harvard University</td>\n",
              "      <td>166027</td>\n",
              "      <td>MA</td>\n",
              "      <td>2.0</td>\n",
              "      <td>2.0</td>\n",
              "      <td>2.0</td>\n",
              "      <td>2.0</td>\n",
              "      <td>2.0</td>\n",
              "      <td>2.0</td>\n",
              "      <td>2.0</td>\n",
              "      <td>1.0</td>\n",
              "      <td>1.0</td>\n",
              "      <td>1.0</td>\n",
              "      <td>1.0</td>\n",
              "      <td>1.0</td>\n",
              "      <td>2.0</td>\n",
              "      <td>2.0</td>\n",
              "      <td>1.0</td>\n",
              "      <td>1.0</td>\n",
              "      <td>1.0</td>\n",
              "      <td>2.0</td>\n",
              "      <td>2.0</td>\n",
              "      <td>2.0</td>\n",
              "      <td>2.0</td>\n",
              "      <td>1.0</td>\n",
              "      <td>1.0</td>\n",
              "      <td>3.0</td>\n",
              "      <td>1.0</td>\n",
              "      <td>1.0</td>\n",
              "      <td>1.0</td>\n",
              "      <td>1.0</td>\n",
              "      <td>1.0</td>\n",
              "      <td>1.0</td>\n",
              "      <td>3.0</td>\n",
              "      <td>4.0</td>\n",
              "      <td>2.0</td>\n",
              "      <td>2.0</td>\n",
              "      <td>2.0</td>\n",
              "    </tr>\n",
              "    <tr>\n",
              "      <th>2</th>\n",
              "      <td>Columbia University</td>\n",
              "      <td>190150</td>\n",
              "      <td>NY</td>\n",
              "      <td>3.0</td>\n",
              "      <td>3.0</td>\n",
              "      <td>5.0</td>\n",
              "      <td>5.0</td>\n",
              "      <td>4.0</td>\n",
              "      <td>4.0</td>\n",
              "      <td>4.0</td>\n",
              "      <td>4.0</td>\n",
              "      <td>4.0</td>\n",
              "      <td>4.0</td>\n",
              "      <td>8.0</td>\n",
              "      <td>8.0</td>\n",
              "      <td>9.0</td>\n",
              "      <td>9.0</td>\n",
              "      <td>9.0</td>\n",
              "      <td>9.0</td>\n",
              "      <td>11.0</td>\n",
              "      <td>10.0</td>\n",
              "      <td>9.0</td>\n",
              "      <td>10.0</td>\n",
              "      <td>10.0</td>\n",
              "      <td>10.0</td>\n",
              "      <td>9.0</td>\n",
              "      <td>11.0</td>\n",
              "      <td>15.0</td>\n",
              "      <td>9.0</td>\n",
              "      <td>11.0</td>\n",
              "      <td>10.0</td>\n",
              "      <td>9.0</td>\n",
              "      <td>10.0</td>\n",
              "      <td>11.0</td>\n",
              "      <td>8.0</td>\n",
              "      <td>18.0</td>\n",
              "      <td>NaN</td>\n",
              "      <td>NaN</td>\n",
              "    </tr>\n",
              "    <tr>\n",
              "      <th>3</th>\n",
              "      <td>Massachusetts Institute of Technology</td>\n",
              "      <td>166683</td>\n",
              "      <td>MA</td>\n",
              "      <td>3.0</td>\n",
              "      <td>3.0</td>\n",
              "      <td>5.0</td>\n",
              "      <td>7.0</td>\n",
              "      <td>7.0</td>\n",
              "      <td>7.0</td>\n",
              "      <td>7.0</td>\n",
              "      <td>6.0</td>\n",
              "      <td>5.0</td>\n",
              "      <td>7.0</td>\n",
              "      <td>4.0</td>\n",
              "      <td>4.0</td>\n",
              "      <td>7.0</td>\n",
              "      <td>4.0</td>\n",
              "      <td>7.0</td>\n",
              "      <td>5.0</td>\n",
              "      <td>4.0</td>\n",
              "      <td>4.0</td>\n",
              "      <td>5.0</td>\n",
              "      <td>5.0</td>\n",
              "      <td>3.0</td>\n",
              "      <td>4.0</td>\n",
              "      <td>6.0</td>\n",
              "      <td>5.0</td>\n",
              "      <td>5.0</td>\n",
              "      <td>4.0</td>\n",
              "      <td>4.0</td>\n",
              "      <td>5.0</td>\n",
              "      <td>6.0</td>\n",
              "      <td>6.0</td>\n",
              "      <td>7.0</td>\n",
              "      <td>5.0</td>\n",
              "      <td>11.0</td>\n",
              "      <td>11.0</td>\n",
              "      <td>10.0</td>\n",
              "    </tr>\n",
              "    <tr>\n",
              "      <th>4</th>\n",
              "      <td>University of Chicago</td>\n",
              "      <td>144050</td>\n",
              "      <td>IL</td>\n",
              "      <td>6.0</td>\n",
              "      <td>3.0</td>\n",
              "      <td>3.0</td>\n",
              "      <td>3.0</td>\n",
              "      <td>4.0</td>\n",
              "      <td>4.0</td>\n",
              "      <td>5.0</td>\n",
              "      <td>4.0</td>\n",
              "      <td>5.0</td>\n",
              "      <td>9.0</td>\n",
              "      <td>8.0</td>\n",
              "      <td>8.0</td>\n",
              "      <td>9.0</td>\n",
              "      <td>9.0</td>\n",
              "      <td>15.0</td>\n",
              "      <td>14.0</td>\n",
              "      <td>13.0</td>\n",
              "      <td>12.0</td>\n",
              "      <td>9.0</td>\n",
              "      <td>10.0</td>\n",
              "      <td>13.0</td>\n",
              "      <td>14.0</td>\n",
              "      <td>14.0</td>\n",
              "      <td>12.0</td>\n",
              "      <td>11.0</td>\n",
              "      <td>10.0</td>\n",
              "      <td>9.0</td>\n",
              "      <td>9.0</td>\n",
              "      <td>10.0</td>\n",
              "      <td>11.0</td>\n",
              "      <td>9.0</td>\n",
              "      <td>10.0</td>\n",
              "      <td>8.0</td>\n",
              "      <td>5.0</td>\n",
              "      <td>6.0</td>\n",
              "    </tr>\n",
              "  </tbody>\n",
              "</table>\n",
              "</div>"
            ],
            "text/plain": [
              "                         University Name  IPEDS ID State  ...  1988  1986  1984\n",
              "0                   Princeton University    186131    NJ  ...   4.0   4.0   4.0\n",
              "1                     Harvard University    166027    MA  ...   2.0   2.0   2.0\n",
              "2                    Columbia University    190150    NY  ...  18.0   NaN   NaN\n",
              "3  Massachusetts Institute of Technology    166683    MA  ...  11.0  11.0  10.0\n",
              "4                  University of Chicago    144050    IL  ...   8.0   5.0   6.0\n",
              "\n",
              "[5 rows x 38 columns]"
            ]
          },
          "metadata": {
            "tags": []
          },
          "execution_count": 14
        }
      ]
    },
    {
      "cell_type": "code",
      "metadata": {
        "id": "3zYcPrz5QgX2",
        "colab_type": "code",
        "colab": {}
      },
      "source": [
        "df3.drop(df3.iloc[:,np.r_[2:6, 12:38]], axis=1, inplace=True)"
      ],
      "execution_count": 0,
      "outputs": []
    },
    {
      "cell_type": "code",
      "metadata": {
        "id": "sUrHX4HOMEde",
        "colab_type": "code",
        "colab": {}
      },
      "source": [
        "year_list = ['2012', '2013', '2014', '2015', '2016', '2017']\n",
        "\n",
        "for i in df3[year_list]:\n",
        "    df3[i][df3[i] > 0 ] = i"
      ],
      "execution_count": 0,
      "outputs": []
    },
    {
      "cell_type": "code",
      "metadata": {
        "id": "R4tZml45M7yR",
        "colab_type": "code",
        "colab": {}
      },
      "source": [
        "df3 = pd.melt(df3, id_vars=['University Name', 'IPEDS ID'], \n",
        "              value_vars=['2017', '2016', '2015', '2014', '2013', '2012'])"
      ],
      "execution_count": 0,
      "outputs": []
    },
    {
      "cell_type": "code",
      "metadata": {
        "id": "IPJHWPS5NT0P",
        "colab_type": "code",
        "colab": {}
      },
      "source": [
        "df3.rename(columns={'variable':'year','value':'Top50'}, inplace=True)"
      ],
      "execution_count": 0,
      "outputs": []
    },
    {
      "cell_type": "code",
      "metadata": {
        "id": "GnKX-R6hOdgi",
        "colab_type": "code",
        "outputId": "160f3a2b-228c-4ee1-c89a-5ae6f43bfbcc",
        "colab": {
          "base_uri": "https://localhost:8080/",
          "height": 34
        }
      },
      "source": [
        "df3['Top50'].isna().sum()"
      ],
      "execution_count": 0,
      "outputs": [
        {
          "output_type": "execute_result",
          "data": {
            "text/plain": [
              "63"
            ]
          },
          "metadata": {
            "tags": []
          },
          "execution_count": 19
        }
      ]
    },
    {
      "cell_type": "code",
      "metadata": {
        "id": "Us4AmTHaONnz",
        "colab_type": "code",
        "colab": {}
      },
      "source": [
        "df3['Top50'][df3['Top50'] == '2017'] = 1\n",
        "df3['Top50'][df3['Top50'] == '2016'] = 1\n",
        "df3['Top50'][df3['Top50'] == '2015'] = 1\n",
        "df3['Top50'][df3['Top50'] == '2014'] = 1\n",
        "df3['Top50'][df3['Top50'] == '2013'] = 1\n",
        "df3['Top50'][df3['Top50'] == '2012'] = 1"
      ],
      "execution_count": 0,
      "outputs": []
    },
    {
      "cell_type": "code",
      "metadata": {
        "id": "-SDl4LrPOf1E",
        "colab_type": "code",
        "colab": {}
      },
      "source": [
        "df3['Top50'].fillna(value=0, inplace=True)"
      ],
      "execution_count": 0,
      "outputs": []
    },
    {
      "cell_type": "code",
      "metadata": {
        "id": "BAVzGtJXEtix",
        "colab_type": "code",
        "outputId": "2a29795e-7a72-4f9c-8402-be3c7a8ae7a4",
        "colab": {
          "base_uri": "https://localhost:8080/",
          "height": 34
        }
      },
      "source": [
        "df3['year'].dtypes"
      ],
      "execution_count": 0,
      "outputs": [
        {
          "output_type": "execute_result",
          "data": {
            "text/plain": [
              "dtype('O')"
            ]
          },
          "metadata": {
            "tags": []
          },
          "execution_count": 22
        }
      ]
    },
    {
      "cell_type": "code",
      "metadata": {
        "id": "4sHeK_r_UnD6",
        "colab_type": "code",
        "colab": {}
      },
      "source": [
        "df3['year'] = pd.to_numeric(df3['year'])"
      ],
      "execution_count": 0,
      "outputs": []
    },
    {
      "cell_type": "code",
      "metadata": {
        "id": "nYpXiQbEPpsi",
        "colab_type": "code",
        "outputId": "730177da-1ab7-4dad-a32c-be44e149d1e5",
        "colab": {
          "base_uri": "https://localhost:8080/",
          "height": 402
        }
      },
      "source": [
        "df3"
      ],
      "execution_count": 0,
      "outputs": [
        {
          "output_type": "execute_result",
          "data": {
            "text/html": [
              "<div>\n",
              "<style scoped>\n",
              "    .dataframe tbody tr th:only-of-type {\n",
              "        vertical-align: middle;\n",
              "    }\n",
              "\n",
              "    .dataframe tbody tr th {\n",
              "        vertical-align: top;\n",
              "    }\n",
              "\n",
              "    .dataframe thead th {\n",
              "        text-align: right;\n",
              "    }\n",
              "</style>\n",
              "<table border=\"1\" class=\"dataframe\">\n",
              "  <thead>\n",
              "    <tr style=\"text-align: right;\">\n",
              "      <th></th>\n",
              "      <th>University Name</th>\n",
              "      <th>IPEDS ID</th>\n",
              "      <th>year</th>\n",
              "      <th>Top50</th>\n",
              "    </tr>\n",
              "  </thead>\n",
              "  <tbody>\n",
              "    <tr>\n",
              "      <th>0</th>\n",
              "      <td>Princeton University</td>\n",
              "      <td>186131</td>\n",
              "      <td>2017</td>\n",
              "      <td>1</td>\n",
              "    </tr>\n",
              "    <tr>\n",
              "      <th>1</th>\n",
              "      <td>Harvard University</td>\n",
              "      <td>166027</td>\n",
              "      <td>2017</td>\n",
              "      <td>1</td>\n",
              "    </tr>\n",
              "    <tr>\n",
              "      <th>2</th>\n",
              "      <td>Columbia University</td>\n",
              "      <td>190150</td>\n",
              "      <td>2017</td>\n",
              "      <td>1</td>\n",
              "    </tr>\n",
              "    <tr>\n",
              "      <th>3</th>\n",
              "      <td>Massachusetts Institute of Technology</td>\n",
              "      <td>166683</td>\n",
              "      <td>2017</td>\n",
              "      <td>1</td>\n",
              "    </tr>\n",
              "    <tr>\n",
              "      <th>4</th>\n",
              "      <td>University of Chicago</td>\n",
              "      <td>144050</td>\n",
              "      <td>2017</td>\n",
              "      <td>1</td>\n",
              "    </tr>\n",
              "    <tr>\n",
              "      <th>...</th>\n",
              "      <td>...</td>\n",
              "      <td>...</td>\n",
              "      <td>...</td>\n",
              "      <td>...</td>\n",
              "    </tr>\n",
              "    <tr>\n",
              "      <th>361</th>\n",
              "      <td>Syracuse University</td>\n",
              "      <td>196413</td>\n",
              "      <td>2012</td>\n",
              "      <td>0</td>\n",
              "    </tr>\n",
              "    <tr>\n",
              "      <th>362</th>\n",
              "      <td>Texas A&amp;M University-College Station</td>\n",
              "      <td>228723</td>\n",
              "      <td>2012</td>\n",
              "      <td>0</td>\n",
              "    </tr>\n",
              "    <tr>\n",
              "      <th>363</th>\n",
              "      <td>University of Miami</td>\n",
              "      <td>135726</td>\n",
              "      <td>2012</td>\n",
              "      <td>1</td>\n",
              "    </tr>\n",
              "    <tr>\n",
              "      <th>364</th>\n",
              "      <td>University of Washington</td>\n",
              "      <td>236948</td>\n",
              "      <td>2012</td>\n",
              "      <td>1</td>\n",
              "    </tr>\n",
              "    <tr>\n",
              "      <th>365</th>\n",
              "      <td>Worcester Polytechnic Institute</td>\n",
              "      <td>168421</td>\n",
              "      <td>2012</td>\n",
              "      <td>0</td>\n",
              "    </tr>\n",
              "  </tbody>\n",
              "</table>\n",
              "<p>366 rows × 4 columns</p>\n",
              "</div>"
            ],
            "text/plain": [
              "                           University Name  IPEDS ID  year  Top50\n",
              "0                     Princeton University    186131  2017      1\n",
              "1                       Harvard University    166027  2017      1\n",
              "2                      Columbia University    190150  2017      1\n",
              "3    Massachusetts Institute of Technology    166683  2017      1\n",
              "4                    University of Chicago    144050  2017      1\n",
              "..                                     ...       ...   ...    ...\n",
              "361                    Syracuse University    196413  2012      0\n",
              "362   Texas A&M University-College Station    228723  2012      0\n",
              "363                    University of Miami    135726  2012      1\n",
              "364               University of Washington    236948  2012      1\n",
              "365        Worcester Polytechnic Institute    168421  2012      0\n",
              "\n",
              "[366 rows x 4 columns]"
            ]
          },
          "metadata": {
            "tags": []
          },
          "execution_count": 24
        }
      ]
    },
    {
      "cell_type": "code",
      "metadata": {
        "id": "mnqocb8erbZi",
        "colab_type": "code",
        "outputId": "73d76005-b423-49d1-9237-8d5953685839",
        "colab": {
          "base_uri": "https://localhost:8080/",
          "height": 67
        }
      },
      "source": [
        "print(df.shape)\n",
        "print(df2.shape)\n",
        "print(df3.shape)"
      ],
      "execution_count": 0,
      "outputs": [
        {
          "output_type": "stream",
          "text": [
            "(19315, 48)\n",
            "(18073, 11)\n",
            "(366, 4)\n"
          ],
          "name": "stdout"
        }
      ]
    },
    {
      "cell_type": "markdown",
      "metadata": {
        "id": "mOQQWs5wPt9X",
        "colab_type": "text"
      },
      "source": [
        "Merge df, df2, and df3 and inspect"
      ]
    },
    {
      "cell_type": "code",
      "metadata": {
        "id": "CGG5pCtyoj17",
        "colab_type": "code",
        "colab": {}
      },
      "source": [
        "merged = pd.merge(df2, df, how='left', left_on=['year', 'OPEID'], \n",
        "                  right_on=['year', 'opeid'])"
      ],
      "execution_count": 0,
      "outputs": []
    },
    {
      "cell_type": "code",
      "metadata": {
        "id": "8MoKtIKEWCCV",
        "colab_type": "code",
        "outputId": "c1699957-96ac-407c-9107-80726933f537",
        "colab": {
          "base_uri": "https://localhost:8080/",
          "height": 34
        }
      },
      "source": [
        "merged.shape"
      ],
      "execution_count": 0,
      "outputs": [
        {
          "output_type": "execute_result",
          "data": {
            "text/plain": [
              "(18364, 58)"
            ]
          },
          "metadata": {
            "tags": []
          },
          "execution_count": 27
        }
      ]
    },
    {
      "cell_type": "code",
      "metadata": {
        "id": "rt7sJEmv8sm1",
        "colab_type": "code",
        "outputId": "4722775d-c9a2-4a8e-f03d-6c9b81a7b7f3",
        "colab": {
          "base_uri": "https://localhost:8080/",
          "height": 686
        }
      },
      "source": [
        "merged.head()"
      ],
      "execution_count": 0,
      "outputs": [
        {
          "output_type": "execute_result",
          "data": {
            "text/html": [
              "<div>\n",
              "<style scoped>\n",
              "    .dataframe tbody tr th:only-of-type {\n",
              "        vertical-align: middle;\n",
              "    }\n",
              "\n",
              "    .dataframe tbody tr th {\n",
              "        vertical-align: top;\n",
              "    }\n",
              "\n",
              "    .dataframe thead th {\n",
              "        text-align: right;\n",
              "    }\n",
              "</style>\n",
              "<table border=\"1\" class=\"dataframe\">\n",
              "  <thead>\n",
              "    <tr style=\"text-align: right;\">\n",
              "      <th></th>\n",
              "      <th>ID</th>\n",
              "      <th>OPEID</th>\n",
              "      <th>Institution Name</th>\n",
              "      <th>City</th>\n",
              "      <th>State</th>\n",
              "      <th>Foreign Gift Received Date</th>\n",
              "      <th>Foreign Gift Amount</th>\n",
              "      <th>Gift Type</th>\n",
              "      <th>Country of Giftor</th>\n",
              "      <th>Giftor Name</th>\n",
              "      <th>year</th>\n",
              "      <th>unitid</th>\n",
              "      <th>inst_name</th>\n",
              "      <th>state_name</th>\n",
              "      <th>number_applied</th>\n",
              "      <th>number_admitted</th>\n",
              "      <th>number_enrolled_ft</th>\n",
              "      <th>number_enrolled_pt</th>\n",
              "      <th>number_enrolled_total</th>\n",
              "      <th>offering_highest_level</th>\n",
              "      <th>inst_control</th>\n",
              "      <th>institution_level</th>\n",
              "      <th>sector</th>\n",
              "      <th>hbcu</th>\n",
              "      <th>primarily_postsecondary</th>\n",
              "      <th>hospital</th>\n",
              "      <th>medical_degree</th>\n",
              "      <th>tribal_college</th>\n",
              "      <th>opeid</th>\n",
              "      <th>offering_highest_degree</th>\n",
              "      <th>title_iv_indicator</th>\n",
              "      <th>offering_undergrad</th>\n",
              "      <th>offering_grad</th>\n",
              "      <th>degree_granting</th>\n",
              "      <th>open_public</th>\n",
              "      <th>postsec_public_active</th>\n",
              "      <th>postsec_public_active_title_iv</th>\n",
              "      <th>inst_system_flag</th>\n",
              "      <th>inst_category</th>\n",
              "      <th>land_grant</th>\n",
              "      <th>inst_size</th>\n",
              "      <th>inst_alias</th>\n",
              "      <th>cc_basic_2015</th>\n",
              "      <th>inst_status</th>\n",
              "      <th>dist_ug_offered</th>\n",
              "      <th>dist_grad_offered</th>\n",
              "      <th>remedial_services</th>\n",
              "      <th>academic_counseling</th>\n",
              "      <th>employment_services</th>\n",
              "      <th>placement_services</th>\n",
              "      <th>oncampus_daycare</th>\n",
              "      <th>oncampus_housing</th>\n",
              "      <th>oncampus_required</th>\n",
              "      <th>tuition_guaranteed</th>\n",
              "      <th>prepaid_tuition</th>\n",
              "      <th>tuition_payment_plan</th>\n",
              "      <th>member_ncaa</th>\n",
              "      <th>study_abroad</th>\n",
              "    </tr>\n",
              "  </thead>\n",
              "  <tbody>\n",
              "    <tr>\n",
              "      <th>0</th>\n",
              "      <td>1</td>\n",
              "      <td>324200</td>\n",
              "      <td>Carnegie Mellon University</td>\n",
              "      <td>Pittsburgh</td>\n",
              "      <td>PA</td>\n",
              "      <td>2015-01-01</td>\n",
              "      <td>77391377.0</td>\n",
              "      <td>Contract</td>\n",
              "      <td>QATAR</td>\n",
              "      <td>Qatar Foundation for Education</td>\n",
              "      <td>2015</td>\n",
              "      <td>211440.0</td>\n",
              "      <td>Carnegie Mellon University</td>\n",
              "      <td>Pennsylvania</td>\n",
              "      <td>20547.0</td>\n",
              "      <td>4873.0</td>\n",
              "      <td>1575.0</td>\n",
              "      <td>0.0</td>\n",
              "      <td>1575.0</td>\n",
              "      <td>Doctor's degree</td>\n",
              "      <td>Private not-for-profit</td>\n",
              "      <td>Four or more years</td>\n",
              "      <td>Private not-for-profit, four-year or above</td>\n",
              "      <td>No</td>\n",
              "      <td>Yes</td>\n",
              "      <td>No</td>\n",
              "      <td>No</td>\n",
              "      <td>No</td>\n",
              "      <td>324200.0</td>\n",
              "      <td>Doctor's degree, research/scholarship</td>\n",
              "      <td>Participates in Title IV federal financial aid...</td>\n",
              "      <td>Yes</td>\n",
              "      <td>Yes</td>\n",
              "      <td>Yes</td>\n",
              "      <td>Yes</td>\n",
              "      <td>Active postsecondary institution</td>\n",
              "      <td>Title IV postsecondary institution</td>\n",
              "      <td>No</td>\n",
              "      <td>Degree-granting, primarily baccalaureate or above</td>\n",
              "      <td>No</td>\n",
              "      <td>10,000-19,999</td>\n",
              "      <td>Carnegie Mellon; CMU</td>\n",
              "      <td>Doctoral universities: highest research activity</td>\n",
              "      <td>Active - institution</td>\n",
              "      <td>Yes</td>\n",
              "      <td>Yes</td>\n",
              "      <td>No</td>\n",
              "      <td>Yes</td>\n",
              "      <td>Yes</td>\n",
              "      <td>Yes</td>\n",
              "      <td>No</td>\n",
              "      <td>Yes</td>\n",
              "      <td>No</td>\n",
              "      <td>No</td>\n",
              "      <td>No</td>\n",
              "      <td>Yes</td>\n",
              "      <td>Yes</td>\n",
              "      <td>Yes</td>\n",
              "    </tr>\n",
              "    <tr>\n",
              "      <th>1</th>\n",
              "      <td>2</td>\n",
              "      <td>143400</td>\n",
              "      <td>American University (The)</td>\n",
              "      <td>Washington</td>\n",
              "      <td>DC</td>\n",
              "      <td>2012-01-25</td>\n",
              "      <td>500000.0</td>\n",
              "      <td>Monetary Gift</td>\n",
              "      <td>BAHRAIN</td>\n",
              "      <td>Kingdom of Bahrain</td>\n",
              "      <td>2012</td>\n",
              "      <td>131159.0</td>\n",
              "      <td>American University</td>\n",
              "      <td>District of Columbia</td>\n",
              "      <td>17039.0</td>\n",
              "      <td>7531.0</td>\n",
              "      <td>1592.0</td>\n",
              "      <td>3.0</td>\n",
              "      <td>1595.0</td>\n",
              "      <td>Doctor's degree</td>\n",
              "      <td>Private not-for-profit</td>\n",
              "      <td>Four or more years</td>\n",
              "      <td>Private not-for-profit, four-year or above</td>\n",
              "      <td>No</td>\n",
              "      <td>Yes</td>\n",
              "      <td>No</td>\n",
              "      <td>No</td>\n",
              "      <td>No</td>\n",
              "      <td>143400.0</td>\n",
              "      <td>Doctor's degree, research/scholarship and prof...</td>\n",
              "      <td>Participates in Title IV federal financial aid...</td>\n",
              "      <td>Yes</td>\n",
              "      <td>Yes</td>\n",
              "      <td>Yes</td>\n",
              "      <td>Yes</td>\n",
              "      <td>Active postsecondary institution</td>\n",
              "      <td>Title IV postsecondary institution</td>\n",
              "      <td>No</td>\n",
              "      <td>Degree-granting, primarily baccalaureate or above</td>\n",
              "      <td>No</td>\n",
              "      <td>10,000-19,999</td>\n",
              "      <td></td>\n",
              "      <td>NaN</td>\n",
              "      <td>Active - institution</td>\n",
              "      <td>Yes</td>\n",
              "      <td>Yes</td>\n",
              "      <td>Yes</td>\n",
              "      <td>Yes</td>\n",
              "      <td>Yes</td>\n",
              "      <td>No</td>\n",
              "      <td>Yes</td>\n",
              "      <td>Yes</td>\n",
              "      <td>No</td>\n",
              "      <td>No</td>\n",
              "      <td>Yes</td>\n",
              "      <td>Yes</td>\n",
              "      <td>Yes</td>\n",
              "      <td>Yes</td>\n",
              "    </tr>\n",
              "    <tr>\n",
              "      <th>2</th>\n",
              "      <td>3</td>\n",
              "      <td>143400</td>\n",
              "      <td>American University (The)</td>\n",
              "      <td>Washington</td>\n",
              "      <td>DC</td>\n",
              "      <td>2013-05-28</td>\n",
              "      <td>500000.0</td>\n",
              "      <td>Monetary Gift</td>\n",
              "      <td>BAHRAIN</td>\n",
              "      <td>Sheikh Salman Bin Al-Khalifa</td>\n",
              "      <td>2013</td>\n",
              "      <td>131159.0</td>\n",
              "      <td>American University</td>\n",
              "      <td>District of Columbia</td>\n",
              "      <td>17545.0</td>\n",
              "      <td>7566.0</td>\n",
              "      <td>1624.0</td>\n",
              "      <td>3.0</td>\n",
              "      <td>1627.0</td>\n",
              "      <td>Doctor's degree</td>\n",
              "      <td>Private not-for-profit</td>\n",
              "      <td>Four or more years</td>\n",
              "      <td>Private not-for-profit, four-year or above</td>\n",
              "      <td>No</td>\n",
              "      <td>Yes</td>\n",
              "      <td>No</td>\n",
              "      <td>No</td>\n",
              "      <td>No</td>\n",
              "      <td>143400.0</td>\n",
              "      <td>Doctor's degree, research/scholarship and prof...</td>\n",
              "      <td>Participates in Title IV federal financial aid...</td>\n",
              "      <td>Yes</td>\n",
              "      <td>Yes</td>\n",
              "      <td>Yes</td>\n",
              "      <td>Yes</td>\n",
              "      <td>Active postsecondary institution</td>\n",
              "      <td>Title IV postsecondary institution</td>\n",
              "      <td>No</td>\n",
              "      <td>Degree-granting, primarily baccalaureate or above</td>\n",
              "      <td>No</td>\n",
              "      <td>10,000-19,999</td>\n",
              "      <td></td>\n",
              "      <td>NaN</td>\n",
              "      <td>Active - institution</td>\n",
              "      <td>Yes</td>\n",
              "      <td>Yes</td>\n",
              "      <td>Yes</td>\n",
              "      <td>Yes</td>\n",
              "      <td>Yes</td>\n",
              "      <td>No</td>\n",
              "      <td>Yes</td>\n",
              "      <td>Yes</td>\n",
              "      <td>No</td>\n",
              "      <td>No</td>\n",
              "      <td>Yes</td>\n",
              "      <td>Yes</td>\n",
              "      <td>Yes</td>\n",
              "      <td>Yes</td>\n",
              "    </tr>\n",
              "    <tr>\n",
              "      <th>3</th>\n",
              "      <td>4</td>\n",
              "      <td>143400</td>\n",
              "      <td>American University (The)</td>\n",
              "      <td>Washington</td>\n",
              "      <td>DC</td>\n",
              "      <td>2015-09-10</td>\n",
              "      <td>500000.0</td>\n",
              "      <td>Monetary Gift</td>\n",
              "      <td>KUWAIT</td>\n",
              "      <td>NaN</td>\n",
              "      <td>2015</td>\n",
              "      <td>131159.0</td>\n",
              "      <td>American University</td>\n",
              "      <td>District of Columbia</td>\n",
              "      <td>16735.0</td>\n",
              "      <td>5860.0</td>\n",
              "      <td>1779.0</td>\n",
              "      <td>8.0</td>\n",
              "      <td>1787.0</td>\n",
              "      <td>Doctor's degree</td>\n",
              "      <td>Private not-for-profit</td>\n",
              "      <td>Four or more years</td>\n",
              "      <td>Private not-for-profit, four-year or above</td>\n",
              "      <td>No</td>\n",
              "      <td>Yes</td>\n",
              "      <td>No</td>\n",
              "      <td>No</td>\n",
              "      <td>No</td>\n",
              "      <td>143400.0</td>\n",
              "      <td>Doctor's degree, research/scholarship and prof...</td>\n",
              "      <td>Participates in Title IV federal financial aid...</td>\n",
              "      <td>Yes</td>\n",
              "      <td>Yes</td>\n",
              "      <td>Yes</td>\n",
              "      <td>Yes</td>\n",
              "      <td>Active postsecondary institution</td>\n",
              "      <td>Title IV postsecondary institution</td>\n",
              "      <td>No</td>\n",
              "      <td>Degree-granting, primarily baccalaureate or above</td>\n",
              "      <td>No</td>\n",
              "      <td>10,000-19,999</td>\n",
              "      <td></td>\n",
              "      <td>Doctoral universities: higher research activity</td>\n",
              "      <td>Active - institution</td>\n",
              "      <td>Yes</td>\n",
              "      <td>Yes</td>\n",
              "      <td>Yes</td>\n",
              "      <td>Yes</td>\n",
              "      <td>Yes</td>\n",
              "      <td>No</td>\n",
              "      <td>Yes</td>\n",
              "      <td>Yes</td>\n",
              "      <td>No</td>\n",
              "      <td>No</td>\n",
              "      <td>Yes</td>\n",
              "      <td>Yes</td>\n",
              "      <td>Yes</td>\n",
              "      <td>Yes</td>\n",
              "    </tr>\n",
              "    <tr>\n",
              "      <th>4</th>\n",
              "      <td>5</td>\n",
              "      <td>143400</td>\n",
              "      <td>American University (The)</td>\n",
              "      <td>Washington</td>\n",
              "      <td>DC</td>\n",
              "      <td>2012-05-17</td>\n",
              "      <td>610000.0</td>\n",
              "      <td>Monetary Gift</td>\n",
              "      <td>ENGLAND</td>\n",
              "      <td>NaN</td>\n",
              "      <td>2012</td>\n",
              "      <td>131159.0</td>\n",
              "      <td>American University</td>\n",
              "      <td>District of Columbia</td>\n",
              "      <td>17039.0</td>\n",
              "      <td>7531.0</td>\n",
              "      <td>1592.0</td>\n",
              "      <td>3.0</td>\n",
              "      <td>1595.0</td>\n",
              "      <td>Doctor's degree</td>\n",
              "      <td>Private not-for-profit</td>\n",
              "      <td>Four or more years</td>\n",
              "      <td>Private not-for-profit, four-year or above</td>\n",
              "      <td>No</td>\n",
              "      <td>Yes</td>\n",
              "      <td>No</td>\n",
              "      <td>No</td>\n",
              "      <td>No</td>\n",
              "      <td>143400.0</td>\n",
              "      <td>Doctor's degree, research/scholarship and prof...</td>\n",
              "      <td>Participates in Title IV federal financial aid...</td>\n",
              "      <td>Yes</td>\n",
              "      <td>Yes</td>\n",
              "      <td>Yes</td>\n",
              "      <td>Yes</td>\n",
              "      <td>Active postsecondary institution</td>\n",
              "      <td>Title IV postsecondary institution</td>\n",
              "      <td>No</td>\n",
              "      <td>Degree-granting, primarily baccalaureate or above</td>\n",
              "      <td>No</td>\n",
              "      <td>10,000-19,999</td>\n",
              "      <td></td>\n",
              "      <td>NaN</td>\n",
              "      <td>Active - institution</td>\n",
              "      <td>Yes</td>\n",
              "      <td>Yes</td>\n",
              "      <td>Yes</td>\n",
              "      <td>Yes</td>\n",
              "      <td>Yes</td>\n",
              "      <td>No</td>\n",
              "      <td>Yes</td>\n",
              "      <td>Yes</td>\n",
              "      <td>No</td>\n",
              "      <td>No</td>\n",
              "      <td>Yes</td>\n",
              "      <td>Yes</td>\n",
              "      <td>Yes</td>\n",
              "      <td>Yes</td>\n",
              "    </tr>\n",
              "  </tbody>\n",
              "</table>\n",
              "</div>"
            ],
            "text/plain": [
              "   ID   OPEID  ... member_ncaa study_abroad\n",
              "0   1  324200  ...         Yes          Yes\n",
              "1   2  143400  ...         Yes          Yes\n",
              "2   3  143400  ...         Yes          Yes\n",
              "3   4  143400  ...         Yes          Yes\n",
              "4   5  143400  ...         Yes          Yes\n",
              "\n",
              "[5 rows x 58 columns]"
            ]
          },
          "metadata": {
            "tags": []
          },
          "execution_count": 28
        }
      ]
    },
    {
      "cell_type": "code",
      "metadata": {
        "id": "kQiSBGpGsJ-h",
        "colab_type": "code",
        "outputId": "6c584a24-4ca1-4b31-f654-4ac9016d0f63",
        "colab": {
          "base_uri": "https://localhost:8080/",
          "height": 1000
        }
      },
      "source": [
        "merged.info()"
      ],
      "execution_count": 0,
      "outputs": [
        {
          "output_type": "stream",
          "text": [
            "<class 'pandas.core.frame.DataFrame'>\n",
            "Int64Index: 18364 entries, 0 to 18363\n",
            "Data columns (total 58 columns):\n",
            "ID                                18364 non-null int64\n",
            "OPEID                             18364 non-null int64\n",
            "Institution Name                  18364 non-null object\n",
            "City                              18364 non-null object\n",
            "State                             18364 non-null object\n",
            "Foreign Gift Received Date        18364 non-null datetime64[ns]\n",
            "Foreign Gift Amount               18364 non-null float64\n",
            "Gift Type                         18364 non-null object\n",
            "Country of Giftor                 18364 non-null object\n",
            "Giftor Name                       15673 non-null object\n",
            "year                              18364 non-null int64\n",
            "unitid                            18360 non-null float64\n",
            "inst_name                         18360 non-null object\n",
            "state_name                        18360 non-null object\n",
            "number_applied                    17843 non-null float64\n",
            "number_admitted                   17843 non-null float64\n",
            "number_enrolled_ft                17843 non-null float64\n",
            "number_enrolled_pt                12994 non-null float64\n",
            "number_enrolled_total             17843 non-null float64\n",
            "offering_highest_level            18360 non-null object\n",
            "inst_control                      18360 non-null object\n",
            "institution_level                 18360 non-null object\n",
            "sector                            18360 non-null object\n",
            "hbcu                              18360 non-null object\n",
            "primarily_postsecondary           18360 non-null object\n",
            "hospital                          18360 non-null object\n",
            "medical_degree                    18360 non-null object\n",
            "tribal_college                    18360 non-null object\n",
            "opeid                             18360 non-null float64\n",
            "offering_highest_degree           18360 non-null object\n",
            "title_iv_indicator                18360 non-null object\n",
            "offering_undergrad                18360 non-null object\n",
            "offering_grad                     18360 non-null object\n",
            "degree_granting                   18360 non-null object\n",
            "open_public                       18360 non-null object\n",
            "postsec_public_active             18360 non-null object\n",
            "postsec_public_active_title_iv    18360 non-null object\n",
            "inst_system_flag                  18360 non-null object\n",
            "inst_category                     18360 non-null object\n",
            "land_grant                        18360 non-null object\n",
            "inst_size                         18360 non-null object\n",
            "inst_alias                        18360 non-null object\n",
            "cc_basic_2015                     10639 non-null object\n",
            "inst_status                       18360 non-null object\n",
            "dist_ug_offered                   18354 non-null object\n",
            "dist_grad_offered                 18354 non-null object\n",
            "remedial_services                 18354 non-null object\n",
            "academic_counseling               18354 non-null object\n",
            "employment_services               18354 non-null object\n",
            "placement_services                18354 non-null object\n",
            "oncampus_daycare                  18354 non-null object\n",
            "oncampus_housing                  18354 non-null object\n",
            "oncampus_required                 18354 non-null object\n",
            "tuition_guaranteed                18354 non-null object\n",
            "prepaid_tuition                   18354 non-null object\n",
            "tuition_payment_plan              18354 non-null object\n",
            "member_ncaa                       18354 non-null object\n",
            "study_abroad                      18354 non-null object\n",
            "dtypes: datetime64[ns](1), float64(8), int64(3), object(46)\n",
            "memory usage: 8.3+ MB\n"
          ],
          "name": "stdout"
        }
      ]
    },
    {
      "cell_type": "code",
      "metadata": {
        "id": "jODBGKylWshp",
        "colab_type": "code",
        "colab": {}
      },
      "source": [
        "merged_2 = pd.merge(merged, df3, how='left', left_on=['year', 'unitid'], \n",
        "                    right_on=['year', 'IPEDS ID'])"
      ],
      "execution_count": 0,
      "outputs": []
    },
    {
      "cell_type": "code",
      "metadata": {
        "id": "3lNX1ytJZfZ-",
        "colab_type": "code",
        "outputId": "9fa0bb70-0320-4198-c190-b609ad0c3dc5",
        "colab": {
          "base_uri": "https://localhost:8080/",
          "height": 34
        }
      },
      "source": [
        "merged_2.shape"
      ],
      "execution_count": 0,
      "outputs": [
        {
          "output_type": "execute_result",
          "data": {
            "text/plain": [
              "(18364, 61)"
            ]
          },
          "metadata": {
            "tags": []
          },
          "execution_count": 31
        }
      ]
    },
    {
      "cell_type": "code",
      "metadata": {
        "id": "fCbd4gX4XIon",
        "colab_type": "code",
        "outputId": "b5d53b2e-c150-47b3-9e00-02f8f7378257",
        "colab": {
          "base_uri": "https://localhost:8080/",
          "height": 686
        }
      },
      "source": [
        "merged_2.head()"
      ],
      "execution_count": 0,
      "outputs": [
        {
          "output_type": "execute_result",
          "data": {
            "text/html": [
              "<div>\n",
              "<style scoped>\n",
              "    .dataframe tbody tr th:only-of-type {\n",
              "        vertical-align: middle;\n",
              "    }\n",
              "\n",
              "    .dataframe tbody tr th {\n",
              "        vertical-align: top;\n",
              "    }\n",
              "\n",
              "    .dataframe thead th {\n",
              "        text-align: right;\n",
              "    }\n",
              "</style>\n",
              "<table border=\"1\" class=\"dataframe\">\n",
              "  <thead>\n",
              "    <tr style=\"text-align: right;\">\n",
              "      <th></th>\n",
              "      <th>ID</th>\n",
              "      <th>OPEID</th>\n",
              "      <th>Institution Name</th>\n",
              "      <th>City</th>\n",
              "      <th>State</th>\n",
              "      <th>Foreign Gift Received Date</th>\n",
              "      <th>Foreign Gift Amount</th>\n",
              "      <th>Gift Type</th>\n",
              "      <th>Country of Giftor</th>\n",
              "      <th>Giftor Name</th>\n",
              "      <th>year</th>\n",
              "      <th>unitid</th>\n",
              "      <th>inst_name</th>\n",
              "      <th>state_name</th>\n",
              "      <th>number_applied</th>\n",
              "      <th>number_admitted</th>\n",
              "      <th>number_enrolled_ft</th>\n",
              "      <th>number_enrolled_pt</th>\n",
              "      <th>number_enrolled_total</th>\n",
              "      <th>offering_highest_level</th>\n",
              "      <th>inst_control</th>\n",
              "      <th>institution_level</th>\n",
              "      <th>sector</th>\n",
              "      <th>hbcu</th>\n",
              "      <th>primarily_postsecondary</th>\n",
              "      <th>hospital</th>\n",
              "      <th>medical_degree</th>\n",
              "      <th>tribal_college</th>\n",
              "      <th>opeid</th>\n",
              "      <th>offering_highest_degree</th>\n",
              "      <th>title_iv_indicator</th>\n",
              "      <th>offering_undergrad</th>\n",
              "      <th>offering_grad</th>\n",
              "      <th>degree_granting</th>\n",
              "      <th>open_public</th>\n",
              "      <th>postsec_public_active</th>\n",
              "      <th>postsec_public_active_title_iv</th>\n",
              "      <th>inst_system_flag</th>\n",
              "      <th>inst_category</th>\n",
              "      <th>land_grant</th>\n",
              "      <th>inst_size</th>\n",
              "      <th>inst_alias</th>\n",
              "      <th>cc_basic_2015</th>\n",
              "      <th>inst_status</th>\n",
              "      <th>dist_ug_offered</th>\n",
              "      <th>dist_grad_offered</th>\n",
              "      <th>remedial_services</th>\n",
              "      <th>academic_counseling</th>\n",
              "      <th>employment_services</th>\n",
              "      <th>placement_services</th>\n",
              "      <th>oncampus_daycare</th>\n",
              "      <th>oncampus_housing</th>\n",
              "      <th>oncampus_required</th>\n",
              "      <th>tuition_guaranteed</th>\n",
              "      <th>prepaid_tuition</th>\n",
              "      <th>tuition_payment_plan</th>\n",
              "      <th>member_ncaa</th>\n",
              "      <th>study_abroad</th>\n",
              "      <th>University Name</th>\n",
              "      <th>IPEDS ID</th>\n",
              "      <th>Top50</th>\n",
              "    </tr>\n",
              "  </thead>\n",
              "  <tbody>\n",
              "    <tr>\n",
              "      <th>0</th>\n",
              "      <td>1</td>\n",
              "      <td>324200</td>\n",
              "      <td>Carnegie Mellon University</td>\n",
              "      <td>Pittsburgh</td>\n",
              "      <td>PA</td>\n",
              "      <td>2015-01-01</td>\n",
              "      <td>77391377.0</td>\n",
              "      <td>Contract</td>\n",
              "      <td>QATAR</td>\n",
              "      <td>Qatar Foundation for Education</td>\n",
              "      <td>2015</td>\n",
              "      <td>211440.0</td>\n",
              "      <td>Carnegie Mellon University</td>\n",
              "      <td>Pennsylvania</td>\n",
              "      <td>20547.0</td>\n",
              "      <td>4873.0</td>\n",
              "      <td>1575.0</td>\n",
              "      <td>0.0</td>\n",
              "      <td>1575.0</td>\n",
              "      <td>Doctor's degree</td>\n",
              "      <td>Private not-for-profit</td>\n",
              "      <td>Four or more years</td>\n",
              "      <td>Private not-for-profit, four-year or above</td>\n",
              "      <td>No</td>\n",
              "      <td>Yes</td>\n",
              "      <td>No</td>\n",
              "      <td>No</td>\n",
              "      <td>No</td>\n",
              "      <td>324200.0</td>\n",
              "      <td>Doctor's degree, research/scholarship</td>\n",
              "      <td>Participates in Title IV federal financial aid...</td>\n",
              "      <td>Yes</td>\n",
              "      <td>Yes</td>\n",
              "      <td>Yes</td>\n",
              "      <td>Yes</td>\n",
              "      <td>Active postsecondary institution</td>\n",
              "      <td>Title IV postsecondary institution</td>\n",
              "      <td>No</td>\n",
              "      <td>Degree-granting, primarily baccalaureate or above</td>\n",
              "      <td>No</td>\n",
              "      <td>10,000-19,999</td>\n",
              "      <td>Carnegie Mellon; CMU</td>\n",
              "      <td>Doctoral universities: highest research activity</td>\n",
              "      <td>Active - institution</td>\n",
              "      <td>Yes</td>\n",
              "      <td>Yes</td>\n",
              "      <td>No</td>\n",
              "      <td>Yes</td>\n",
              "      <td>Yes</td>\n",
              "      <td>Yes</td>\n",
              "      <td>No</td>\n",
              "      <td>Yes</td>\n",
              "      <td>No</td>\n",
              "      <td>No</td>\n",
              "      <td>No</td>\n",
              "      <td>Yes</td>\n",
              "      <td>Yes</td>\n",
              "      <td>Yes</td>\n",
              "      <td>Carnegie Mellon University</td>\n",
              "      <td>211440.0</td>\n",
              "      <td>1.0</td>\n",
              "    </tr>\n",
              "    <tr>\n",
              "      <th>1</th>\n",
              "      <td>2</td>\n",
              "      <td>143400</td>\n",
              "      <td>American University (The)</td>\n",
              "      <td>Washington</td>\n",
              "      <td>DC</td>\n",
              "      <td>2012-01-25</td>\n",
              "      <td>500000.0</td>\n",
              "      <td>Monetary Gift</td>\n",
              "      <td>BAHRAIN</td>\n",
              "      <td>Kingdom of Bahrain</td>\n",
              "      <td>2012</td>\n",
              "      <td>131159.0</td>\n",
              "      <td>American University</td>\n",
              "      <td>District of Columbia</td>\n",
              "      <td>17039.0</td>\n",
              "      <td>7531.0</td>\n",
              "      <td>1592.0</td>\n",
              "      <td>3.0</td>\n",
              "      <td>1595.0</td>\n",
              "      <td>Doctor's degree</td>\n",
              "      <td>Private not-for-profit</td>\n",
              "      <td>Four or more years</td>\n",
              "      <td>Private not-for-profit, four-year or above</td>\n",
              "      <td>No</td>\n",
              "      <td>Yes</td>\n",
              "      <td>No</td>\n",
              "      <td>No</td>\n",
              "      <td>No</td>\n",
              "      <td>143400.0</td>\n",
              "      <td>Doctor's degree, research/scholarship and prof...</td>\n",
              "      <td>Participates in Title IV federal financial aid...</td>\n",
              "      <td>Yes</td>\n",
              "      <td>Yes</td>\n",
              "      <td>Yes</td>\n",
              "      <td>Yes</td>\n",
              "      <td>Active postsecondary institution</td>\n",
              "      <td>Title IV postsecondary institution</td>\n",
              "      <td>No</td>\n",
              "      <td>Degree-granting, primarily baccalaureate or above</td>\n",
              "      <td>No</td>\n",
              "      <td>10,000-19,999</td>\n",
              "      <td></td>\n",
              "      <td>NaN</td>\n",
              "      <td>Active - institution</td>\n",
              "      <td>Yes</td>\n",
              "      <td>Yes</td>\n",
              "      <td>Yes</td>\n",
              "      <td>Yes</td>\n",
              "      <td>Yes</td>\n",
              "      <td>No</td>\n",
              "      <td>Yes</td>\n",
              "      <td>Yes</td>\n",
              "      <td>No</td>\n",
              "      <td>No</td>\n",
              "      <td>Yes</td>\n",
              "      <td>Yes</td>\n",
              "      <td>Yes</td>\n",
              "      <td>Yes</td>\n",
              "      <td>NaN</td>\n",
              "      <td>NaN</td>\n",
              "      <td>NaN</td>\n",
              "    </tr>\n",
              "    <tr>\n",
              "      <th>2</th>\n",
              "      <td>3</td>\n",
              "      <td>143400</td>\n",
              "      <td>American University (The)</td>\n",
              "      <td>Washington</td>\n",
              "      <td>DC</td>\n",
              "      <td>2013-05-28</td>\n",
              "      <td>500000.0</td>\n",
              "      <td>Monetary Gift</td>\n",
              "      <td>BAHRAIN</td>\n",
              "      <td>Sheikh Salman Bin Al-Khalifa</td>\n",
              "      <td>2013</td>\n",
              "      <td>131159.0</td>\n",
              "      <td>American University</td>\n",
              "      <td>District of Columbia</td>\n",
              "      <td>17545.0</td>\n",
              "      <td>7566.0</td>\n",
              "      <td>1624.0</td>\n",
              "      <td>3.0</td>\n",
              "      <td>1627.0</td>\n",
              "      <td>Doctor's degree</td>\n",
              "      <td>Private not-for-profit</td>\n",
              "      <td>Four or more years</td>\n",
              "      <td>Private not-for-profit, four-year or above</td>\n",
              "      <td>No</td>\n",
              "      <td>Yes</td>\n",
              "      <td>No</td>\n",
              "      <td>No</td>\n",
              "      <td>No</td>\n",
              "      <td>143400.0</td>\n",
              "      <td>Doctor's degree, research/scholarship and prof...</td>\n",
              "      <td>Participates in Title IV federal financial aid...</td>\n",
              "      <td>Yes</td>\n",
              "      <td>Yes</td>\n",
              "      <td>Yes</td>\n",
              "      <td>Yes</td>\n",
              "      <td>Active postsecondary institution</td>\n",
              "      <td>Title IV postsecondary institution</td>\n",
              "      <td>No</td>\n",
              "      <td>Degree-granting, primarily baccalaureate or above</td>\n",
              "      <td>No</td>\n",
              "      <td>10,000-19,999</td>\n",
              "      <td></td>\n",
              "      <td>NaN</td>\n",
              "      <td>Active - institution</td>\n",
              "      <td>Yes</td>\n",
              "      <td>Yes</td>\n",
              "      <td>Yes</td>\n",
              "      <td>Yes</td>\n",
              "      <td>Yes</td>\n",
              "      <td>No</td>\n",
              "      <td>Yes</td>\n",
              "      <td>Yes</td>\n",
              "      <td>No</td>\n",
              "      <td>No</td>\n",
              "      <td>Yes</td>\n",
              "      <td>Yes</td>\n",
              "      <td>Yes</td>\n",
              "      <td>Yes</td>\n",
              "      <td>NaN</td>\n",
              "      <td>NaN</td>\n",
              "      <td>NaN</td>\n",
              "    </tr>\n",
              "    <tr>\n",
              "      <th>3</th>\n",
              "      <td>4</td>\n",
              "      <td>143400</td>\n",
              "      <td>American University (The)</td>\n",
              "      <td>Washington</td>\n",
              "      <td>DC</td>\n",
              "      <td>2015-09-10</td>\n",
              "      <td>500000.0</td>\n",
              "      <td>Monetary Gift</td>\n",
              "      <td>KUWAIT</td>\n",
              "      <td>NaN</td>\n",
              "      <td>2015</td>\n",
              "      <td>131159.0</td>\n",
              "      <td>American University</td>\n",
              "      <td>District of Columbia</td>\n",
              "      <td>16735.0</td>\n",
              "      <td>5860.0</td>\n",
              "      <td>1779.0</td>\n",
              "      <td>8.0</td>\n",
              "      <td>1787.0</td>\n",
              "      <td>Doctor's degree</td>\n",
              "      <td>Private not-for-profit</td>\n",
              "      <td>Four or more years</td>\n",
              "      <td>Private not-for-profit, four-year or above</td>\n",
              "      <td>No</td>\n",
              "      <td>Yes</td>\n",
              "      <td>No</td>\n",
              "      <td>No</td>\n",
              "      <td>No</td>\n",
              "      <td>143400.0</td>\n",
              "      <td>Doctor's degree, research/scholarship and prof...</td>\n",
              "      <td>Participates in Title IV federal financial aid...</td>\n",
              "      <td>Yes</td>\n",
              "      <td>Yes</td>\n",
              "      <td>Yes</td>\n",
              "      <td>Yes</td>\n",
              "      <td>Active postsecondary institution</td>\n",
              "      <td>Title IV postsecondary institution</td>\n",
              "      <td>No</td>\n",
              "      <td>Degree-granting, primarily baccalaureate or above</td>\n",
              "      <td>No</td>\n",
              "      <td>10,000-19,999</td>\n",
              "      <td></td>\n",
              "      <td>Doctoral universities: higher research activity</td>\n",
              "      <td>Active - institution</td>\n",
              "      <td>Yes</td>\n",
              "      <td>Yes</td>\n",
              "      <td>Yes</td>\n",
              "      <td>Yes</td>\n",
              "      <td>Yes</td>\n",
              "      <td>No</td>\n",
              "      <td>Yes</td>\n",
              "      <td>Yes</td>\n",
              "      <td>No</td>\n",
              "      <td>No</td>\n",
              "      <td>Yes</td>\n",
              "      <td>Yes</td>\n",
              "      <td>Yes</td>\n",
              "      <td>Yes</td>\n",
              "      <td>NaN</td>\n",
              "      <td>NaN</td>\n",
              "      <td>NaN</td>\n",
              "    </tr>\n",
              "    <tr>\n",
              "      <th>4</th>\n",
              "      <td>5</td>\n",
              "      <td>143400</td>\n",
              "      <td>American University (The)</td>\n",
              "      <td>Washington</td>\n",
              "      <td>DC</td>\n",
              "      <td>2012-05-17</td>\n",
              "      <td>610000.0</td>\n",
              "      <td>Monetary Gift</td>\n",
              "      <td>ENGLAND</td>\n",
              "      <td>NaN</td>\n",
              "      <td>2012</td>\n",
              "      <td>131159.0</td>\n",
              "      <td>American University</td>\n",
              "      <td>District of Columbia</td>\n",
              "      <td>17039.0</td>\n",
              "      <td>7531.0</td>\n",
              "      <td>1592.0</td>\n",
              "      <td>3.0</td>\n",
              "      <td>1595.0</td>\n",
              "      <td>Doctor's degree</td>\n",
              "      <td>Private not-for-profit</td>\n",
              "      <td>Four or more years</td>\n",
              "      <td>Private not-for-profit, four-year or above</td>\n",
              "      <td>No</td>\n",
              "      <td>Yes</td>\n",
              "      <td>No</td>\n",
              "      <td>No</td>\n",
              "      <td>No</td>\n",
              "      <td>143400.0</td>\n",
              "      <td>Doctor's degree, research/scholarship and prof...</td>\n",
              "      <td>Participates in Title IV federal financial aid...</td>\n",
              "      <td>Yes</td>\n",
              "      <td>Yes</td>\n",
              "      <td>Yes</td>\n",
              "      <td>Yes</td>\n",
              "      <td>Active postsecondary institution</td>\n",
              "      <td>Title IV postsecondary institution</td>\n",
              "      <td>No</td>\n",
              "      <td>Degree-granting, primarily baccalaureate or above</td>\n",
              "      <td>No</td>\n",
              "      <td>10,000-19,999</td>\n",
              "      <td></td>\n",
              "      <td>NaN</td>\n",
              "      <td>Active - institution</td>\n",
              "      <td>Yes</td>\n",
              "      <td>Yes</td>\n",
              "      <td>Yes</td>\n",
              "      <td>Yes</td>\n",
              "      <td>Yes</td>\n",
              "      <td>No</td>\n",
              "      <td>Yes</td>\n",
              "      <td>Yes</td>\n",
              "      <td>No</td>\n",
              "      <td>No</td>\n",
              "      <td>Yes</td>\n",
              "      <td>Yes</td>\n",
              "      <td>Yes</td>\n",
              "      <td>Yes</td>\n",
              "      <td>NaN</td>\n",
              "      <td>NaN</td>\n",
              "      <td>NaN</td>\n",
              "    </tr>\n",
              "  </tbody>\n",
              "</table>\n",
              "</div>"
            ],
            "text/plain": [
              "   ID   OPEID  ...  IPEDS ID Top50\n",
              "0   1  324200  ...  211440.0   1.0\n",
              "1   2  143400  ...       NaN   NaN\n",
              "2   3  143400  ...       NaN   NaN\n",
              "3   4  143400  ...       NaN   NaN\n",
              "4   5  143400  ...       NaN   NaN\n",
              "\n",
              "[5 rows x 61 columns]"
            ]
          },
          "metadata": {
            "tags": []
          },
          "execution_count": 32
        }
      ]
    },
    {
      "cell_type": "code",
      "metadata": {
        "id": "2piiq14aagxS",
        "colab_type": "code",
        "outputId": "29b7f465-5716-4e9d-97eb-d0bc861a9edd",
        "colab": {
          "base_uri": "https://localhost:8080/",
          "height": 1000
        }
      },
      "source": [
        "merged_2.rename(columns=dict([(x,x.strip()) for x in merged_2.columns]))"
      ],
      "execution_count": 0,
      "outputs": [
        {
          "output_type": "execute_result",
          "data": {
            "text/html": [
              "<div>\n",
              "<style scoped>\n",
              "    .dataframe tbody tr th:only-of-type {\n",
              "        vertical-align: middle;\n",
              "    }\n",
              "\n",
              "    .dataframe tbody tr th {\n",
              "        vertical-align: top;\n",
              "    }\n",
              "\n",
              "    .dataframe thead th {\n",
              "        text-align: right;\n",
              "    }\n",
              "</style>\n",
              "<table border=\"1\" class=\"dataframe\">\n",
              "  <thead>\n",
              "    <tr style=\"text-align: right;\">\n",
              "      <th></th>\n",
              "      <th>ID</th>\n",
              "      <th>OPEID</th>\n",
              "      <th>Institution Name</th>\n",
              "      <th>City</th>\n",
              "      <th>State</th>\n",
              "      <th>Foreign Gift Received Date</th>\n",
              "      <th>Foreign Gift Amount</th>\n",
              "      <th>Gift Type</th>\n",
              "      <th>Country of Giftor</th>\n",
              "      <th>Giftor Name</th>\n",
              "      <th>year</th>\n",
              "      <th>unitid</th>\n",
              "      <th>inst_name</th>\n",
              "      <th>state_name</th>\n",
              "      <th>number_applied</th>\n",
              "      <th>number_admitted</th>\n",
              "      <th>number_enrolled_ft</th>\n",
              "      <th>number_enrolled_pt</th>\n",
              "      <th>number_enrolled_total</th>\n",
              "      <th>offering_highest_level</th>\n",
              "      <th>inst_control</th>\n",
              "      <th>institution_level</th>\n",
              "      <th>sector</th>\n",
              "      <th>hbcu</th>\n",
              "      <th>primarily_postsecondary</th>\n",
              "      <th>hospital</th>\n",
              "      <th>medical_degree</th>\n",
              "      <th>tribal_college</th>\n",
              "      <th>opeid</th>\n",
              "      <th>offering_highest_degree</th>\n",
              "      <th>title_iv_indicator</th>\n",
              "      <th>offering_undergrad</th>\n",
              "      <th>offering_grad</th>\n",
              "      <th>degree_granting</th>\n",
              "      <th>open_public</th>\n",
              "      <th>postsec_public_active</th>\n",
              "      <th>postsec_public_active_title_iv</th>\n",
              "      <th>inst_system_flag</th>\n",
              "      <th>inst_category</th>\n",
              "      <th>land_grant</th>\n",
              "      <th>inst_size</th>\n",
              "      <th>inst_alias</th>\n",
              "      <th>cc_basic_2015</th>\n",
              "      <th>inst_status</th>\n",
              "      <th>dist_ug_offered</th>\n",
              "      <th>dist_grad_offered</th>\n",
              "      <th>remedial_services</th>\n",
              "      <th>academic_counseling</th>\n",
              "      <th>employment_services</th>\n",
              "      <th>placement_services</th>\n",
              "      <th>oncampus_daycare</th>\n",
              "      <th>oncampus_housing</th>\n",
              "      <th>oncampus_required</th>\n",
              "      <th>tuition_guaranteed</th>\n",
              "      <th>prepaid_tuition</th>\n",
              "      <th>tuition_payment_plan</th>\n",
              "      <th>member_ncaa</th>\n",
              "      <th>study_abroad</th>\n",
              "      <th>University Name</th>\n",
              "      <th>IPEDS ID</th>\n",
              "      <th>Top50</th>\n",
              "    </tr>\n",
              "  </thead>\n",
              "  <tbody>\n",
              "    <tr>\n",
              "      <th>0</th>\n",
              "      <td>1</td>\n",
              "      <td>324200</td>\n",
              "      <td>Carnegie Mellon University</td>\n",
              "      <td>Pittsburgh</td>\n",
              "      <td>PA</td>\n",
              "      <td>2015-01-01</td>\n",
              "      <td>77391377.0</td>\n",
              "      <td>Contract</td>\n",
              "      <td>QATAR</td>\n",
              "      <td>Qatar Foundation for Education</td>\n",
              "      <td>2015</td>\n",
              "      <td>211440.0</td>\n",
              "      <td>Carnegie Mellon University</td>\n",
              "      <td>Pennsylvania</td>\n",
              "      <td>20547.0</td>\n",
              "      <td>4873.0</td>\n",
              "      <td>1575.0</td>\n",
              "      <td>0.0</td>\n",
              "      <td>1575.0</td>\n",
              "      <td>Doctor's degree</td>\n",
              "      <td>Private not-for-profit</td>\n",
              "      <td>Four or more years</td>\n",
              "      <td>Private not-for-profit, four-year or above</td>\n",
              "      <td>No</td>\n",
              "      <td>Yes</td>\n",
              "      <td>No</td>\n",
              "      <td>No</td>\n",
              "      <td>No</td>\n",
              "      <td>324200.0</td>\n",
              "      <td>Doctor's degree, research/scholarship</td>\n",
              "      <td>Participates in Title IV federal financial aid...</td>\n",
              "      <td>Yes</td>\n",
              "      <td>Yes</td>\n",
              "      <td>Yes</td>\n",
              "      <td>Yes</td>\n",
              "      <td>Active postsecondary institution</td>\n",
              "      <td>Title IV postsecondary institution</td>\n",
              "      <td>No</td>\n",
              "      <td>Degree-granting, primarily baccalaureate or above</td>\n",
              "      <td>No</td>\n",
              "      <td>10,000-19,999</td>\n",
              "      <td>Carnegie Mellon; CMU</td>\n",
              "      <td>Doctoral universities: highest research activity</td>\n",
              "      <td>Active - institution</td>\n",
              "      <td>Yes</td>\n",
              "      <td>Yes</td>\n",
              "      <td>No</td>\n",
              "      <td>Yes</td>\n",
              "      <td>Yes</td>\n",
              "      <td>Yes</td>\n",
              "      <td>No</td>\n",
              "      <td>Yes</td>\n",
              "      <td>No</td>\n",
              "      <td>No</td>\n",
              "      <td>No</td>\n",
              "      <td>Yes</td>\n",
              "      <td>Yes</td>\n",
              "      <td>Yes</td>\n",
              "      <td>Carnegie Mellon University</td>\n",
              "      <td>211440.0</td>\n",
              "      <td>1.0</td>\n",
              "    </tr>\n",
              "    <tr>\n",
              "      <th>1</th>\n",
              "      <td>2</td>\n",
              "      <td>143400</td>\n",
              "      <td>American University (The)</td>\n",
              "      <td>Washington</td>\n",
              "      <td>DC</td>\n",
              "      <td>2012-01-25</td>\n",
              "      <td>500000.0</td>\n",
              "      <td>Monetary Gift</td>\n",
              "      <td>BAHRAIN</td>\n",
              "      <td>Kingdom of Bahrain</td>\n",
              "      <td>2012</td>\n",
              "      <td>131159.0</td>\n",
              "      <td>American University</td>\n",
              "      <td>District of Columbia</td>\n",
              "      <td>17039.0</td>\n",
              "      <td>7531.0</td>\n",
              "      <td>1592.0</td>\n",
              "      <td>3.0</td>\n",
              "      <td>1595.0</td>\n",
              "      <td>Doctor's degree</td>\n",
              "      <td>Private not-for-profit</td>\n",
              "      <td>Four or more years</td>\n",
              "      <td>Private not-for-profit, four-year or above</td>\n",
              "      <td>No</td>\n",
              "      <td>Yes</td>\n",
              "      <td>No</td>\n",
              "      <td>No</td>\n",
              "      <td>No</td>\n",
              "      <td>143400.0</td>\n",
              "      <td>Doctor's degree, research/scholarship and prof...</td>\n",
              "      <td>Participates in Title IV federal financial aid...</td>\n",
              "      <td>Yes</td>\n",
              "      <td>Yes</td>\n",
              "      <td>Yes</td>\n",
              "      <td>Yes</td>\n",
              "      <td>Active postsecondary institution</td>\n",
              "      <td>Title IV postsecondary institution</td>\n",
              "      <td>No</td>\n",
              "      <td>Degree-granting, primarily baccalaureate or above</td>\n",
              "      <td>No</td>\n",
              "      <td>10,000-19,999</td>\n",
              "      <td></td>\n",
              "      <td>NaN</td>\n",
              "      <td>Active - institution</td>\n",
              "      <td>Yes</td>\n",
              "      <td>Yes</td>\n",
              "      <td>Yes</td>\n",
              "      <td>Yes</td>\n",
              "      <td>Yes</td>\n",
              "      <td>No</td>\n",
              "      <td>Yes</td>\n",
              "      <td>Yes</td>\n",
              "      <td>No</td>\n",
              "      <td>No</td>\n",
              "      <td>Yes</td>\n",
              "      <td>Yes</td>\n",
              "      <td>Yes</td>\n",
              "      <td>Yes</td>\n",
              "      <td>NaN</td>\n",
              "      <td>NaN</td>\n",
              "      <td>NaN</td>\n",
              "    </tr>\n",
              "    <tr>\n",
              "      <th>2</th>\n",
              "      <td>3</td>\n",
              "      <td>143400</td>\n",
              "      <td>American University (The)</td>\n",
              "      <td>Washington</td>\n",
              "      <td>DC</td>\n",
              "      <td>2013-05-28</td>\n",
              "      <td>500000.0</td>\n",
              "      <td>Monetary Gift</td>\n",
              "      <td>BAHRAIN</td>\n",
              "      <td>Sheikh Salman Bin Al-Khalifa</td>\n",
              "      <td>2013</td>\n",
              "      <td>131159.0</td>\n",
              "      <td>American University</td>\n",
              "      <td>District of Columbia</td>\n",
              "      <td>17545.0</td>\n",
              "      <td>7566.0</td>\n",
              "      <td>1624.0</td>\n",
              "      <td>3.0</td>\n",
              "      <td>1627.0</td>\n",
              "      <td>Doctor's degree</td>\n",
              "      <td>Private not-for-profit</td>\n",
              "      <td>Four or more years</td>\n",
              "      <td>Private not-for-profit, four-year or above</td>\n",
              "      <td>No</td>\n",
              "      <td>Yes</td>\n",
              "      <td>No</td>\n",
              "      <td>No</td>\n",
              "      <td>No</td>\n",
              "      <td>143400.0</td>\n",
              "      <td>Doctor's degree, research/scholarship and prof...</td>\n",
              "      <td>Participates in Title IV federal financial aid...</td>\n",
              "      <td>Yes</td>\n",
              "      <td>Yes</td>\n",
              "      <td>Yes</td>\n",
              "      <td>Yes</td>\n",
              "      <td>Active postsecondary institution</td>\n",
              "      <td>Title IV postsecondary institution</td>\n",
              "      <td>No</td>\n",
              "      <td>Degree-granting, primarily baccalaureate or above</td>\n",
              "      <td>No</td>\n",
              "      <td>10,000-19,999</td>\n",
              "      <td></td>\n",
              "      <td>NaN</td>\n",
              "      <td>Active - institution</td>\n",
              "      <td>Yes</td>\n",
              "      <td>Yes</td>\n",
              "      <td>Yes</td>\n",
              "      <td>Yes</td>\n",
              "      <td>Yes</td>\n",
              "      <td>No</td>\n",
              "      <td>Yes</td>\n",
              "      <td>Yes</td>\n",
              "      <td>No</td>\n",
              "      <td>No</td>\n",
              "      <td>Yes</td>\n",
              "      <td>Yes</td>\n",
              "      <td>Yes</td>\n",
              "      <td>Yes</td>\n",
              "      <td>NaN</td>\n",
              "      <td>NaN</td>\n",
              "      <td>NaN</td>\n",
              "    </tr>\n",
              "    <tr>\n",
              "      <th>3</th>\n",
              "      <td>4</td>\n",
              "      <td>143400</td>\n",
              "      <td>American University (The)</td>\n",
              "      <td>Washington</td>\n",
              "      <td>DC</td>\n",
              "      <td>2015-09-10</td>\n",
              "      <td>500000.0</td>\n",
              "      <td>Monetary Gift</td>\n",
              "      <td>KUWAIT</td>\n",
              "      <td>NaN</td>\n",
              "      <td>2015</td>\n",
              "      <td>131159.0</td>\n",
              "      <td>American University</td>\n",
              "      <td>District of Columbia</td>\n",
              "      <td>16735.0</td>\n",
              "      <td>5860.0</td>\n",
              "      <td>1779.0</td>\n",
              "      <td>8.0</td>\n",
              "      <td>1787.0</td>\n",
              "      <td>Doctor's degree</td>\n",
              "      <td>Private not-for-profit</td>\n",
              "      <td>Four or more years</td>\n",
              "      <td>Private not-for-profit, four-year or above</td>\n",
              "      <td>No</td>\n",
              "      <td>Yes</td>\n",
              "      <td>No</td>\n",
              "      <td>No</td>\n",
              "      <td>No</td>\n",
              "      <td>143400.0</td>\n",
              "      <td>Doctor's degree, research/scholarship and prof...</td>\n",
              "      <td>Participates in Title IV federal financial aid...</td>\n",
              "      <td>Yes</td>\n",
              "      <td>Yes</td>\n",
              "      <td>Yes</td>\n",
              "      <td>Yes</td>\n",
              "      <td>Active postsecondary institution</td>\n",
              "      <td>Title IV postsecondary institution</td>\n",
              "      <td>No</td>\n",
              "      <td>Degree-granting, primarily baccalaureate or above</td>\n",
              "      <td>No</td>\n",
              "      <td>10,000-19,999</td>\n",
              "      <td></td>\n",
              "      <td>Doctoral universities: higher research activity</td>\n",
              "      <td>Active - institution</td>\n",
              "      <td>Yes</td>\n",
              "      <td>Yes</td>\n",
              "      <td>Yes</td>\n",
              "      <td>Yes</td>\n",
              "      <td>Yes</td>\n",
              "      <td>No</td>\n",
              "      <td>Yes</td>\n",
              "      <td>Yes</td>\n",
              "      <td>No</td>\n",
              "      <td>No</td>\n",
              "      <td>Yes</td>\n",
              "      <td>Yes</td>\n",
              "      <td>Yes</td>\n",
              "      <td>Yes</td>\n",
              "      <td>NaN</td>\n",
              "      <td>NaN</td>\n",
              "      <td>NaN</td>\n",
              "    </tr>\n",
              "    <tr>\n",
              "      <th>4</th>\n",
              "      <td>5</td>\n",
              "      <td>143400</td>\n",
              "      <td>American University (The)</td>\n",
              "      <td>Washington</td>\n",
              "      <td>DC</td>\n",
              "      <td>2012-05-17</td>\n",
              "      <td>610000.0</td>\n",
              "      <td>Monetary Gift</td>\n",
              "      <td>ENGLAND</td>\n",
              "      <td>NaN</td>\n",
              "      <td>2012</td>\n",
              "      <td>131159.0</td>\n",
              "      <td>American University</td>\n",
              "      <td>District of Columbia</td>\n",
              "      <td>17039.0</td>\n",
              "      <td>7531.0</td>\n",
              "      <td>1592.0</td>\n",
              "      <td>3.0</td>\n",
              "      <td>1595.0</td>\n",
              "      <td>Doctor's degree</td>\n",
              "      <td>Private not-for-profit</td>\n",
              "      <td>Four or more years</td>\n",
              "      <td>Private not-for-profit, four-year or above</td>\n",
              "      <td>No</td>\n",
              "      <td>Yes</td>\n",
              "      <td>No</td>\n",
              "      <td>No</td>\n",
              "      <td>No</td>\n",
              "      <td>143400.0</td>\n",
              "      <td>Doctor's degree, research/scholarship and prof...</td>\n",
              "      <td>Participates in Title IV federal financial aid...</td>\n",
              "      <td>Yes</td>\n",
              "      <td>Yes</td>\n",
              "      <td>Yes</td>\n",
              "      <td>Yes</td>\n",
              "      <td>Active postsecondary institution</td>\n",
              "      <td>Title IV postsecondary institution</td>\n",
              "      <td>No</td>\n",
              "      <td>Degree-granting, primarily baccalaureate or above</td>\n",
              "      <td>No</td>\n",
              "      <td>10,000-19,999</td>\n",
              "      <td></td>\n",
              "      <td>NaN</td>\n",
              "      <td>Active - institution</td>\n",
              "      <td>Yes</td>\n",
              "      <td>Yes</td>\n",
              "      <td>Yes</td>\n",
              "      <td>Yes</td>\n",
              "      <td>Yes</td>\n",
              "      <td>No</td>\n",
              "      <td>Yes</td>\n",
              "      <td>Yes</td>\n",
              "      <td>No</td>\n",
              "      <td>No</td>\n",
              "      <td>Yes</td>\n",
              "      <td>Yes</td>\n",
              "      <td>Yes</td>\n",
              "      <td>Yes</td>\n",
              "      <td>NaN</td>\n",
              "      <td>NaN</td>\n",
              "      <td>NaN</td>\n",
              "    </tr>\n",
              "    <tr>\n",
              "      <th>...</th>\n",
              "      <td>...</td>\n",
              "      <td>...</td>\n",
              "      <td>...</td>\n",
              "      <td>...</td>\n",
              "      <td>...</td>\n",
              "      <td>...</td>\n",
              "      <td>...</td>\n",
              "      <td>...</td>\n",
              "      <td>...</td>\n",
              "      <td>...</td>\n",
              "      <td>...</td>\n",
              "      <td>...</td>\n",
              "      <td>...</td>\n",
              "      <td>...</td>\n",
              "      <td>...</td>\n",
              "      <td>...</td>\n",
              "      <td>...</td>\n",
              "      <td>...</td>\n",
              "      <td>...</td>\n",
              "      <td>...</td>\n",
              "      <td>...</td>\n",
              "      <td>...</td>\n",
              "      <td>...</td>\n",
              "      <td>...</td>\n",
              "      <td>...</td>\n",
              "      <td>...</td>\n",
              "      <td>...</td>\n",
              "      <td>...</td>\n",
              "      <td>...</td>\n",
              "      <td>...</td>\n",
              "      <td>...</td>\n",
              "      <td>...</td>\n",
              "      <td>...</td>\n",
              "      <td>...</td>\n",
              "      <td>...</td>\n",
              "      <td>...</td>\n",
              "      <td>...</td>\n",
              "      <td>...</td>\n",
              "      <td>...</td>\n",
              "      <td>...</td>\n",
              "      <td>...</td>\n",
              "      <td>...</td>\n",
              "      <td>...</td>\n",
              "      <td>...</td>\n",
              "      <td>...</td>\n",
              "      <td>...</td>\n",
              "      <td>...</td>\n",
              "      <td>...</td>\n",
              "      <td>...</td>\n",
              "      <td>...</td>\n",
              "      <td>...</td>\n",
              "      <td>...</td>\n",
              "      <td>...</td>\n",
              "      <td>...</td>\n",
              "      <td>...</td>\n",
              "      <td>...</td>\n",
              "      <td>...</td>\n",
              "      <td>...</td>\n",
              "      <td>...</td>\n",
              "      <td>...</td>\n",
              "      <td>...</td>\n",
              "    </tr>\n",
              "    <tr>\n",
              "      <th>18359</th>\n",
              "      <td>21036</td>\n",
              "      <td>142600</td>\n",
              "      <td>Yale University</td>\n",
              "      <td>New Haven</td>\n",
              "      <td>CT</td>\n",
              "      <td>2012-10-18</td>\n",
              "      <td>1000000.0</td>\n",
              "      <td>Monetary Gift</td>\n",
              "      <td>ENGLAND</td>\n",
              "      <td>Arcadia</td>\n",
              "      <td>2012</td>\n",
              "      <td>130794.0</td>\n",
              "      <td>Yale University</td>\n",
              "      <td>Connecticut</td>\n",
              "      <td>27283.0</td>\n",
              "      <td>2109.0</td>\n",
              "      <td>1349.0</td>\n",
              "      <td>0.0</td>\n",
              "      <td>1349.0</td>\n",
              "      <td>Doctor's degree</td>\n",
              "      <td>Private not-for-profit</td>\n",
              "      <td>Four or more years</td>\n",
              "      <td>Private not-for-profit, four-year or above</td>\n",
              "      <td>No</td>\n",
              "      <td>Yes</td>\n",
              "      <td>No</td>\n",
              "      <td>Yes</td>\n",
              "      <td>No</td>\n",
              "      <td>142600.0</td>\n",
              "      <td>Doctor's degree, research/scholarship and prof...</td>\n",
              "      <td>Participates in Title IV federal financial aid...</td>\n",
              "      <td>Yes</td>\n",
              "      <td>Yes</td>\n",
              "      <td>Yes</td>\n",
              "      <td>Yes</td>\n",
              "      <td>Active postsecondary institution</td>\n",
              "      <td>Title IV postsecondary institution</td>\n",
              "      <td>No</td>\n",
              "      <td>Degree-granting, primarily baccalaureate or above</td>\n",
              "      <td>No</td>\n",
              "      <td>10,000-19,999</td>\n",
              "      <td></td>\n",
              "      <td>NaN</td>\n",
              "      <td>Active - institution</td>\n",
              "      <td>Yes</td>\n",
              "      <td>Yes</td>\n",
              "      <td>No</td>\n",
              "      <td>Yes</td>\n",
              "      <td>Yes</td>\n",
              "      <td>Yes</td>\n",
              "      <td>Yes</td>\n",
              "      <td>Yes</td>\n",
              "      <td>Yes</td>\n",
              "      <td>No</td>\n",
              "      <td>No</td>\n",
              "      <td>Yes</td>\n",
              "      <td>Yes</td>\n",
              "      <td>Yes</td>\n",
              "      <td>Yale University</td>\n",
              "      <td>130794.0</td>\n",
              "      <td>1.0</td>\n",
              "    </tr>\n",
              "    <tr>\n",
              "      <th>18360</th>\n",
              "      <td>21037</td>\n",
              "      <td>142600</td>\n",
              "      <td>Yale University</td>\n",
              "      <td>New Haven</td>\n",
              "      <td>CT</td>\n",
              "      <td>2012-10-18</td>\n",
              "      <td>1000000.0</td>\n",
              "      <td>Monetary Gift</td>\n",
              "      <td>ENGLAND</td>\n",
              "      <td>Arcadia Fund</td>\n",
              "      <td>2012</td>\n",
              "      <td>130794.0</td>\n",
              "      <td>Yale University</td>\n",
              "      <td>Connecticut</td>\n",
              "      <td>27283.0</td>\n",
              "      <td>2109.0</td>\n",
              "      <td>1349.0</td>\n",
              "      <td>0.0</td>\n",
              "      <td>1349.0</td>\n",
              "      <td>Doctor's degree</td>\n",
              "      <td>Private not-for-profit</td>\n",
              "      <td>Four or more years</td>\n",
              "      <td>Private not-for-profit, four-year or above</td>\n",
              "      <td>No</td>\n",
              "      <td>Yes</td>\n",
              "      <td>No</td>\n",
              "      <td>Yes</td>\n",
              "      <td>No</td>\n",
              "      <td>142600.0</td>\n",
              "      <td>Doctor's degree, research/scholarship and prof...</td>\n",
              "      <td>Participates in Title IV federal financial aid...</td>\n",
              "      <td>Yes</td>\n",
              "      <td>Yes</td>\n",
              "      <td>Yes</td>\n",
              "      <td>Yes</td>\n",
              "      <td>Active postsecondary institution</td>\n",
              "      <td>Title IV postsecondary institution</td>\n",
              "      <td>No</td>\n",
              "      <td>Degree-granting, primarily baccalaureate or above</td>\n",
              "      <td>No</td>\n",
              "      <td>10,000-19,999</td>\n",
              "      <td></td>\n",
              "      <td>NaN</td>\n",
              "      <td>Active - institution</td>\n",
              "      <td>Yes</td>\n",
              "      <td>Yes</td>\n",
              "      <td>No</td>\n",
              "      <td>Yes</td>\n",
              "      <td>Yes</td>\n",
              "      <td>Yes</td>\n",
              "      <td>Yes</td>\n",
              "      <td>Yes</td>\n",
              "      <td>Yes</td>\n",
              "      <td>No</td>\n",
              "      <td>No</td>\n",
              "      <td>Yes</td>\n",
              "      <td>Yes</td>\n",
              "      <td>Yes</td>\n",
              "      <td>Yale University</td>\n",
              "      <td>130794.0</td>\n",
              "      <td>1.0</td>\n",
              "    </tr>\n",
              "    <tr>\n",
              "      <th>18361</th>\n",
              "      <td>21038</td>\n",
              "      <td>142600</td>\n",
              "      <td>Yale University</td>\n",
              "      <td>New Haven</td>\n",
              "      <td>CT</td>\n",
              "      <td>2012-12-11</td>\n",
              "      <td>1000000.0</td>\n",
              "      <td>Monetary Gift</td>\n",
              "      <td>ENGLAND</td>\n",
              "      <td>Pyotr O. Aven</td>\n",
              "      <td>2012</td>\n",
              "      <td>130794.0</td>\n",
              "      <td>Yale University</td>\n",
              "      <td>Connecticut</td>\n",
              "      <td>27283.0</td>\n",
              "      <td>2109.0</td>\n",
              "      <td>1349.0</td>\n",
              "      <td>0.0</td>\n",
              "      <td>1349.0</td>\n",
              "      <td>Doctor's degree</td>\n",
              "      <td>Private not-for-profit</td>\n",
              "      <td>Four or more years</td>\n",
              "      <td>Private not-for-profit, four-year or above</td>\n",
              "      <td>No</td>\n",
              "      <td>Yes</td>\n",
              "      <td>No</td>\n",
              "      <td>Yes</td>\n",
              "      <td>No</td>\n",
              "      <td>142600.0</td>\n",
              "      <td>Doctor's degree, research/scholarship and prof...</td>\n",
              "      <td>Participates in Title IV federal financial aid...</td>\n",
              "      <td>Yes</td>\n",
              "      <td>Yes</td>\n",
              "      <td>Yes</td>\n",
              "      <td>Yes</td>\n",
              "      <td>Active postsecondary institution</td>\n",
              "      <td>Title IV postsecondary institution</td>\n",
              "      <td>No</td>\n",
              "      <td>Degree-granting, primarily baccalaureate or above</td>\n",
              "      <td>No</td>\n",
              "      <td>10,000-19,999</td>\n",
              "      <td></td>\n",
              "      <td>NaN</td>\n",
              "      <td>Active - institution</td>\n",
              "      <td>Yes</td>\n",
              "      <td>Yes</td>\n",
              "      <td>No</td>\n",
              "      <td>Yes</td>\n",
              "      <td>Yes</td>\n",
              "      <td>Yes</td>\n",
              "      <td>Yes</td>\n",
              "      <td>Yes</td>\n",
              "      <td>Yes</td>\n",
              "      <td>No</td>\n",
              "      <td>No</td>\n",
              "      <td>Yes</td>\n",
              "      <td>Yes</td>\n",
              "      <td>Yes</td>\n",
              "      <td>Yale University</td>\n",
              "      <td>130794.0</td>\n",
              "      <td>1.0</td>\n",
              "    </tr>\n",
              "    <tr>\n",
              "      <th>18362</th>\n",
              "      <td>21045</td>\n",
              "      <td>142600</td>\n",
              "      <td>Yale University</td>\n",
              "      <td>New Haven</td>\n",
              "      <td>CT</td>\n",
              "      <td>2012-12-11</td>\n",
              "      <td>2000000.0</td>\n",
              "      <td>Monetary Gift</td>\n",
              "      <td>HONG KONG</td>\n",
              "      <td>Joseph C. Tsai</td>\n",
              "      <td>2012</td>\n",
              "      <td>130794.0</td>\n",
              "      <td>Yale University</td>\n",
              "      <td>Connecticut</td>\n",
              "      <td>27283.0</td>\n",
              "      <td>2109.0</td>\n",
              "      <td>1349.0</td>\n",
              "      <td>0.0</td>\n",
              "      <td>1349.0</td>\n",
              "      <td>Doctor's degree</td>\n",
              "      <td>Private not-for-profit</td>\n",
              "      <td>Four or more years</td>\n",
              "      <td>Private not-for-profit, four-year or above</td>\n",
              "      <td>No</td>\n",
              "      <td>Yes</td>\n",
              "      <td>No</td>\n",
              "      <td>Yes</td>\n",
              "      <td>No</td>\n",
              "      <td>142600.0</td>\n",
              "      <td>Doctor's degree, research/scholarship and prof...</td>\n",
              "      <td>Participates in Title IV federal financial aid...</td>\n",
              "      <td>Yes</td>\n",
              "      <td>Yes</td>\n",
              "      <td>Yes</td>\n",
              "      <td>Yes</td>\n",
              "      <td>Active postsecondary institution</td>\n",
              "      <td>Title IV postsecondary institution</td>\n",
              "      <td>No</td>\n",
              "      <td>Degree-granting, primarily baccalaureate or above</td>\n",
              "      <td>No</td>\n",
              "      <td>10,000-19,999</td>\n",
              "      <td></td>\n",
              "      <td>NaN</td>\n",
              "      <td>Active - institution</td>\n",
              "      <td>Yes</td>\n",
              "      <td>Yes</td>\n",
              "      <td>No</td>\n",
              "      <td>Yes</td>\n",
              "      <td>Yes</td>\n",
              "      <td>Yes</td>\n",
              "      <td>Yes</td>\n",
              "      <td>Yes</td>\n",
              "      <td>Yes</td>\n",
              "      <td>No</td>\n",
              "      <td>No</td>\n",
              "      <td>Yes</td>\n",
              "      <td>Yes</td>\n",
              "      <td>Yes</td>\n",
              "      <td>Yale University</td>\n",
              "      <td>130794.0</td>\n",
              "      <td>1.0</td>\n",
              "    </tr>\n",
              "    <tr>\n",
              "      <th>18363</th>\n",
              "      <td>21052</td>\n",
              "      <td>142600</td>\n",
              "      <td>Yale University</td>\n",
              "      <td>New Haven</td>\n",
              "      <td>CT</td>\n",
              "      <td>2012-09-14</td>\n",
              "      <td>7000000.0</td>\n",
              "      <td>Monetary Gift</td>\n",
              "      <td>ENGLAND</td>\n",
              "      <td>Charities Aid Foundation</td>\n",
              "      <td>2012</td>\n",
              "      <td>130794.0</td>\n",
              "      <td>Yale University</td>\n",
              "      <td>Connecticut</td>\n",
              "      <td>27283.0</td>\n",
              "      <td>2109.0</td>\n",
              "      <td>1349.0</td>\n",
              "      <td>0.0</td>\n",
              "      <td>1349.0</td>\n",
              "      <td>Doctor's degree</td>\n",
              "      <td>Private not-for-profit</td>\n",
              "      <td>Four or more years</td>\n",
              "      <td>Private not-for-profit, four-year or above</td>\n",
              "      <td>No</td>\n",
              "      <td>Yes</td>\n",
              "      <td>No</td>\n",
              "      <td>Yes</td>\n",
              "      <td>No</td>\n",
              "      <td>142600.0</td>\n",
              "      <td>Doctor's degree, research/scholarship and prof...</td>\n",
              "      <td>Participates in Title IV federal financial aid...</td>\n",
              "      <td>Yes</td>\n",
              "      <td>Yes</td>\n",
              "      <td>Yes</td>\n",
              "      <td>Yes</td>\n",
              "      <td>Active postsecondary institution</td>\n",
              "      <td>Title IV postsecondary institution</td>\n",
              "      <td>No</td>\n",
              "      <td>Degree-granting, primarily baccalaureate or above</td>\n",
              "      <td>No</td>\n",
              "      <td>10,000-19,999</td>\n",
              "      <td></td>\n",
              "      <td>NaN</td>\n",
              "      <td>Active - institution</td>\n",
              "      <td>Yes</td>\n",
              "      <td>Yes</td>\n",
              "      <td>No</td>\n",
              "      <td>Yes</td>\n",
              "      <td>Yes</td>\n",
              "      <td>Yes</td>\n",
              "      <td>Yes</td>\n",
              "      <td>Yes</td>\n",
              "      <td>Yes</td>\n",
              "      <td>No</td>\n",
              "      <td>No</td>\n",
              "      <td>Yes</td>\n",
              "      <td>Yes</td>\n",
              "      <td>Yes</td>\n",
              "      <td>Yale University</td>\n",
              "      <td>130794.0</td>\n",
              "      <td>1.0</td>\n",
              "    </tr>\n",
              "  </tbody>\n",
              "</table>\n",
              "<p>18364 rows × 61 columns</p>\n",
              "</div>"
            ],
            "text/plain": [
              "          ID   OPEID  ...  IPEDS ID Top50\n",
              "0          1  324200  ...  211440.0   1.0\n",
              "1          2  143400  ...       NaN   NaN\n",
              "2          3  143400  ...       NaN   NaN\n",
              "3          4  143400  ...       NaN   NaN\n",
              "4          5  143400  ...       NaN   NaN\n",
              "...      ...     ...  ...       ...   ...\n",
              "18359  21036  142600  ...  130794.0   1.0\n",
              "18360  21037  142600  ...  130794.0   1.0\n",
              "18361  21038  142600  ...  130794.0   1.0\n",
              "18362  21045  142600  ...  130794.0   1.0\n",
              "18363  21052  142600  ...  130794.0   1.0\n",
              "\n",
              "[18364 rows x 61 columns]"
            ]
          },
          "metadata": {
            "tags": []
          },
          "execution_count": 33
        }
      ]
    },
    {
      "cell_type": "markdown",
      "metadata": {
        "id": "7DbxVRBYJ2Tq",
        "colab_type": "text"
      },
      "source": [
        "## Exploratory Data Analysis"
      ]
    },
    {
      "cell_type": "markdown",
      "metadata": {
        "id": "DY_39Ca5QDEd",
        "colab_type": "text"
      },
      "source": [
        "Begin Exploratory Data Analysis"
      ]
    },
    {
      "cell_type": "code",
      "metadata": {
        "id": "TG8URqjHrlrA",
        "colab_type": "code",
        "colab": {}
      },
      "source": [
        "continuous_vars = [col for col in merged_2 if merged_2[col].dtypes != 'object']"
      ],
      "execution_count": 0,
      "outputs": []
    },
    {
      "cell_type": "code",
      "metadata": {
        "id": "K0xomz88FPXk",
        "colab_type": "code",
        "outputId": "4dbc6c7d-575f-41a6-d669-a6110eaf83bd",
        "colab": {
          "base_uri": "https://localhost:8080/",
          "height": 269
        }
      },
      "source": [
        "merged_2[continuous_vars].nunique()"
      ],
      "execution_count": 0,
      "outputs": [
        {
          "output_type": "execute_result",
          "data": {
            "text/plain": [
              "ID                            18073\n",
              "OPEID                           156\n",
              "Foreign Gift Received Date     1848\n",
              "Foreign Gift Amount           10397\n",
              "year                              6\n",
              "unitid                          162\n",
              "number_applied                  552\n",
              "number_admitted                 547\n",
              "number_enrolled_ft              532\n",
              "number_enrolled_pt              125\n",
              "number_enrolled_total           537\n",
              "opeid                           155\n",
              "IPEDS ID                         47\n",
              "Top50                             2\n",
              "dtype: int64"
            ]
          },
          "metadata": {
            "tags": []
          },
          "execution_count": 35
        }
      ]
    },
    {
      "cell_type": "markdown",
      "metadata": {
        "id": "aMgWyVIWQMQF",
        "colab_type": "text"
      },
      "source": [
        "Remove non-explanatory continuous variables from dataframe (i.e. 'ID', 'OPEID', 'unitd')"
      ]
    },
    {
      "cell_type": "code",
      "metadata": {
        "id": "8-GSCKjwYMYn",
        "colab_type": "code",
        "colab": {}
      },
      "source": [
        "remove_cont_var = ['ID', 'opeid', 'OPEID', 'opeid', 'unitid', \n",
        "               'Foreign Gift Received Date', 'IPEDS ID', 'year']\n",
        "keep_cont_var = [i for i in continuous_vars if i not in remove_cont_var]"
      ],
      "execution_count": 0,
      "outputs": []
    },
    {
      "cell_type": "code",
      "metadata": {
        "id": "9WsKq_uhsurC",
        "colab_type": "code",
        "outputId": "74729da9-aedd-4d9b-e430-7bc495b3c1fb",
        "colab": {
          "base_uri": "https://localhost:8080/",
          "height": 254
        }
      },
      "source": [
        "# Look for correlations with target among continuous variables\n",
        "\n",
        "merged_2[keep_cont_var].corr()"
      ],
      "execution_count": 0,
      "outputs": [
        {
          "output_type": "execute_result",
          "data": {
            "text/html": [
              "<div>\n",
              "<style scoped>\n",
              "    .dataframe tbody tr th:only-of-type {\n",
              "        vertical-align: middle;\n",
              "    }\n",
              "\n",
              "    .dataframe tbody tr th {\n",
              "        vertical-align: top;\n",
              "    }\n",
              "\n",
              "    .dataframe thead th {\n",
              "        text-align: right;\n",
              "    }\n",
              "</style>\n",
              "<table border=\"1\" class=\"dataframe\">\n",
              "  <thead>\n",
              "    <tr style=\"text-align: right;\">\n",
              "      <th></th>\n",
              "      <th>Foreign Gift Amount</th>\n",
              "      <th>number_applied</th>\n",
              "      <th>number_admitted</th>\n",
              "      <th>number_enrolled_ft</th>\n",
              "      <th>number_enrolled_pt</th>\n",
              "      <th>number_enrolled_total</th>\n",
              "      <th>Top50</th>\n",
              "    </tr>\n",
              "  </thead>\n",
              "  <tbody>\n",
              "    <tr>\n",
              "      <th>Foreign Gift Amount</th>\n",
              "      <td>1.000000</td>\n",
              "      <td>-0.032834</td>\n",
              "      <td>-0.028937</td>\n",
              "      <td>-0.018912</td>\n",
              "      <td>0.072833</td>\n",
              "      <td>-0.016723</td>\n",
              "      <td>-0.031842</td>\n",
              "    </tr>\n",
              "    <tr>\n",
              "      <th>number_applied</th>\n",
              "      <td>-0.032834</td>\n",
              "      <td>1.000000</td>\n",
              "      <td>0.646739</td>\n",
              "      <td>0.726719</td>\n",
              "      <td>-0.097066</td>\n",
              "      <td>0.712533</td>\n",
              "      <td>0.051098</td>\n",
              "    </tr>\n",
              "    <tr>\n",
              "      <th>number_admitted</th>\n",
              "      <td>-0.028937</td>\n",
              "      <td>0.646739</td>\n",
              "      <td>1.000000</td>\n",
              "      <td>0.920744</td>\n",
              "      <td>0.219579</td>\n",
              "      <td>0.919247</td>\n",
              "      <td>-0.238678</td>\n",
              "    </tr>\n",
              "    <tr>\n",
              "      <th>number_enrolled_ft</th>\n",
              "      <td>-0.018912</td>\n",
              "      <td>0.726719</td>\n",
              "      <td>0.920744</td>\n",
              "      <td>1.000000</td>\n",
              "      <td>0.253545</td>\n",
              "      <td>0.998590</td>\n",
              "      <td>-0.234227</td>\n",
              "    </tr>\n",
              "    <tr>\n",
              "      <th>number_enrolled_pt</th>\n",
              "      <td>0.072833</td>\n",
              "      <td>-0.097066</td>\n",
              "      <td>0.219579</td>\n",
              "      <td>0.253545</td>\n",
              "      <td>1.000000</td>\n",
              "      <td>0.315262</td>\n",
              "      <td>-0.625845</td>\n",
              "    </tr>\n",
              "    <tr>\n",
              "      <th>number_enrolled_total</th>\n",
              "      <td>-0.016723</td>\n",
              "      <td>0.712533</td>\n",
              "      <td>0.919247</td>\n",
              "      <td>0.998590</td>\n",
              "      <td>0.315262</td>\n",
              "      <td>1.000000</td>\n",
              "      <td>-0.264574</td>\n",
              "    </tr>\n",
              "    <tr>\n",
              "      <th>Top50</th>\n",
              "      <td>-0.031842</td>\n",
              "      <td>0.051098</td>\n",
              "      <td>-0.238678</td>\n",
              "      <td>-0.234227</td>\n",
              "      <td>-0.625845</td>\n",
              "      <td>-0.264574</td>\n",
              "      <td>1.000000</td>\n",
              "    </tr>\n",
              "  </tbody>\n",
              "</table>\n",
              "</div>"
            ],
            "text/plain": [
              "                       Foreign Gift Amount  ...     Top50\n",
              "Foreign Gift Amount               1.000000  ... -0.031842\n",
              "number_applied                   -0.032834  ...  0.051098\n",
              "number_admitted                  -0.028937  ... -0.238678\n",
              "number_enrolled_ft               -0.018912  ... -0.234227\n",
              "number_enrolled_pt                0.072833  ... -0.625845\n",
              "number_enrolled_total            -0.016723  ... -0.264574\n",
              "Top50                            -0.031842  ...  1.000000\n",
              "\n",
              "[7 rows x 7 columns]"
            ]
          },
          "metadata": {
            "tags": []
          },
          "execution_count": 37
        }
      ]
    },
    {
      "cell_type": "markdown",
      "metadata": {
        "id": "e9jzJUJUQcM0",
        "colab_type": "text"
      },
      "source": [
        "Remove number_enrolled_pt due to heavy missing data and fill missing values in other continuous variables with interpolation"
      ]
    },
    {
      "cell_type": "code",
      "metadata": {
        "id": "K8QdMcqE-iGN",
        "colab_type": "code",
        "colab": {}
      },
      "source": [
        "keep_cont_var.remove('number_enrolled_pt')\n",
        "\n",
        "merged_2['Top50'].fillna(value=0, inplace=True)"
      ],
      "execution_count": 0,
      "outputs": []
    },
    {
      "cell_type": "code",
      "metadata": {
        "id": "-jGQZXTq0bxl",
        "colab_type": "code",
        "outputId": "cfa7549b-1539-4be9-da0a-69aecf3c4bd1",
        "colab": {
          "base_uri": "https://localhost:8080/",
          "height": 134
        }
      },
      "source": [
        "merged_2[keep_cont_var].isna().sum()"
      ],
      "execution_count": 0,
      "outputs": [
        {
          "output_type": "execute_result",
          "data": {
            "text/plain": [
              "Foreign Gift Amount        0\n",
              "number_applied           521\n",
              "number_admitted          521\n",
              "number_enrolled_ft       521\n",
              "number_enrolled_total    521\n",
              "Top50                      0\n",
              "dtype: int64"
            ]
          },
          "metadata": {
            "tags": []
          },
          "execution_count": 39
        }
      ]
    },
    {
      "cell_type": "code",
      "metadata": {
        "id": "SClvP7iV1qt4",
        "colab_type": "code",
        "colab": {}
      },
      "source": [
        "for column in merged_2[keep_cont_var]:\n",
        "    merged_2[column].fillna(merged_2[column].interpolate(method='linear'), inplace=True)"
      ],
      "execution_count": 0,
      "outputs": []
    },
    {
      "cell_type": "code",
      "metadata": {
        "id": "Wq5fw9P618Mk",
        "colab_type": "code",
        "outputId": "60486c69-5929-4075-93ed-9bfb63bd820e",
        "colab": {
          "base_uri": "https://localhost:8080/",
          "height": 134
        }
      },
      "source": [
        "merged_2[keep_cont_var].isna().sum()"
      ],
      "execution_count": 0,
      "outputs": [
        {
          "output_type": "execute_result",
          "data": {
            "text/plain": [
              "Foreign Gift Amount      0\n",
              "number_applied           0\n",
              "number_admitted          0\n",
              "number_enrolled_ft       0\n",
              "number_enrolled_total    0\n",
              "Top50                    0\n",
              "dtype: int64"
            ]
          },
          "metadata": {
            "tags": []
          },
          "execution_count": 41
        }
      ]
    },
    {
      "cell_type": "markdown",
      "metadata": {
        "id": "H40Yp-9TQXs2",
        "colab_type": "text"
      },
      "source": [
        "Checking features for outliers"
      ]
    },
    {
      "cell_type": "code",
      "metadata": {
        "id": "exekJvfYAYDK",
        "colab_type": "code",
        "outputId": "48d0348d-2da1-4510-d43f-6cf2fa519b55",
        "colab": {
          "base_uri": "https://localhost:8080/",
          "height": 744
        }
      },
      "source": [
        "plt.figure(figsize=(15,15))\n",
        "for i, col in enumerate(merged_2[keep_cont_var]):\n",
        "    plt.subplot(3,3, i+1)\n",
        "    plt.boxplot(merged_2[col])\n",
        "    plt.title(col)\n",
        "\n",
        "plt.tight_layout()\n",
        "plt.show()"
      ],
      "execution_count": 0,
      "outputs": [
        {
          "output_type": "display_data",
          "data": {
            "image/png": "[encoded data removed]",
            "text/plain": [
              "<Figure size 1080x1080 with 6 Axes>"
            ]
          },
          "metadata": {
            "tags": []
          }
        }
      ]
    },
    {
      "cell_type": "code",
      "metadata": {
        "id": "rHNXwdjKtPrX",
        "colab_type": "code",
        "colab": {}
      },
      "source": [
        "categorical_vars = [col for col in merged_2 if merged_2[col].dtypes == 'object']"
      ],
      "execution_count": 0,
      "outputs": []
    },
    {
      "cell_type": "code",
      "metadata": {
        "id": "9l34irJ1pyPv",
        "colab_type": "code",
        "outputId": "7d927934-3967-4d7b-dd36-1087b0ca7423",
        "colab": {
          "base_uri": "https://localhost:8080/",
          "height": 823
        }
      },
      "source": [
        "merged_2[categorical_vars].nunique()"
      ],
      "execution_count": 0,
      "outputs": [
        {
          "output_type": "execute_result",
          "data": {
            "text/plain": [
              "Institution Name                   155\n",
              "City                               132\n",
              "State                               37\n",
              "Gift Type                            3\n",
              "Country of Giftor                  140\n",
              "Giftor Name                       6226\n",
              "inst_name                          168\n",
              "state_name                          37\n",
              "offering_highest_level               5\n",
              "inst_control                         3\n",
              "institution_level                    1\n",
              "sector                               4\n",
              "hbcu                                 2\n",
              "primarily_postsecondary              1\n",
              "hospital                             3\n",
              "medical_degree                       3\n",
              "tribal_college                       1\n",
              "offering_highest_degree              6\n",
              "title_iv_indicator                   2\n",
              "offering_undergrad                   2\n",
              "offering_grad                        2\n",
              "degree_granting                      1\n",
              "open_public                          1\n",
              "postsec_public_active                2\n",
              "postsec_public_active_title_iv       2\n",
              "inst_system_flag                     3\n",
              "inst_category                        4\n",
              "land_grant                           2\n",
              "inst_size                            6\n",
              "inst_alias                          94\n",
              "cc_basic_2015                       14\n",
              "inst_status                          4\n",
              "dist_ug_offered                      3\n",
              "dist_grad_offered                    3\n",
              "remedial_services                    3\n",
              "academic_counseling                  2\n",
              "employment_services                  3\n",
              "placement_services                   3\n",
              "oncampus_daycare                     3\n",
              "oncampus_housing                     3\n",
              "oncampus_required                    3\n",
              "tuition_guaranteed                   3\n",
              "prepaid_tuition                      3\n",
              "tuition_payment_plan                 3\n",
              "member_ncaa                          3\n",
              "study_abroad                         3\n",
              "University Name                     47\n",
              "dtype: int64"
            ]
          },
          "metadata": {
            "tags": []
          },
          "execution_count": 44
        }
      ]
    },
    {
      "cell_type": "markdown",
      "metadata": {
        "id": "mQQodChkQoJa",
        "colab_type": "text"
      },
      "source": [
        "Remove variables with several unique values, non-explanatory, or redudnant variables to reduce dimensionality of model"
      ]
    },
    {
      "cell_type": "code",
      "metadata": {
        "colab_type": "code",
        "id": "EbIrRdxFyGQJ",
        "colab": {}
      },
      "source": [
        "remove_cat = ['inst_alias','City', 'State', 'Giftor Name',\n",
        "          'state_name', 'Institution Name', 'inst_name',\n",
        "          'degree_granting', 'open_public', 'tribal_college',\n",
        "          'primarily_postsecondary', 'institution_level', 'University Name']"
      ],
      "execution_count": 0,
      "outputs": []
    },
    {
      "cell_type": "code",
      "metadata": {
        "id": "Ise3XNhVyQmS",
        "colab_type": "code",
        "outputId": "d7729e92-e1e5-4f4a-cf5c-f92842d3ea1d",
        "colab": {
          "base_uri": "https://localhost:8080/",
          "height": 34
        }
      },
      "source": [
        "keep_cat_var = [i for i in categorical_vars if i not in remove_cat]\n",
        "len(keep_cat_var)"
      ],
      "execution_count": 0,
      "outputs": [
        {
          "output_type": "execute_result",
          "data": {
            "text/plain": [
              "34"
            ]
          },
          "metadata": {
            "tags": []
          },
          "execution_count": 46
        }
      ]
    },
    {
      "cell_type": "markdown",
      "metadata": {
        "id": "JKBWiZKcQxvz",
        "colab_type": "text"
      },
      "source": [
        "Inspect categorical features of interest for model"
      ]
    },
    {
      "cell_type": "code",
      "metadata": {
        "id": "ZxoWCwlRRR2O",
        "colab_type": "code",
        "outputId": "66ec828e-3245-4ace-9b2f-f98f53db5427",
        "colab": {
          "base_uri": "https://localhost:8080/",
          "height": 1000
        }
      },
      "source": [
        "for i in merged_2[keep_cat_var]:\n",
        "    print('{}'.format(i))\n",
        "    print(merged_2[i].value_counts(), '\\n')"
      ],
      "execution_count": 0,
      "outputs": [
        {
          "output_type": "stream",
          "text": [
            "Gift Type\n",
            "Contract         10371\n",
            "Monetary Gift     7991\n",
            "Real Estate          2\n",
            "Name: Gift Type, dtype: int64 \n",
            "\n",
            "Country of Giftor\n",
            "ENGLAND       2494\n",
            "CANADA        1849\n",
            "JAPAN         1543\n",
            "CHINA         1301\n",
            "FRANCE        1157\n",
            "              ... \n",
            "LIBERIA          1\n",
            "MOZAMBIQUE       1\n",
            "NAMIBIA          1\n",
            "ROMANIA          1\n",
            "BELARUS          1\n",
            "Name: Country of Giftor, Length: 140, dtype: int64 \n",
            "\n",
            "offering_highest_level\n",
            "Doctor's degree                  17781\n",
            "Post-master's certificate          376\n",
            "Master's degree                    170\n",
            "Bachelor's degree                   32\n",
            "Postbaccalaureate certificate        1\n",
            "Name: offering_highest_level, dtype: int64 \n",
            "\n",
            "inst_control\n",
            "Private not-for-profit    9918\n",
            "Public                    8418\n",
            "Private for-profit          24\n",
            "Name: inst_control, dtype: int64 \n",
            "\n",
            "sector\n",
            "Private not-for-profit, four-year or above    9918\n",
            "Public, four-year or above                    8209\n",
            "Administrative unit                            209\n",
            "Private for-profit, four-year or above          24\n",
            "Name: sector, dtype: int64 \n",
            "\n",
            "hbcu\n",
            "No     18358\n",
            "Yes        2\n",
            "Name: hbcu, dtype: int64 \n",
            "\n",
            "hospital\n",
            "No                11591\n",
            "Yes                6674\n",
            "Not applicable       95\n",
            "Name: hospital, dtype: int64 \n",
            "\n",
            "medical_degree\n",
            "Yes               11720\n",
            "No                 6425\n",
            "Not applicable      215\n",
            "Name: medical_degree, dtype: int64 \n",
            "\n",
            "offering_highest_degree\n",
            "Doctor's degree, research/scholarship and professional practice    13223\n",
            "Doctor's degree, research/scholarship                               4429\n",
            "Master's degree                                                      546\n",
            "Doctor's degree, professional practice                               122\n",
            "Bachelor's degree                                                     33\n",
            "Doctor's degree, other                                                 7\n",
            "Name: offering_highest_degree, dtype: int64 \n",
            "\n",
            "title_iv_indicator\n",
            "Participates in Title IV federal financial aid programs         18075\n",
            "Branch campus of a main campus that participates in Title IV      285\n",
            "Name: title_iv_indicator, dtype: int64 \n",
            "\n",
            "offering_undergrad\n",
            "Yes    18108\n",
            "No       252\n",
            "Name: offering_undergrad, dtype: int64 \n",
            "\n",
            "offering_grad\n",
            "Yes    18328\n",
            "No        32\n",
            "Name: offering_grad, dtype: int64 \n",
            "\n",
            "postsec_public_active\n",
            "Active postsecondary institution    18354\n",
            "Not active                              6\n",
            "Name: postsec_public_active, dtype: int64 \n",
            "\n",
            "postsec_public_active_title_iv\n",
            "Title IV postsecondary institution               18354\n",
            "Institution is not active in current universe        6\n",
            "Name: postsec_public_active_title_iv, dtype: int64 \n",
            "\n",
            "inst_system_flag\n",
            "No                11202\n",
            "Yes                7152\n",
            "Not applicable        6\n",
            "Name: inst_system_flag, dtype: int64 \n",
            "\n",
            "inst_category\n",
            "Degree-granting, primarily baccalaureate or above          17877\n",
            "Degree-granting, graduate with no undergraduate degrees      256\n",
            "Not applicable                                               215\n",
            "Degree-granting, not primarily baccalaureate or above         12\n",
            "Name: inst_category, dtype: int64 \n",
            "\n",
            "land_grant\n",
            "No     16444\n",
            "Yes     1916\n",
            "Name: land_grant, dtype: int64 \n",
            "\n",
            "inst_size\n",
            "20,000 and above    11752\n",
            "1,000-4,999          3918\n",
            "10,000-19,999        1895\n",
            "5,000-9,999           377\n",
            "Not applicable        209\n",
            "Under 1,000           209\n",
            "Name: inst_size, dtype: int64 \n",
            "\n",
            "cc_basic_2015\n",
            "Doctoral universities: highest research activity             9289\n",
            "Doctoral universities: higher research activity               381\n",
            "Special focus four-year: business and management schools      217\n",
            "Not applicable                                                186\n",
            "Special focus four-year: faith-related institutions           175\n",
            "Doctoral universities: moderate research activity             146\n",
            "Master's colleges & universities: larger programs             107\n",
            "Baccalaureate colleges: arts & sciences focus                  47\n",
            "Special focus four-year: medical schools and centers           26\n",
            "Special focus four-year: arts, music, and design schools       22\n",
            "Master's colleges & universities: medium programs              20\n",
            "Master's colleges & universities: small programs               10\n",
            "Special focus four-year: other health professions schools       7\n",
            "Special focus four-year: other special focus institutions       6\n",
            "Name: cc_basic_2015, dtype: int64 \n",
            "\n",
            "inst_status\n",
            "Active - institution                                  18346\n",
            "New (active), added during the current year               7\n",
            "Combined with other institution                           6\n",
            "Restore (active), restored to the current universe        1\n",
            "Name: inst_status, dtype: int64 \n",
            "\n",
            "dist_ug_offered\n",
            "Yes               11700\n",
            "No                 6321\n",
            "Not applicable      333\n",
            "Name: dist_ug_offered, dtype: int64 \n",
            "\n",
            "dist_grad_offered\n",
            "Yes               14296\n",
            "No                 3841\n",
            "Not applicable      217\n",
            "Name: dist_grad_offered, dtype: int64 \n",
            "\n",
            "remedial_services\n",
            "No                14409\n",
            "Yes                3736\n",
            "Not applicable      209\n",
            "Name: remedial_services, dtype: int64 \n",
            "\n",
            "academic_counseling\n",
            "Yes               18145\n",
            "Not applicable      209\n",
            "Name: academic_counseling, dtype: int64 \n",
            "\n",
            "employment_services\n",
            "Yes               18024\n",
            "Not applicable      209\n",
            "No                  121\n",
            "Name: employment_services, dtype: int64 \n",
            "\n",
            "placement_services\n",
            "Yes               17851\n",
            "No                  294\n",
            "Not applicable      209\n",
            "Name: placement_services, dtype: int64 \n",
            "\n",
            "oncampus_daycare\n",
            "Yes               12177\n",
            "No                 5968\n",
            "Not applicable      209\n",
            "Name: oncampus_daycare, dtype: int64 \n",
            "\n",
            "oncampus_housing\n",
            "Yes               17820\n",
            "No                  325\n",
            "Not applicable      209\n",
            "Name: oncampus_housing, dtype: int64 \n",
            "\n",
            "oncampus_required\n",
            "No                16001\n",
            "Yes                1864\n",
            "Not applicable      489\n",
            "Name: oncampus_required, dtype: int64 \n",
            "\n",
            "tuition_guaranteed\n",
            "No                16917\n",
            "Yes                1228\n",
            "Not applicable      209\n",
            "Name: tuition_guaranteed, dtype: int64 \n",
            "\n",
            "prepaid_tuition\n",
            "No                12439\n",
            "Yes                5706\n",
            "Not applicable      209\n",
            "Name: prepaid_tuition, dtype: int64 \n",
            "\n",
            "tuition_payment_plan\n",
            "Yes               16941\n",
            "No                 1204\n",
            "Not applicable      209\n",
            "Name: tuition_payment_plan, dtype: int64 \n",
            "\n",
            "member_ncaa\n",
            "Yes               17403\n",
            "No                  742\n",
            "Not applicable      209\n",
            "Name: member_ncaa, dtype: int64 \n",
            "\n",
            "study_abroad\n",
            "Yes               17965\n",
            "Not applicable      209\n",
            "No                  180\n",
            "Name: study_abroad, dtype: int64 \n",
            "\n"
          ],
          "name": "stdout"
        }
      ]
    },
    {
      "cell_type": "markdown",
      "metadata": {
        "id": "-3AhDjx7RCGT",
        "colab_type": "text"
      },
      "source": [
        "Remove categorical variables where the difference in means and value counts is so disproportionate that the variable is essentially representing one value, as well as remove duplicate categories"
      ]
    },
    {
      "cell_type": "code",
      "metadata": {
        "id": "SEdzje-KVgJb",
        "colab_type": "code",
        "colab": {}
      },
      "source": [
        "remove_cat.extend(['postsec_public_active', 'postsec_public_active_title_iv',\n",
        "                   'inst_system_flag', 'sector', 'hbcu', 'inst_status',\n",
        "                   'offering_grad', 'offering_undergrad', 'title_iv_indicator',\n",
        "                   'land_grant', 'offering_highest_level', 'inst_category',\n",
        "                   'academic_counseling', 'placement_services', 'employment_services',\n",
        "                   'tuition_guaranteed', 'tuition_payment_plan','study_abroad',\n",
        "                   'member_ncaa', 'oncampus_housing'])\n",
        "\n",
        "keep_cat_var = [i for i in categorical_vars if i not in remove_cat]"
      ],
      "execution_count": 0,
      "outputs": []
    },
    {
      "cell_type": "markdown",
      "metadata": {
        "id": "IQexDm9xCqBt",
        "colab_type": "text"
      },
      "source": [
        "Identify categorical features and graph their relationship with Foreign Gift Amount"
      ]
    },
    {
      "cell_type": "code",
      "metadata": {
        "id": "hF4TU7WN5tTH",
        "colab_type": "code",
        "colab": {}
      },
      "source": [
        "plot_list = ['inst_size', 'Gift Type']"
      ],
      "execution_count": 0,
      "outputs": []
    },
    {
      "cell_type": "code",
      "metadata": {
        "id": "xAdg2iBQ8jnG",
        "colab_type": "code",
        "outputId": "80b9cc8d-f50c-49cb-9d2a-80b49376f6f8",
        "colab": {
          "base_uri": "https://localhost:8080/",
          "height": 999
        }
      },
      "source": [
        "sns.set()\n",
        "\n",
        "plt.figure(figsize=(10,25))\n",
        "\n",
        "for i, col in enumerate(merged_2[plot_list]):\n",
        "    plt.subplot(3,1,i+1)\n",
        "    \n",
        "    # set up figure\n",
        "    ax = sns.barplot(x=merged_2.groupby(col)['Foreign Gift Amount'].mean().index, \n",
        "            y=merged_2.groupby(col)['Foreign Gift Amount'].mean(), orient='v')\n",
        "    \n",
        "    # set up title and make human readable\n",
        "    plt.title('Avg. Gift Amount per category in {}'.format(\n",
        "        col.title().replace('_', ' ')))\n",
        "    \n",
        "    # fix labels\n",
        "    ax.set(ylabel='Foreign Gift Amount', \n",
        "           xlabel=('{}'.format(col.title().replace('_', ' '))))\n",
        "    locs, labels = plt.xticks()\n",
        "    plt.setp(labels, rotation=15)\n",
        "    \n",
        "plt.show()\n",
        "plt.tight_layout()"
      ],
      "execution_count": 0,
      "outputs": [
        {
          "output_type": "display_data",
          "data": {
            "image/png": "[encoded data removed]",
            "text/plain": [
              "<Figure size 720x1800 with 2 Axes>"
            ]
          },
          "metadata": {
            "tags": []
          }
        },
        {
          "output_type": "display_data",
          "data": {
            "text/plain": [
              "<Figure size 432x288 with 0 Axes>"
            ]
          },
          "metadata": {
            "tags": []
          }
        }
      ]
    },
    {
      "cell_type": "markdown",
      "metadata": {
        "id": "l2Th9YSaC1zQ",
        "colab_type": "text"
      },
      "source": [
        "Create Feature List and run models for individual donation prediction"
      ]
    },
    {
      "cell_type": "code",
      "metadata": {
        "id": "rSM4nSF9zS21",
        "colab_type": "code",
        "colab": {}
      },
      "source": [
        "remove_cat.extend(['cc_basic_2015'])\n",
        "\n",
        "keep_cat_var = [i for i in categorical_vars if i not in remove_cat]"
      ],
      "execution_count": 0,
      "outputs": []
    },
    {
      "cell_type": "code",
      "metadata": {
        "id": "mi4UMjcQC0tg",
        "colab_type": "code",
        "colab": {}
      },
      "source": [
        "keep_list = keep_cat_var + keep_cont_var"
      ],
      "execution_count": 0,
      "outputs": []
    },
    {
      "cell_type": "code",
      "metadata": {
        "id": "OC_WjK0ce_Ep",
        "colab_type": "code",
        "outputId": "b05e1e14-1802-4811-c0b5-5e371bb4aef3",
        "colab": {
          "base_uri": "https://localhost:8080/",
          "height": 353
        }
      },
      "source": [
        "merged_2[keep_list].isna().sum()"
      ],
      "execution_count": 0,
      "outputs": [
        {
          "output_type": "execute_result",
          "data": {
            "text/plain": [
              "Gift Type                   0\n",
              "Country of Giftor           0\n",
              "inst_control                4\n",
              "hospital                    4\n",
              "medical_degree              4\n",
              "offering_highest_degree     4\n",
              "inst_size                   4\n",
              "dist_ug_offered            10\n",
              "dist_grad_offered          10\n",
              "remedial_services          10\n",
              "oncampus_daycare           10\n",
              "oncampus_required          10\n",
              "prepaid_tuition            10\n",
              "Foreign Gift Amount         0\n",
              "number_applied              0\n",
              "number_admitted             0\n",
              "number_enrolled_ft          0\n",
              "number_enrolled_total       0\n",
              "Top50                       0\n",
              "dtype: int64"
            ]
          },
          "metadata": {
            "tags": []
          },
          "execution_count": 53
        }
      ]
    },
    {
      "cell_type": "markdown",
      "metadata": {
        "id": "MrKwbaAVJ-nZ",
        "colab_type": "text"
      },
      "source": [
        "## Run Models for Individual Donation Predictions"
      ]
    },
    {
      "cell_type": "code",
      "metadata": {
        "id": "zQko5w3EMmpZ",
        "colab_type": "code",
        "colab": {}
      },
      "source": [
        "X = merged_2[keep_list]\n",
        "X = X.dropna()\n",
        "X = pd.get_dummies(X, drop_first=True)\n",
        "y = X['Foreign Gift Amount']\n",
        "X = X.drop(['Foreign Gift Amount'], axis=1)"
      ],
      "execution_count": 0,
      "outputs": []
    },
    {
      "cell_type": "code",
      "metadata": {
        "id": "KLkSLOeSDw4U",
        "colab_type": "code",
        "outputId": "deff5e90-1e08-41e8-b7f1-2d39c877fc80",
        "colab": {
          "base_uri": "https://localhost:8080/",
          "height": 34
        }
      },
      "source": [
        "X.shape"
      ],
      "execution_count": 0,
      "outputs": [
        {
          "output_type": "execute_result",
          "data": {
            "text/plain": [
              "(18354, 174)"
            ]
          },
          "metadata": {
            "tags": []
          },
          "execution_count": 282
        }
      ]
    },
    {
      "cell_type": "code",
      "metadata": {
        "id": "iogr3oD-nM7p",
        "colab_type": "code",
        "colab": {}
      },
      "source": [
        "X_train, X_test, y_train, y_test = train_test_split(X, y, test_size=0.25, \n",
        "                                                    random_state=70980)"
      ],
      "execution_count": 0,
      "outputs": []
    },
    {
      "cell_type": "markdown",
      "metadata": {
        "id": "79ZM5wLGKIub",
        "colab_type": "text"
      },
      "source": [
        "I will run 3 Regressors:\n",
        "\n",
        "- RandomForest\n",
        "- KNN\n",
        "- GradientBoost"
      ]
    },
    {
      "cell_type": "markdown",
      "metadata": {
        "id": "BzZPQkdbLhh7",
        "colab_type": "text"
      },
      "source": [
        "RandomForest Regressor"
      ]
    },
    {
      "cell_type": "code",
      "metadata": {
        "id": "Cnqn4NePnJ42",
        "colab_type": "code",
        "outputId": "89b0e6d5-6024-4b48-db62-0de19347f963",
        "colab": {
          "base_uri": "https://localhost:8080/",
          "height": 101
        }
      },
      "source": [
        "rf = RandomForestRegressor(n_jobs=-1, n_estimators=800, min_samples_leaf=2, \n",
        "                           max_features='sqrt', min_impurity_decrease=0.15,\n",
        "                           min_samples_split=5)\n",
        "rf.fit(X_train, y_train)\n",
        "\n",
        "preds_rf = rf.predict(X_test)\n",
        "\n",
        "rf_mse = mean_squared_error(y_test, preds_rf)\n",
        "rf_mape = (np.mean(np.abs((y_test - preds_rf) / y_test)) * 100)\n",
        "rf_train_score = rf.score(X_train, y_train)\n",
        "rf_test_score = rf.score(X_test, y_test)\n",
        "rf_cvs = cross_val_score(rf, X_test, y_test, cv=5)\n",
        "\n",
        "print('Mean Squared Error is {}'.format(rf_mse))\n",
        "print('Mean Absolute Percentage Error is {}'.format(rf_mape))\n",
        "print('R2 Train {}'.format(rf_train_score))\n",
        "print('R2 Test {}'.format(rf_test_score))\n",
        "print('5-fold Cross Validation Score Average {}'.format(np.mean(rf_cvs)))"
      ],
      "execution_count": 0,
      "outputs": [
        {
          "output_type": "stream",
          "text": [
            "Mean Squared Error is 2507695788211.716\n",
            "Mean Absolute Percentage Error is 28639.43274041734\n",
            "R2 Train 0.6062398391956524\n",
            "R2 Test 0.36785557071738584\n",
            "5-fold Cross Validation Score Average 0.07881214892873267\n"
          ],
          "name": "stdout"
        }
      ]
    },
    {
      "cell_type": "markdown",
      "metadata": {
        "id": "oeWC4ZYP9RZ-",
        "colab_type": "text"
      },
      "source": [
        "Examine Feature Importances for RandomForest Regressor"
      ]
    },
    {
      "cell_type": "code",
      "metadata": {
        "id": "GSQYrvL2QS-3",
        "colab_type": "code",
        "outputId": "9f8da4ce-e471-4469-d887-e3baffbeb8c8",
        "colab": {
          "base_uri": "https://localhost:8080/",
          "height": 195
        }
      },
      "source": [
        "feature_importances = pd.DataFrame(\n",
        "    rf.feature_importances_,\n",
        "    index = X.columns,\n",
        "    columns=['importance']).sort_values('importance',\n",
        "    ascending=False\n",
        "    )\n",
        "feature_importances.head()"
      ],
      "execution_count": 0,
      "outputs": [
        {
          "output_type": "execute_result",
          "data": {
            "text/html": [
              "<div>\n",
              "<style scoped>\n",
              "    .dataframe tbody tr th:only-of-type {\n",
              "        vertical-align: middle;\n",
              "    }\n",
              "\n",
              "    .dataframe tbody tr th {\n",
              "        vertical-align: top;\n",
              "    }\n",
              "\n",
              "    .dataframe thead th {\n",
              "        text-align: right;\n",
              "    }\n",
              "</style>\n",
              "<table border=\"1\" class=\"dataframe\">\n",
              "  <thead>\n",
              "    <tr style=\"text-align: right;\">\n",
              "      <th></th>\n",
              "      <th>importance</th>\n",
              "    </tr>\n",
              "  </thead>\n",
              "  <tbody>\n",
              "    <tr>\n",
              "      <th>Country of Giftor_BERMUDA</th>\n",
              "      <td>0.200620</td>\n",
              "    </tr>\n",
              "    <tr>\n",
              "      <th>number_enrolled_ft</th>\n",
              "      <td>0.091877</td>\n",
              "    </tr>\n",
              "    <tr>\n",
              "      <th>number_applied</th>\n",
              "      <td>0.082946</td>\n",
              "    </tr>\n",
              "    <tr>\n",
              "      <th>number_admitted</th>\n",
              "      <td>0.082527</td>\n",
              "    </tr>\n",
              "    <tr>\n",
              "      <th>number_enrolled_total</th>\n",
              "      <td>0.075270</td>\n",
              "    </tr>\n",
              "  </tbody>\n",
              "</table>\n",
              "</div>"
            ],
            "text/plain": [
              "                           importance\n",
              "Country of Giftor_BERMUDA    0.200620\n",
              "number_enrolled_ft           0.091877\n",
              "number_applied               0.082946\n",
              "number_admitted              0.082527\n",
              "number_enrolled_total        0.075270"
            ]
          },
          "metadata": {
            "tags": []
          },
          "execution_count": 225
        }
      ]
    },
    {
      "cell_type": "markdown",
      "metadata": {
        "id": "-03OeiwMLfCp",
        "colab_type": "text"
      },
      "source": [
        "KNN Regressor"
      ]
    },
    {
      "cell_type": "code",
      "metadata": {
        "id": "zZw4oF5iJyUA",
        "colab_type": "code",
        "outputId": "5c8f8c99-3e04-47f5-a89f-0e80d3da35a0",
        "colab": {
          "base_uri": "https://localhost:8080/",
          "height": 101
        }
      },
      "source": [
        "knn = KNeighborsRegressor(n_jobs=-1, n_neighbors=19)\n",
        "knn.fit(X_train, y_train)\n",
        "\n",
        "preds = knn.predict(X_test)\n",
        "\n",
        "knn_mse = mean_squared_error(y_test, preds)\n",
        "knn_mape = (np.mean(np.abs((y_test - preds) / y_test)) * 100)\n",
        "knn_score_train = knn.score(X_train, y_train)\n",
        "knn_score_test = knn.score(X_test, y_test)\n",
        "knn_cvs = cross_val_score(knn, X_test, y_test, cv=5)\n",
        "\n",
        "print('Mean Squared Error is {}'.format(knn_mse))\n",
        "print('Mean Absolute Percentage Error is {}'.format(knn_mape))\n",
        "print('R2 Train {}'.format(knn_score_train))\n",
        "print('R2 Test {}'.format(knn_score_test))\n",
        "print('5-fold Cross Validation Score Average {}'.format(np.mean(knn_cvs)))"
      ],
      "execution_count": 0,
      "outputs": [
        {
          "output_type": "stream",
          "text": [
            "Mean Squared Error is 3384313985083.694\n",
            "Mean Absolute Percentage Error is 48737.31432683549\n",
            "R2 Train 0.31826200164504237\n",
            "R2 Test 0.14687609132225365\n",
            "5-fold Cross Validation Score Average 0.00708572788833719\n"
          ],
          "name": "stdout"
        }
      ]
    },
    {
      "cell_type": "markdown",
      "metadata": {
        "id": "9QoEIjRTMBPm",
        "colab_type": "text"
      },
      "source": [
        "GradientBoost Regressor"
      ]
    },
    {
      "cell_type": "code",
      "metadata": {
        "id": "KEgkXsLOjMPG",
        "colab_type": "code",
        "outputId": "8378cb5b-2ae7-4fb7-97c9-2e12cc8efe5d",
        "colab": {
          "base_uri": "https://localhost:8080/",
          "height": 101
        }
      },
      "source": [
        "gbr = GradientBoostingRegressor(loss='ls', n_estimators=300, \n",
        "                                validation_fraction=0.15)\n",
        "gbr.fit(X_train, y_train)\n",
        "\n",
        "preds = gbr.predict(X_test)\n",
        "\n",
        "gbr_mse = mean_squared_error(y_test, preds)\n",
        "gbr_mape = (np.mean(np.abs((y_test - preds) / y_test)) * 100)\n",
        "train_gbr = gbr.score(X_train, y_train)\n",
        "score_gbr = gbr.score(X_test, y_test)\n",
        "gbr_cvs = cross_val_score(gbr, X_test, y_test, cv=5)\n",
        "\n",
        "print('Mean Squared Error is {}'.format(gbr_mse))\n",
        "print('Mean Absolute Percentage Error is {}'.format(gbr_mape))\n",
        "print('R2 Train {}'.format(train_gbr))\n",
        "print('R2 Test {}'.format(score_gbr))\n",
        "print('5-fold Cross Validation Score Average {}'.format(np.mean(gbr_cvs)))"
      ],
      "execution_count": 0,
      "outputs": [
        {
          "output_type": "stream",
          "text": [
            "Mean Squared Error is 3100495571510.793\n",
            "Mean Absolute Percentage Error is 41796.9205754364\n",
            "R2 Train 0.6913849421038398\n",
            "R2 Test 0.21842154349046972\n",
            "5-fold Cross Validation Score Average -0.04948330168181001\n"
          ],
          "name": "stdout"
        }
      ]
    },
    {
      "cell_type": "markdown",
      "metadata": {
        "id": "Vqb3PAav9aT_",
        "colab_type": "text"
      },
      "source": [
        "Following disappointing numbers for MAPE and Accuracy, I proceeded to use GridSearchCV to optimize models"
      ]
    },
    {
      "cell_type": "code",
      "metadata": {
        "id": "-Zuy4vyd5rFB",
        "colab_type": "code",
        "outputId": "cf6b4b70-2779-4d1a-9acf-c1e58bc3cf96",
        "colab": {
          "base_uri": "https://localhost:8080/",
          "height": 336
        }
      },
      "source": [
        "params = {'n_estimators':np.arange(50, 200, 50), \n",
        "          'min_samples_leaf':np.arange(1, 5, 1)}\n",
        "\n",
        "grd_rf = GridSearchCV(estimator=rf, param_grid=params, n_jobs=-1, cv=5, \n",
        "                      return_train_score=True)\n",
        "\n",
        "grd_rf.fit(X_train, y_train)"
      ],
      "execution_count": 0,
      "outputs": [
        {
          "output_type": "execute_result",
          "data": {
            "text/plain": [
              "GridSearchCV(cv=5, error_score=nan,\n",
              "             estimator=RandomForestRegressor(bootstrap=True, ccp_alpha=0.0,\n",
              "                                             criterion='mse', max_depth=None,\n",
              "                                             max_features='sqrt',\n",
              "                                             max_leaf_nodes=None,\n",
              "                                             max_samples=None,\n",
              "                                             min_impurity_decrease=0.15,\n",
              "                                             min_impurity_split=None,\n",
              "                                             min_samples_leaf=2,\n",
              "                                             min_samples_split=5,\n",
              "                                             min_weight_fraction_leaf=0.0,\n",
              "                                             n_estimators=800, n_jobs=-1,\n",
              "                                             oob_score=False, random_state=None,\n",
              "                                             verbose=0, warm_start=False),\n",
              "             iid='deprecated', n_jobs=-1,\n",
              "             param_grid={'min_samples_leaf': array([1, 2, 3, 4]),\n",
              "                         'n_estimators': array([ 50, 100, 150])},\n",
              "             pre_dispatch='2*n_jobs', refit=True, return_train_score=True,\n",
              "             scoring=None, verbose=0)"
            ]
          },
          "metadata": {
            "tags": []
          },
          "execution_count": 288
        }
      ]
    },
    {
      "cell_type": "code",
      "metadata": {
        "id": "Hzn9_n2Z5typ",
        "colab_type": "code",
        "outputId": "9f1f9f98-94bf-4ca4-b993-5c59806b0b0b",
        "colab": {
          "base_uri": "https://localhost:8080/",
          "height": 134
        }
      },
      "source": [
        "grd_rf.best_estimator_"
      ],
      "execution_count": 0,
      "outputs": [
        {
          "output_type": "execute_result",
          "data": {
            "text/plain": [
              "RandomForestRegressor(bootstrap=True, ccp_alpha=0.0, criterion='mse',\n",
              "                      max_depth=None, max_features='sqrt', max_leaf_nodes=None,\n",
              "                      max_samples=None, min_impurity_decrease=0.15,\n",
              "                      min_impurity_split=None, min_samples_leaf=1,\n",
              "                      min_samples_split=5, min_weight_fraction_leaf=0.0,\n",
              "                      n_estimators=150, n_jobs=-1, oob_score=False,\n",
              "                      random_state=None, verbose=0, warm_start=False)"
            ]
          },
          "metadata": {
            "tags": []
          },
          "execution_count": 289
        }
      ]
    },
    {
      "cell_type": "markdown",
      "metadata": {
        "id": "Z1WUAliTSUj4",
        "colab_type": "text"
      },
      "source": [
        "GridSearchCV Tuned Random Forest Regressor"
      ]
    },
    {
      "cell_type": "code",
      "metadata": {
        "id": "HyftTEJ8SPnU",
        "colab_type": "code",
        "outputId": "e258e006-fd2a-4960-96d6-98fb41b2ccaa",
        "colab": {
          "base_uri": "https://localhost:8080/",
          "height": 101
        }
      },
      "source": [
        "rf = RandomForestRegressor(n_jobs=-1, n_estimators=50, min_samples_leaf=2, \n",
        "                           max_features='sqrt')\n",
        "rf.fit(X_train, y_train)\n",
        "\n",
        "preds = rf.predict(X_test)\n",
        "\n",
        "grid_rf_mse = mean_squared_error(y_test, preds)\n",
        "grid_rf_mape = (np.mean(np.abs((y_test - preds) / y_test)) * 100)\n",
        "grid_rf_train_score = rf.score(X_train, y_train)\n",
        "grid_rf_test_score = rf.score(X_test, y_test)\n",
        "grid_rf_cvs = cross_val_score(rf, X_test, y_test, cv=5)\n",
        "\n",
        "print('Mean Squared Error is {}'.format(grid_rf_mse))\n",
        "print('Mean Absolute Percentage Error is {}'.format(grid_rf_mape))\n",
        "print('R2 Train {}'.format(grid_rf_train_score))\n",
        "print('R2 Test {}'.format(grid_rf_test_score))\n",
        "print('5-fold Cross Validation Score Average {}'.format(np.mean(grid_rf_cvs)))"
      ],
      "execution_count": 0,
      "outputs": [
        {
          "output_type": "stream",
          "text": [
            "Mean Squared Error is 2527603361675.4966\n",
            "Mean Absolute Percentage Error is 28358.416908752548\n",
            "R2 Train 0.6068604466323345\n",
            "R2 Test 0.362837234073515\n",
            "5-fold Cross Validation Score Average 0.06777726287710029\n"
          ],
          "name": "stdout"
        }
      ]
    },
    {
      "cell_type": "code",
      "metadata": {
        "id": "LMLLSDJXNqXs",
        "colab_type": "code",
        "outputId": "bc963ba5-5308-48bd-82cc-4ea2c6ddf784",
        "colab": {
          "base_uri": "https://localhost:8080/",
          "height": 202
        }
      },
      "source": [
        "params = {'n_neighbors':np.arange(3,7,1),\n",
        "          'weights':['distance', 'uniform']}\n",
        "\n",
        "grd_knn = GridSearchCV(estimator=knn, param_grid=params, \n",
        "                       n_jobs=-1, cv=5, return_train_score=True)\n",
        "\n",
        "grd_knn.fit(X_train, y_train)"
      ],
      "execution_count": 0,
      "outputs": [
        {
          "output_type": "execute_result",
          "data": {
            "text/plain": [
              "GridSearchCV(cv=5, error_score=nan,\n",
              "             estimator=KNeighborsRegressor(algorithm='ball_tree', leaf_size=30,\n",
              "                                           metric='minkowski',\n",
              "                                           metric_params=None, n_jobs=-1,\n",
              "                                           n_neighbors=5, p=2,\n",
              "                                           weights='uniform'),\n",
              "             iid='deprecated', n_jobs=-1,\n",
              "             param_grid={'n_neighbors': array([3, 4, 5, 6]),\n",
              "                         'weights': ['distance', 'uniform']},\n",
              "             pre_dispatch='2*n_jobs', refit=True, return_train_score=True,\n",
              "             scoring=None, verbose=0)"
            ]
          },
          "metadata": {
            "tags": []
          },
          "execution_count": 290
        }
      ]
    },
    {
      "cell_type": "code",
      "metadata": {
        "id": "O2AQcdwSOiev",
        "colab_type": "code",
        "outputId": "cca257ac-b0a9-49c6-9e7f-794a86fc2143",
        "colab": {
          "base_uri": "https://localhost:8080/",
          "height": 67
        }
      },
      "source": [
        "grd_knn.best_estimator_"
      ],
      "execution_count": 0,
      "outputs": [
        {
          "output_type": "execute_result",
          "data": {
            "text/plain": [
              "KNeighborsRegressor(algorithm='ball_tree', leaf_size=30, metric='minkowski',\n",
              "                    metric_params=None, n_jobs=-1, n_neighbors=5, p=2,\n",
              "                    weights='uniform')"
            ]
          },
          "metadata": {
            "tags": []
          },
          "execution_count": 291
        }
      ]
    },
    {
      "cell_type": "markdown",
      "metadata": {
        "id": "SirfctjoL30W",
        "colab_type": "text"
      },
      "source": [
        "GridSearchCV Tuned KNN Regressor"
      ]
    },
    {
      "cell_type": "code",
      "metadata": {
        "id": "NCxPVDJ1L26_",
        "colab_type": "code",
        "outputId": "bf248d73-06f2-4c71-f485-f9e5f8d9bb03",
        "colab": {
          "base_uri": "https://localhost:8080/",
          "height": 101
        }
      },
      "source": [
        "knn = KNeighborsRegressor(n_jobs=-1, n_neighbors=5, algorithm='ball_tree')\n",
        "knn.fit(X_train, y_train)\n",
        "\n",
        "preds = knn.predict(X_test)\n",
        "\n",
        "knn_grid_mse = mean_squared_error(y_test, preds)\n",
        "knn_grid_mape = (np.mean(np.abs((y_test - preds) / y_test)) * 100)\n",
        "knn_grid_score_train = knn.score(X_train, y_train)\n",
        "knn_grid_score_test = knn.score(X_test, y_test)\n",
        "knn_grid_cvs = cross_val_score(knn, X_test, y_test, cv=5)\n",
        "\n",
        "print('Mean Squared Error is {}'.format(knn_grid_mse))\n",
        "print('Mean Absolute Percentage Error is {}'.format(knn_grid_mape))\n",
        "print('R2 Train {}'.format(knn_grid_score_train))\n",
        "print('R2 Test {}'.format(knn_grid_score_test))\n",
        "print('5-fold Cross Validation Score Average {}'.format(np.mean(knn_grid_cvs)))"
      ],
      "execution_count": 0,
      "outputs": [
        {
          "output_type": "stream",
          "text": [
            "Mean Squared Error is 3093586802379.5107\n",
            "Mean Absolute Percentage Error is 14055.853621796612\n",
            "R2 Train 0.5783550710681827\n",
            "R2 Test 0.22016311834180136\n",
            "5-fold Cross Validation Score Average -0.15644774841851067\n"
          ],
          "name": "stdout"
        }
      ]
    },
    {
      "cell_type": "code",
      "metadata": {
        "id": "BjfZqEfu5rZ5",
        "colab_type": "code",
        "outputId": "b5cd3baa-c05e-4969-df14-99ee1bcb7394",
        "colab": {
          "base_uri": "https://localhost:8080/",
          "height": 420
        }
      },
      "source": [
        "params = {'n_estimators':np.arange(10, 50, 10),\n",
        "          'learning_rate':np.arange(0.4, 1.0, 0.1)}\n",
        "\n",
        "grd_gbr = GridSearchCV(estimator=gbr, param_grid=params, n_jobs=-1, cv=5, \n",
        "                       return_train_score=True)\n",
        "\n",
        "grd_gbr.fit(X_train, y_train)"
      ],
      "execution_count": 0,
      "outputs": [
        {
          "output_type": "execute_result",
          "data": {
            "text/plain": [
              "GridSearchCV(cv=5, error_score=nan,\n",
              "             estimator=GradientBoostingRegressor(alpha=0.9, ccp_alpha=0.0,\n",
              "                                                 criterion='friedman_mse',\n",
              "                                                 init=None, learning_rate=0.1,\n",
              "                                                 loss='ls', max_depth=3,\n",
              "                                                 max_features=None,\n",
              "                                                 max_leaf_nodes=None,\n",
              "                                                 min_impurity_decrease=0.0,\n",
              "                                                 min_impurity_split=None,\n",
              "                                                 min_samples_leaf=1,\n",
              "                                                 min_samples_split=2,\n",
              "                                                 min_weight_fraction_leaf=0.0,\n",
              "                                                 n_estimators=300,\n",
              "                                                 n_iter_no_change=None,\n",
              "                                                 presort='deprecated',\n",
              "                                                 random_state=None,\n",
              "                                                 subsample=1.0, tol=0.0001,\n",
              "                                                 validation_fraction=0.15,\n",
              "                                                 verbose=0, warm_start=False),\n",
              "             iid='deprecated', n_jobs=-1,\n",
              "             param_grid={'learning_rate': array([0.4, 0.5, 0.6, 0.7, 0.8, 0.9]),\n",
              "                         'n_estimators': array([10, 20, 30, 40])},\n",
              "             pre_dispatch='2*n_jobs', refit=True, return_train_score=True,\n",
              "             scoring=None, verbose=0)"
            ]
          },
          "metadata": {
            "tags": []
          },
          "execution_count": 293
        }
      ]
    },
    {
      "cell_type": "code",
      "metadata": {
        "id": "_gCSoYxq5rTm",
        "colab_type": "code",
        "outputId": "0f37ff0b-632e-4a15-838a-5db9760b7459",
        "colab": {
          "base_uri": "https://localhost:8080/",
          "height": 185
        }
      },
      "source": [
        "grd_gbr.best_estimator_"
      ],
      "execution_count": 0,
      "outputs": [
        {
          "output_type": "execute_result",
          "data": {
            "text/plain": [
              "GradientBoostingRegressor(alpha=0.9, ccp_alpha=0.0, criterion='friedman_mse',\n",
              "                          init=None, learning_rate=0.7, loss='ls', max_depth=3,\n",
              "                          max_features=None, max_leaf_nodes=None,\n",
              "                          min_impurity_decrease=0.0, min_impurity_split=None,\n",
              "                          min_samples_leaf=1, min_samples_split=2,\n",
              "                          min_weight_fraction_leaf=0.0, n_estimators=10,\n",
              "                          n_iter_no_change=None, presort='deprecated',\n",
              "                          random_state=None, subsample=1.0, tol=0.0001,\n",
              "                          validation_fraction=0.15, verbose=0,\n",
              "                          warm_start=False)"
            ]
          },
          "metadata": {
            "tags": []
          },
          "execution_count": 294
        }
      ]
    },
    {
      "cell_type": "markdown",
      "metadata": {
        "id": "c0_-8jXjYwo1",
        "colab_type": "text"
      },
      "source": [
        "GridSearchCV Tuned GradientBoost Regressor"
      ]
    },
    {
      "cell_type": "code",
      "metadata": {
        "id": "VRVxoIuyYva6",
        "colab_type": "code",
        "outputId": "c06083b0-499f-4639-8f87-8e8d9850755b",
        "colab": {
          "base_uri": "https://localhost:8080/",
          "height": 101
        }
      },
      "source": [
        "gbr = GradientBoostingRegressor(loss='ls', n_estimators=10, \n",
        "                                validation_fraction=0.15, \n",
        "                                learning_rate=0.70)\n",
        "gbr.fit(X_train, y_train)\n",
        "\n",
        "preds = gbr.predict(X_test)\n",
        "\n",
        "gbr_grid_mse = mean_squared_error(y_test, preds)\n",
        "gbr_grid_mape = (np.mean(np.abs((y_test - preds) / y_test)) * 100)\n",
        "train_gbr_grid = gbr.score(X_train, y_train)\n",
        "score_gbr_grid = gbr.score(X_test, y_test)\n",
        "gbr_cvs_grid = cross_val_score(gbr, X_test, y_test, cv=5)\n",
        "\n",
        "print('Mean Squared Error is {}'.format(gbr_grid_mse))\n",
        "print('Mean Absolute Percentage Error is {}'.format(gbr_grid_mape))\n",
        "print('R2 Train {}'.format(train_gbr_grid))\n",
        "print('R2 Test {}'.format(score_gbr_grid))\n",
        "print('5-fold Cross Validation Score Average {}'.format(np.mean(gbr_cvs_grid)))"
      ],
      "execution_count": 0,
      "outputs": [
        {
          "output_type": "stream",
          "text": [
            "Mean Squared Error is 3100533280485.4434\n",
            "Mean Absolute Percentage Error is 64914.83502221735\n",
            "R2 Train 0.6212188446951878\n",
            "R2 Test 0.21841203774484808\n",
            "5-fold Cross Validation Score Average -0.010823881207715913\n"
          ],
          "name": "stdout"
        }
      ]
    },
    {
      "cell_type": "markdown",
      "metadata": {
        "id": "Jb6A84qe6GIN",
        "colab_type": "text"
      },
      "source": [
        "Summary Table for Individual Donation Predictions"
      ]
    },
    {
      "cell_type": "code",
      "metadata": {
        "id": "jutL_YNK6E83",
        "colab_type": "code",
        "colab": {}
      },
      "source": [
        "summary_individual = pd.DataFrame(\n",
        "    {\n",
        "        'Regression Model':['RandomForest', 'RandomForest GridSearchCV', \n",
        "                         'KNN', 'KNN GridSearchCV', 'GradientBoost', \n",
        "                         'GradientBoost GridSearchCV'],\n",
        "     \n",
        "        'Mean Squared Error':[rf_mse, grid_rf_mse, knn_mse, \n",
        "                            knn_grid_mse, gbr_mse, gbr_grid_mse],\n",
        "     \n",
        "        'Mean Absolute Percent Error':[rf_mape, grid_rf_mape, knn_mape, \n",
        "                                     knn_grid_mape, gbr_mape, gbr_grid_mape],\n",
        "     \n",
        "        'R-Squared Train':[rf_train_score, grid_rf_train_score, knn_score_train, \n",
        "                        knn_grid_score_train, train_gbr, train_gbr_grid],\n",
        "     \n",
        "        'R-Squared Test':[rf_test_score, grid_rf_test_score, knn_score_test, \n",
        "                       knn_grid_score_test, score_gbr, score_gbr_grid],\n",
        "     \n",
        "        '5-Fold Cross Validation Score':[np.mean(rf_cvs), np.mean(grid_rf_cvs), \n",
        "                                      np.mean(knn_cvs), np.mean(knn_grid_cvs), \n",
        "                                      np.mean(gbr_cvs), np.mean(gbr_cvs_grid)]\n",
        "     })"
      ],
      "execution_count": 0,
      "outputs": []
    },
    {
      "cell_type": "code",
      "metadata": {
        "id": "yV837asX6541",
        "colab_type": "code",
        "outputId": "d4c34b3a-5f54-49bf-ca98-ac733a9bae32",
        "colab": {
          "base_uri": "https://localhost:8080/",
          "height": 225
        }
      },
      "source": [
        "summary_individual"
      ],
      "execution_count": 0,
      "outputs": [
        {
          "output_type": "execute_result",
          "data": {
            "text/html": [
              "<div>\n",
              "<style scoped>\n",
              "    .dataframe tbody tr th:only-of-type {\n",
              "        vertical-align: middle;\n",
              "    }\n",
              "\n",
              "    .dataframe tbody tr th {\n",
              "        vertical-align: top;\n",
              "    }\n",
              "\n",
              "    .dataframe thead th {\n",
              "        text-align: right;\n",
              "    }\n",
              "</style>\n",
              "<table border=\"1\" class=\"dataframe\">\n",
              "  <thead>\n",
              "    <tr style=\"text-align: right;\">\n",
              "      <th></th>\n",
              "      <th>Regression Model</th>\n",
              "      <th>Mean Squared Error</th>\n",
              "      <th>Mean Absolute Percent Error</th>\n",
              "      <th>R-Squared Train</th>\n",
              "      <th>R-Squared Test</th>\n",
              "      <th>5-Fold Cross Validation Score</th>\n",
              "    </tr>\n",
              "  </thead>\n",
              "  <tbody>\n",
              "    <tr>\n",
              "      <th>0</th>\n",
              "      <td>RandomForest</td>\n",
              "      <td>2.507696e+12</td>\n",
              "      <td>28639.432740</td>\n",
              "      <td>0.606240</td>\n",
              "      <td>0.367856</td>\n",
              "      <td>0.078812</td>\n",
              "    </tr>\n",
              "    <tr>\n",
              "      <th>1</th>\n",
              "      <td>RandomForest GridSearchCV</td>\n",
              "      <td>2.527603e+12</td>\n",
              "      <td>28358.416909</td>\n",
              "      <td>0.606860</td>\n",
              "      <td>0.362837</td>\n",
              "      <td>0.067777</td>\n",
              "    </tr>\n",
              "    <tr>\n",
              "      <th>2</th>\n",
              "      <td>KNN</td>\n",
              "      <td>3.384314e+12</td>\n",
              "      <td>48737.314327</td>\n",
              "      <td>0.318262</td>\n",
              "      <td>0.146876</td>\n",
              "      <td>0.007086</td>\n",
              "    </tr>\n",
              "    <tr>\n",
              "      <th>3</th>\n",
              "      <td>KNN GridSearchCV</td>\n",
              "      <td>3.093587e+12</td>\n",
              "      <td>14055.853622</td>\n",
              "      <td>0.578355</td>\n",
              "      <td>0.220163</td>\n",
              "      <td>-0.156448</td>\n",
              "    </tr>\n",
              "    <tr>\n",
              "      <th>4</th>\n",
              "      <td>GradientBoost</td>\n",
              "      <td>3.100496e+12</td>\n",
              "      <td>41796.920575</td>\n",
              "      <td>0.691385</td>\n",
              "      <td>0.218422</td>\n",
              "      <td>-0.049483</td>\n",
              "    </tr>\n",
              "    <tr>\n",
              "      <th>5</th>\n",
              "      <td>GradientBoost GridSearchCV</td>\n",
              "      <td>3.100533e+12</td>\n",
              "      <td>64914.835022</td>\n",
              "      <td>0.621219</td>\n",
              "      <td>0.218412</td>\n",
              "      <td>-0.010824</td>\n",
              "    </tr>\n",
              "  </tbody>\n",
              "</table>\n",
              "</div>"
            ],
            "text/plain": [
              "             Regression Model  ...  5-Fold Cross Validation Score\n",
              "0                RandomForest  ...                       0.078812\n",
              "1   RandomForest GridSearchCV  ...                       0.067777\n",
              "2                         KNN  ...                       0.007086\n",
              "3            KNN GridSearchCV  ...                      -0.156448\n",
              "4               GradientBoost  ...                      -0.049483\n",
              "5  GradientBoost GridSearchCV  ...                      -0.010824\n",
              "\n",
              "[6 rows x 6 columns]"
            ]
          },
          "metadata": {
            "tags": []
          },
          "execution_count": 297
        }
      ]
    },
    {
      "cell_type": "markdown",
      "metadata": {
        "id": "gPDpgk7IBnnr",
        "colab_type": "text"
      },
      "source": [
        "Based on the summary above, the RandomForest Regressor was the best performing model based on Cross Validation score, and Mean Squared Error\n",
        "\n",
        "Here is the model graphed below:"
      ]
    },
    {
      "cell_type": "code",
      "metadata": {
        "id": "kXwX38b8Bmgf",
        "colab_type": "code",
        "outputId": "10bc9493-2e83-4535-f8c7-3d892b60fadb",
        "colab": {
          "base_uri": "https://localhost:8080/",
          "height": 736
        }
      },
      "source": [
        "plt.figure(figsize=(20,12))\n",
        "plt.scatter(X_test.index, preds_rf, alpha=0.5)\n",
        "plt.scatter(X_test.index, y_test, alpha=0.5)\n",
        "plt.title('RandomForest Regressor Predictions Vs. Actual (Individual Donations)')\n",
        "plt.ylabel('Foreign Gift Amount')\n",
        "plt.xlabel('Index')\n",
        "plt.legend(labels=('Predictions', 'Actual'))\n",
        "plt.show()"
      ],
      "execution_count": 0,
      "outputs": [
        {
          "output_type": "display_data",
          "data": {
            "image/png": "[encoded data removed]",
            "text/plain": [
              "<Figure size 1440x864 with 1 Axes>"
            ]
          },
          "metadata": {
            "tags": []
          }
        }
      ]
    },
    {
      "cell_type": "markdown",
      "metadata": {
        "id": "PEZwLPxvJmcp",
        "colab_type": "text"
      },
      "source": [
        "## Run Models for Total Donation Predictions"
      ]
    },
    {
      "cell_type": "markdown",
      "metadata": {
        "id": "97oW5ZQd-b8f",
        "colab_type": "text"
      },
      "source": [
        "Create Feature List and run models for Total Donation prediction"
      ]
    },
    {
      "cell_type": "code",
      "metadata": {
        "id": "HlTDujzjC51v",
        "colab_type": "code",
        "outputId": "fd2d3e12-65ed-47b0-f6fb-d69078e3b636",
        "colab": {
          "base_uri": "https://localhost:8080/",
          "height": 402
        }
      },
      "source": [
        "totals = df2.groupby(['OPEID', 'year'])['Foreign Gift Amount'].sum().reset_index()\n",
        "totals"
      ],
      "execution_count": 0,
      "outputs": [
        {
          "output_type": "execute_result",
          "data": {
            "text/html": [
              "<div>\n",
              "<style scoped>\n",
              "    .dataframe tbody tr th:only-of-type {\n",
              "        vertical-align: middle;\n",
              "    }\n",
              "\n",
              "    .dataframe tbody tr th {\n",
              "        vertical-align: top;\n",
              "    }\n",
              "\n",
              "    .dataframe thead th {\n",
              "        text-align: right;\n",
              "    }\n",
              "</style>\n",
              "<table border=\"1\" class=\"dataframe\">\n",
              "  <thead>\n",
              "    <tr style=\"text-align: right;\">\n",
              "      <th></th>\n",
              "      <th>OPEID</th>\n",
              "      <th>year</th>\n",
              "      <th>Foreign Gift Amount</th>\n",
              "    </tr>\n",
              "  </thead>\n",
              "  <tbody>\n",
              "    <tr>\n",
              "      <th>0</th>\n",
              "      <td>107000</td>\n",
              "      <td>2012</td>\n",
              "      <td>4749569.0</td>\n",
              "    </tr>\n",
              "    <tr>\n",
              "      <th>1</th>\n",
              "      <td>108100</td>\n",
              "      <td>2012</td>\n",
              "      <td>3546398.0</td>\n",
              "    </tr>\n",
              "    <tr>\n",
              "      <th>2</th>\n",
              "      <td>108100</td>\n",
              "      <td>2013</td>\n",
              "      <td>18223614.0</td>\n",
              "    </tr>\n",
              "    <tr>\n",
              "      <th>3</th>\n",
              "      <td>108100</td>\n",
              "      <td>2014</td>\n",
              "      <td>9764981.0</td>\n",
              "    </tr>\n",
              "    <tr>\n",
              "      <th>4</th>\n",
              "      <td>108100</td>\n",
              "      <td>2015</td>\n",
              "      <td>15773165.0</td>\n",
              "    </tr>\n",
              "    <tr>\n",
              "      <th>...</th>\n",
              "      <td>...</td>\n",
              "      <td>...</td>\n",
              "      <td>...</td>\n",
              "    </tr>\n",
              "    <tr>\n",
              "      <th>587</th>\n",
              "      <td>3853300</td>\n",
              "      <td>2015</td>\n",
              "      <td>402916.0</td>\n",
              "    </tr>\n",
              "    <tr>\n",
              "      <th>588</th>\n",
              "      <td>3853300</td>\n",
              "      <td>2016</td>\n",
              "      <td>316552.0</td>\n",
              "    </tr>\n",
              "    <tr>\n",
              "      <th>589</th>\n",
              "      <td>3853300</td>\n",
              "      <td>2017</td>\n",
              "      <td>617000.0</td>\n",
              "    </tr>\n",
              "    <tr>\n",
              "      <th>590</th>\n",
              "      <td>4143200</td>\n",
              "      <td>2012</td>\n",
              "      <td>21532410.0</td>\n",
              "    </tr>\n",
              "    <tr>\n",
              "      <th>591</th>\n",
              "      <td>4250600</td>\n",
              "      <td>2015</td>\n",
              "      <td>375000.0</td>\n",
              "    </tr>\n",
              "  </tbody>\n",
              "</table>\n",
              "<p>592 rows × 3 columns</p>\n",
              "</div>"
            ],
            "text/plain": [
              "       OPEID  year  Foreign Gift Amount\n",
              "0     107000  2012            4749569.0\n",
              "1     108100  2012            3546398.0\n",
              "2     108100  2013           18223614.0\n",
              "3     108100  2014            9764981.0\n",
              "4     108100  2015           15773165.0\n",
              "..       ...   ...                  ...\n",
              "587  3853300  2015             402916.0\n",
              "588  3853300  2016             316552.0\n",
              "589  3853300  2017             617000.0\n",
              "590  4143200  2012           21532410.0\n",
              "591  4250600  2015             375000.0\n",
              "\n",
              "[592 rows x 3 columns]"
            ]
          },
          "metadata": {
            "tags": []
          },
          "execution_count": 67
        }
      ]
    },
    {
      "cell_type": "markdown",
      "metadata": {
        "id": "rYW6ZAKPh7hv",
        "colab_type": "text"
      },
      "source": [
        "Note that \"Country of Giftor\" will not be included as the data set is already very small, and the added dimensionality from that feature would hurt the model and performance"
      ]
    },
    {
      "cell_type": "code",
      "metadata": {
        "id": "wN9KJqDG7u27",
        "colab_type": "code",
        "colab": {}
      },
      "source": [
        "merged_totals = pd.merge(totals, df, how='left', left_on=['year', 'OPEID'], right_on=['year', 'opeid'])"
      ],
      "execution_count": 0,
      "outputs": []
    },
    {
      "cell_type": "code",
      "metadata": {
        "id": "oOdW1JebLf_0",
        "colab_type": "code",
        "colab": {}
      },
      "source": [
        "totals_2 = pd.merge(merged_totals, df3, how='left', left_on=['year', 'unitid'], right_on=['year', 'IPEDS ID'])"
      ],
      "execution_count": 0,
      "outputs": []
    },
    {
      "cell_type": "code",
      "metadata": {
        "id": "whwjGgUfMELu",
        "colab_type": "code",
        "outputId": "c241aec6-d171-4f9d-cfe4-05d3fa906b84",
        "colab": {
          "base_uri": "https://localhost:8080/",
          "height": 370
        }
      },
      "source": [
        "totals_2.info()"
      ],
      "execution_count": 0,
      "outputs": [
        {
          "output_type": "stream",
          "text": [
            "<class 'pandas.core.frame.DataFrame'>\n",
            "Int64Index: 611 entries, 0 to 610\n",
            "Data columns (total 16 columns):\n",
            "Foreign Gift Amount        611 non-null float64\n",
            "number_applied             611 non-null float64\n",
            "number_admitted            611 non-null float64\n",
            "number_enrolled_ft         611 non-null float64\n",
            "number_enrolled_pt         611 non-null float64\n",
            "number_enrolled_total      611 non-null float64\n",
            "inst_control               609 non-null object\n",
            "medical_degree             609 non-null object\n",
            "offering_highest_degree    609 non-null object\n",
            "inst_size                  609 non-null object\n",
            "dist_ug_offered            608 non-null object\n",
            "dist_grad_offered          608 non-null object\n",
            "remedial_services          608 non-null object\n",
            "oncampus_daycare           608 non-null object\n",
            "oncampus_required          608 non-null object\n",
            "Top50                      611 non-null float64\n",
            "dtypes: float64(7), object(9)\n",
            "memory usage: 81.1+ KB\n"
          ],
          "name": "stdout"
        }
      ]
    },
    {
      "cell_type": "markdown",
      "metadata": {
        "id": "CmUpoJLU-wl2",
        "colab_type": "text"
      },
      "source": [
        "Remove most of the same columns as were removed from individual donation feature list"
      ]
    },
    {
      "cell_type": "code",
      "metadata": {
        "id": "pg_k7ifCMQRl",
        "colab_type": "code",
        "colab": {}
      },
      "source": [
        "totals_2.drop(['IPEDS ID', 'University Name', 'inst_name', 'inst_alias',\n",
        "               'sector', 'hbcu', 'postsec_public_active',\n",
        "               'postsec_public_active_title_iv', 'year',\n",
        "               'OPEID', 'opeid', 'state_name', 'inst_system_flag',\n",
        "               'inst_status', 'offering_undergrad', 'offering_grad',\n",
        "               'offering_highest_level', 'inst_category', \n",
        "               'title_iv_indicator', 'tribal_college', \n",
        "               'tuition_guaranteed', 'prepaid_tuition', \n",
        "               'tuition_payment_plan', 'primarily_postsecondary', \n",
        "               'institution_level', 'employment_services', \n",
        "               'placement_services', 'open_public',\n",
        "               'degree_granting', 'cc_basic_2015', 'academic_counseling',\n",
        "               'study_abroad', 'oncampus_housing', 'hospital',\n",
        "               'land_grant', 'member_ncaa', 'unitid'], axis=1, inplace=True)"
      ],
      "execution_count": 0,
      "outputs": []
    },
    {
      "cell_type": "code",
      "metadata": {
        "id": "xCfRQQ7XMrv1",
        "colab_type": "code",
        "colab": {}
      },
      "source": [
        "totals_2['Top50'].fillna(value=0, inplace=True)"
      ],
      "execution_count": 0,
      "outputs": []
    },
    {
      "cell_type": "code",
      "metadata": {
        "id": "V2OGGduWM5RS",
        "colab_type": "code",
        "colab": {}
      },
      "source": [
        "missing_list = ['number_applied', 'number_admitted', \n",
        "                'number_enrolled_ft', 'number_enrolled_total',\n",
        "                'number_enrolled_pt']\n",
        "for column in totals_2[missing_list]:\n",
        "    totals_2[column].fillna(totals_2[column].mean(), inplace=True)"
      ],
      "execution_count": 0,
      "outputs": []
    },
    {
      "cell_type": "code",
      "metadata": {
        "id": "KleQvuk9WUAL",
        "colab_type": "code",
        "outputId": "cdd44c43-04e6-4472-ec9d-b4e605cce8da",
        "colab": {
          "base_uri": "https://localhost:8080/",
          "height": 302
        }
      },
      "source": [
        "totals_2.isna().sum()"
      ],
      "execution_count": 0,
      "outputs": [
        {
          "output_type": "execute_result",
          "data": {
            "text/plain": [
              "Foreign Gift Amount        0\n",
              "number_applied             0\n",
              "number_admitted            0\n",
              "number_enrolled_ft         0\n",
              "number_enrolled_pt         0\n",
              "number_enrolled_total      0\n",
              "inst_control               2\n",
              "medical_degree             2\n",
              "offering_highest_degree    2\n",
              "inst_size                  2\n",
              "dist_ug_offered            3\n",
              "dist_grad_offered          3\n",
              "remedial_services          3\n",
              "oncampus_daycare           3\n",
              "oncampus_required          3\n",
              "Top50                      0\n",
              "dtype: int64"
            ]
          },
          "metadata": {
            "tags": []
          },
          "execution_count": 75
        }
      ]
    },
    {
      "cell_type": "code",
      "metadata": {
        "id": "FgxPR8eqUzTW",
        "colab_type": "code",
        "outputId": "cd37f80a-f4b3-4ffd-c579-68a60a59a3ad",
        "colab": {
          "base_uri": "https://localhost:8080/",
          "height": 34
        }
      },
      "source": [
        "totals_2.shape"
      ],
      "execution_count": 0,
      "outputs": [
        {
          "output_type": "execute_result",
          "data": {
            "text/plain": [
              "(611, 16)"
            ]
          },
          "metadata": {
            "tags": []
          },
          "execution_count": 76
        }
      ]
    },
    {
      "cell_type": "markdown",
      "metadata": {
        "id": "uC4kiKuC-4vC",
        "colab_type": "text"
      },
      "source": [
        "RandomForest Regressor "
      ]
    },
    {
      "cell_type": "code",
      "metadata": {
        "id": "7Syrks8Q7g2s",
        "colab_type": "code",
        "outputId": "5f0d279b-d4b8-4a38-e8e6-85ffc949a78d",
        "colab": {
          "base_uri": "https://localhost:8080/",
          "height": 101
        }
      },
      "source": [
        "rf_2 = RandomForestRegressor(n_jobs=-1, max_features='sqrt', n_estimators=500, \n",
        "                            min_impurity_decrease=0.15, min_samples_split=5)\n",
        "X_2 = totals_2\n",
        "X_2 = X_2.dropna()\n",
        "X_2 = pd.get_dummies(X_2, drop_first=True)\n",
        "y_2 = X_2['Foreign Gift Amount']\n",
        "X_2 = X_2.drop(['Foreign Gift Amount'], axis=1)\n",
        "\n",
        "X_train, X_test, y_train, y_test = train_test_split(X_2, y_2, test_size=0.2, \n",
        "                                                    random_state=42)\n",
        "\n",
        "rf_2.fit(X_train, y_train)\n",
        "preds_rf_2 = rf_2.predict(X_test)\n",
        "\n",
        "mse_rf = mean_squared_error(y_test, preds_rf_2)\n",
        "mape_rf = (np.mean(np.abs((y_test - preds_rf_2) / y_test)) * 100)\n",
        "train_score_rf = rf_2.score(X_train, y_train)\n",
        "test_score_rf = rf_2.score(X_test, y_test)\n",
        "cvs_rf = cross_val_score(rf_2, X_test, y_test, cv=5)\n",
        "\n",
        "print('Mean Squared Error is {}'.format(mse_rf))\n",
        "print('Mean Absolute Percentage Error is {}'.format(mape_rf))\n",
        "print('R2 Train {}'.format(train_score_rf))\n",
        "print('R2 Test {}'.format(test_score_rf))\n",
        "print('5-fold Cross Validation Score Average {}'.format(np.mean(cvs_rf)))"
      ],
      "execution_count": 0,
      "outputs": [
        {
          "output_type": "stream",
          "text": [
            "Mean Squared Error is 158048666238976.22\n",
            "Mean Absolute Percentage Error is 361.9100221121145\n",
            "R2 Train 0.7267459165532665\n",
            "R2 Test 0.21892533300687766\n",
            "5-fold Cross Validation Score Average 0.3999203120789194\n"
          ],
          "name": "stdout"
        }
      ]
    },
    {
      "cell_type": "code",
      "metadata": {
        "id": "l3ioxHqWS3ZU",
        "colab_type": "code",
        "outputId": "daa571f6-6d6e-4ee6-ad83-8274389cfeb7",
        "colab": {
          "base_uri": "https://localhost:8080/",
          "height": 34
        }
      },
      "source": [
        "X_2.shape"
      ],
      "execution_count": 0,
      "outputs": [
        {
          "output_type": "execute_result",
          "data": {
            "text/plain": [
              "(608, 30)"
            ]
          },
          "metadata": {
            "tags": []
          },
          "execution_count": 216
        }
      ]
    },
    {
      "cell_type": "code",
      "metadata": {
        "id": "_pz4uoIgVFjK",
        "colab_type": "code",
        "outputId": "a66d3ad9-1a37-4ef1-fce9-60d1eeb1de97",
        "colab": {
          "base_uri": "https://localhost:8080/",
          "height": 195
        }
      },
      "source": [
        "feature_importances_total = pd.DataFrame(\n",
        "    rf_2.feature_importances_,\n",
        "    index = X_2.columns,\n",
        "    columns=['importance']).sort_values('importance',\n",
        "    ascending=False\n",
        "    )\n",
        "feature_importances_total.head()"
      ],
      "execution_count": 0,
      "outputs": [
        {
          "output_type": "execute_result",
          "data": {
            "text/html": [
              "<div>\n",
              "<style scoped>\n",
              "    .dataframe tbody tr th:only-of-type {\n",
              "        vertical-align: middle;\n",
              "    }\n",
              "\n",
              "    .dataframe tbody tr th {\n",
              "        vertical-align: top;\n",
              "    }\n",
              "\n",
              "    .dataframe thead th {\n",
              "        text-align: right;\n",
              "    }\n",
              "</style>\n",
              "<table border=\"1\" class=\"dataframe\">\n",
              "  <thead>\n",
              "    <tr style=\"text-align: right;\">\n",
              "      <th></th>\n",
              "      <th>importance</th>\n",
              "    </tr>\n",
              "  </thead>\n",
              "  <tbody>\n",
              "    <tr>\n",
              "      <th>number_admitted</th>\n",
              "      <td>0.158046</td>\n",
              "    </tr>\n",
              "    <tr>\n",
              "      <th>number_enrolled_ft</th>\n",
              "      <td>0.136365</td>\n",
              "    </tr>\n",
              "    <tr>\n",
              "      <th>number_applied</th>\n",
              "      <td>0.132839</td>\n",
              "    </tr>\n",
              "    <tr>\n",
              "      <th>number_enrolled_total</th>\n",
              "      <td>0.129418</td>\n",
              "    </tr>\n",
              "    <tr>\n",
              "      <th>Top50</th>\n",
              "      <td>0.068659</td>\n",
              "    </tr>\n",
              "  </tbody>\n",
              "</table>\n",
              "</div>"
            ],
            "text/plain": [
              "                       importance\n",
              "number_admitted          0.158046\n",
              "number_enrolled_ft       0.136365\n",
              "number_applied           0.132839\n",
              "number_enrolled_total    0.129418\n",
              "Top50                    0.068659"
            ]
          },
          "metadata": {
            "tags": []
          },
          "execution_count": 217
        }
      ]
    },
    {
      "cell_type": "markdown",
      "metadata": {
        "id": "5qSImr6t--My",
        "colab_type": "text"
      },
      "source": [
        "KNN Regressor"
      ]
    },
    {
      "cell_type": "code",
      "metadata": {
        "id": "JaNzXJVPDRqX",
        "colab_type": "code",
        "outputId": "6cea977e-1143-4c48-a239-c1100e24fdba",
        "colab": {
          "base_uri": "https://localhost:8080/",
          "height": 101
        }
      },
      "source": [
        "knn = KNeighborsRegressor(n_jobs=-1, n_neighbors=3, weights='distance')\n",
        "knn.fit(X_train, y_train)\n",
        "\n",
        "preds = knn.predict(X_test)\n",
        "\n",
        "mse_knn = mean_squared_error(y_test, preds)\n",
        "mape_knn = (np.mean(np.abs((y_test - preds) / y_test)) * 100)\n",
        "score_train_knn = knn.score(X_train, y_train)\n",
        "score_test_knn = knn.score(X_test, y_test)\n",
        "cvs_knn = cross_val_score(knn, X_test, y_test, cv=5)\n",
        "\n",
        "print('Mean Squared Error is {}'.format(mse_knn))\n",
        "print('Mean Absolute Percentage Error is {}'.format(mape_knn))\n",
        "print('R2 Train {}'.format(score_train_knn))\n",
        "print('R2 Test {}'.format(score_test_knn))\n",
        "print('5-fold Cross Validation Score Average {}'.format(np.mean(cvs_knn)))"
      ],
      "execution_count": 0,
      "outputs": [
        {
          "output_type": "stream",
          "text": [
            "Mean Squared Error is 312349431632949.06\n",
            "Mean Absolute Percentage Error is 222.7552291486377\n",
            "R2 Train 0.9707161641375441\n",
            "R2 Test -0.5436272516802294\n",
            "5-fold Cross Validation Score Average 0.24351115139620866\n"
          ],
          "name": "stdout"
        }
      ]
    },
    {
      "cell_type": "markdown",
      "metadata": {
        "id": "GUFsrHfs-_6a",
        "colab_type": "text"
      },
      "source": [
        "GradientBoost Regressor"
      ]
    },
    {
      "cell_type": "code",
      "metadata": {
        "id": "wJ15tJEcMdmP",
        "colab_type": "code",
        "outputId": "9f32bd16-7472-40e6-d326-ac0ad1c945ee",
        "colab": {
          "base_uri": "https://localhost:8080/",
          "height": 101
        }
      },
      "source": [
        "gbr = GradientBoostingRegressor(loss='ls', n_estimators=20)\n",
        "gbr.fit(X_train, y_train)\n",
        "\n",
        "preds = gbr.predict(X_test)\n",
        "\n",
        "mse_gbr = mean_squared_error(y_test, preds)\n",
        "mape_gbr = (np.mean(np.abs((y_test - preds) / y_test)) * 100)\n",
        "gbr_train = gbr.score(X_train, y_train)\n",
        "gbr_score = gbr.score(X_test, y_test)\n",
        "cvs_gbr = cross_val_score(gbr, X_test, y_test, cv=5)\n",
        "\n",
        "print('Mean Squared Error is {}'.format(mse_gbr))\n",
        "print('Mean Absolute Percentage Error is {}'.format(mape_gbr))\n",
        "print('R2 Train {}'.format(gbr_train))\n",
        "print('R2 Test {}'.format(gbr_score))\n",
        "print('5-fold Cross Validation Score Average {}'.format(np.mean(cvs_gbr)))"
      ],
      "execution_count": 0,
      "outputs": [
        {
          "output_type": "stream",
          "text": [
            "Mean Squared Error is 471953205431512.8\n",
            "Mean Absolute Percentage Error is 497.671793323645\n",
            "R2 Train 0.7220570546650026\n",
            "R2 Test -1.3323872421129477\n",
            "5-fold Cross Validation Score Average 0.2590186178510974\n"
          ],
          "name": "stdout"
        }
      ]
    },
    {
      "cell_type": "markdown",
      "metadata": {
        "id": "0g23zQkzhRVG",
        "colab_type": "text"
      },
      "source": [
        "The numbers for MAPE and Accuracy were slightly better on average with this model, but even the best performing model (RandomForest Regressor) is failing to generalize, therefore I will once again use GridSearchCV to optimize models"
      ]
    },
    {
      "cell_type": "code",
      "metadata": {
        "id": "M_9esDKFOorE",
        "colab_type": "code",
        "outputId": "a464063f-7279-408f-edef-ff9c4a542a6a",
        "colab": {
          "base_uri": "https://localhost:8080/",
          "height": 336
        }
      },
      "source": [
        "params = {'min_samples_split':np.arange(1,5,1),\n",
        "          'min_samples_leaf':np.arange(1,5,1)}\n",
        "\n",
        "grd_rf = GridSearchCV(estimator=rf, param_grid=params, n_jobs=-1, cv=5, \n",
        "                      return_train_score=True)\n",
        "\n",
        "grd_rf.fit(X_train, y_train)"
      ],
      "execution_count": 0,
      "outputs": [
        {
          "output_type": "execute_result",
          "data": {
            "text/plain": [
              "GridSearchCV(cv=5, error_score=nan,\n",
              "             estimator=RandomForestRegressor(bootstrap=True, ccp_alpha=0.0,\n",
              "                                             criterion='mse', max_depth=None,\n",
              "                                             max_features='sqrt',\n",
              "                                             max_leaf_nodes=None,\n",
              "                                             max_samples=None,\n",
              "                                             min_impurity_decrease=0.15,\n",
              "                                             min_impurity_split=None,\n",
              "                                             min_samples_leaf=1,\n",
              "                                             min_samples_split=5,\n",
              "                                             min_weight_fraction_leaf=0.0,\n",
              "                                             n_estimators=500, n_jobs=-1,\n",
              "                                             oob_score=False, random_state=None,\n",
              "                                             verbose=0, warm_start=False),\n",
              "             iid='deprecated', n_jobs=-1,\n",
              "             param_grid={'min_samples_leaf': array([1, 2, 3, 4]),\n",
              "                         'min_samples_split': array([1, 2, 3, 4])},\n",
              "             pre_dispatch='2*n_jobs', refit=True, return_train_score=True,\n",
              "             scoring=None, verbose=0)"
            ]
          },
          "metadata": {
            "tags": []
          },
          "execution_count": 126
        }
      ]
    },
    {
      "cell_type": "code",
      "metadata": {
        "id": "1oI8EEV_l198",
        "colab_type": "code",
        "outputId": "0d05f118-53e7-475b-df1b-1dda040a5bb2",
        "colab": {
          "base_uri": "https://localhost:8080/",
          "height": 134
        }
      },
      "source": [
        "grd_rf.best_estimator_"
      ],
      "execution_count": 0,
      "outputs": [
        {
          "output_type": "execute_result",
          "data": {
            "text/plain": [
              "RandomForestRegressor(bootstrap=True, ccp_alpha=0.0, criterion='mse',\n",
              "                      max_depth=None, max_features='sqrt', max_leaf_nodes=None,\n",
              "                      max_samples=None, min_impurity_decrease=0.15,\n",
              "                      min_impurity_split=None, min_samples_leaf=2,\n",
              "                      min_samples_split=2, min_weight_fraction_leaf=0.0,\n",
              "                      n_estimators=500, n_jobs=-1, oob_score=False,\n",
              "                      random_state=None, verbose=0, warm_start=False)"
            ]
          },
          "metadata": {
            "tags": []
          },
          "execution_count": 127
        }
      ]
    },
    {
      "cell_type": "markdown",
      "metadata": {
        "id": "nresMdHil5UB",
        "colab_type": "text"
      },
      "source": [
        "GridSearchCV Tuned RandomForest Regressor for Total Donation"
      ]
    },
    {
      "cell_type": "code",
      "metadata": {
        "id": "QWlCokxxmDqS",
        "colab_type": "code",
        "outputId": "8e56f61d-c84e-46b9-baeb-cd00127443c7",
        "colab": {
          "base_uri": "https://localhost:8080/",
          "height": 101
        }
      },
      "source": [
        "rf = RandomForestRegressor(n_jobs=-1, max_features='sqrt', n_estimators=500, \n",
        "                            min_impurity_decrease=0.15, min_samples_leaf=2)\n",
        "\n",
        "rf.fit(X_train, y_train)\n",
        "preds = rf.predict(X_test)\n",
        "\n",
        "mse_rf_grid = mean_squared_error(y_test, preds)\n",
        "mape_rf_grid = (np.mean(np.abs((y_test - preds) / y_test)) * 100)\n",
        "train_score_rf_grid = rf.score(X_train, y_train)\n",
        "test_score_rf_grid = rf.score(X_test, y_test)\n",
        "cvs_rf_grid = cross_val_score(rf, X_test, y_test, cv=5)\n",
        "\n",
        "print('Mean Squared Error is {}'.format(mse_rf_grid))\n",
        "print('Mean Absolute Percentage Error is {}'.format(mape_rf_grid))\n",
        "print('R2 Train {}'.format(train_score_rf_grid))\n",
        "print('R2 Test {}'.format(test_score_rf_grid))\n",
        "print('5-fold Cross Validation Score Average {}'.format(np.mean(cvs_rf_grid)))"
      ],
      "execution_count": 0,
      "outputs": [
        {
          "output_type": "stream",
          "text": [
            "Mean Squared Error is 160511629503663.8\n",
            "Mean Absolute Percentage Error is 360.54844108257043\n",
            "R2 Train 0.6325094382121552\n",
            "R2 Test 0.2067533972508787\n",
            "5-fold Cross Validation Score Average 0.3982422599085002\n"
          ],
          "name": "stdout"
        }
      ]
    },
    {
      "cell_type": "code",
      "metadata": {
        "id": "IaWqr9yJhuMM",
        "colab_type": "code",
        "outputId": "ff5e2161-7952-4208-bb3d-55d0cc407484",
        "colab": {
          "base_uri": "https://localhost:8080/",
          "height": 202
        }
      },
      "source": [
        "params = {'n_neighbors':np.arange(3,25,1)}\n",
        "\n",
        "grd_knn = GridSearchCV(estimator=knn, param_grid=params, \n",
        "                       n_jobs=-1, cv=5, return_train_score=True)\n",
        "\n",
        "grd_knn.fit(X_train, y_train)"
      ],
      "execution_count": 0,
      "outputs": [
        {
          "output_type": "execute_result",
          "data": {
            "text/plain": [
              "GridSearchCV(cv=5, error_score=nan,\n",
              "             estimator=KNeighborsRegressor(algorithm='auto', leaf_size=30,\n",
              "                                           metric='minkowski',\n",
              "                                           metric_params=None, n_jobs=-1,\n",
              "                                           n_neighbors=3, p=2,\n",
              "                                           weights='distance'),\n",
              "             iid='deprecated', n_jobs=-1,\n",
              "             param_grid={'n_neighbors': array([ 3,  4,  5,  6,  7,  8,  9, 10, 11, 12, 13, 14, 15, 16, 17, 18, 19,\n",
              "       20, 21, 22, 23, 24])},\n",
              "             pre_dispatch='2*n_jobs', refit=True, return_train_score=True,\n",
              "             scoring=None, verbose=0)"
            ]
          },
          "metadata": {
            "tags": []
          },
          "execution_count": 100
        }
      ]
    },
    {
      "cell_type": "code",
      "metadata": {
        "id": "l4dfmf2tjt9U",
        "colab_type": "code",
        "outputId": "ebf11775-a970-4c28-f8b5-8a405251786a",
        "colab": {
          "base_uri": "https://localhost:8080/",
          "height": 67
        }
      },
      "source": [
        "grd_knn.best_estimator_"
      ],
      "execution_count": 0,
      "outputs": [
        {
          "output_type": "execute_result",
          "data": {
            "text/plain": [
              "KNeighborsRegressor(algorithm='auto', leaf_size=30, metric='minkowski',\n",
              "                    metric_params=None, n_jobs=-1, n_neighbors=24, p=2,\n",
              "                    weights='distance')"
            ]
          },
          "metadata": {
            "tags": []
          },
          "execution_count": 101
        }
      ]
    },
    {
      "cell_type": "markdown",
      "metadata": {
        "id": "f4ENdSVIj7Tf",
        "colab_type": "text"
      },
      "source": [
        "GridSearchCV Tuned KNN Regressor for Total Donation"
      ]
    },
    {
      "cell_type": "code",
      "metadata": {
        "id": "wbGKb6_-j-w6",
        "colab_type": "code",
        "outputId": "dbbd3cdf-5ec7-4b8c-fdaf-f939fd695fb9",
        "colab": {
          "base_uri": "https://localhost:8080/",
          "height": 101
        }
      },
      "source": [
        "knn = KNeighborsRegressor(n_jobs=-1, n_neighbors=24, weights='distance')\n",
        "knn.fit(X_train, y_train)\n",
        "\n",
        "preds = knn.predict(X_test)\n",
        "\n",
        "mse_knn_grid = mean_squared_error(y_test, preds)\n",
        "mape_knn_grid = (np.mean(np.abs((y_test - preds) / y_test)) * 100)\n",
        "score_train_knn_grid = knn.score(X_train, y_train)\n",
        "score_test_knn_grid = knn.score(X_test, y_test)\n",
        "cvs_knn_grid = cross_val_score(knn, X_test, y_test, cv=5)\n",
        "\n",
        "print('Mean Squared Error is {}'.format(mse_knn_grid))\n",
        "print('Mean Absolute Percentage Error is {}'.format(mape_knn_grid))\n",
        "print('R2 Train {}'.format(score_train_knn_grid))\n",
        "print('R2 Test {}'.format(score_test_knn_grid))\n",
        "print('5-fold Cross Validation Score Average {}'.format(np.mean(cvs_knn_grid)))"
      ],
      "execution_count": 0,
      "outputs": [
        {
          "output_type": "stream",
          "text": [
            "Mean Squared Error is 272251144218405.6\n",
            "Mean Absolute Percentage Error is 346.7025084734951\n",
            "R2 Train 0.9716050548438837\n",
            "R2 Test -0.3454619824969245\n",
            "5-fold Cross Validation Score Average 0.33248331202272075\n"
          ],
          "name": "stdout"
        }
      ]
    },
    {
      "cell_type": "code",
      "metadata": {
        "id": "w7BE_8wHhucD",
        "colab_type": "code",
        "outputId": "f61c714c-785a-4430-d2cb-6b7ce33a9b0f",
        "colab": {
          "base_uri": "https://localhost:8080/",
          "height": 420
        }
      },
      "source": [
        "params = {'n_estimators':np.arange(10, 100, 10),\n",
        "          'learning_rate':np.arange(0.1, 1.0, 0.1)}\n",
        "\n",
        "grd_gbr = GridSearchCV(estimator=gbr, param_grid=params, n_jobs=-1, cv=5, \n",
        "                       return_train_score=True)\n",
        "\n",
        "grd_gbr.fit(X_train, y_train)"
      ],
      "execution_count": 0,
      "outputs": [
        {
          "output_type": "execute_result",
          "data": {
            "text/plain": [
              "GridSearchCV(cv=5, error_score=nan,\n",
              "             estimator=GradientBoostingRegressor(alpha=0.9, ccp_alpha=0.0,\n",
              "                                                 criterion='friedman_mse',\n",
              "                                                 init=None, learning_rate=0.1,\n",
              "                                                 loss='ls', max_depth=3,\n",
              "                                                 max_features=None,\n",
              "                                                 max_leaf_nodes=None,\n",
              "                                                 min_impurity_decrease=0.0,\n",
              "                                                 min_impurity_split=None,\n",
              "                                                 min_samples_leaf=1,\n",
              "                                                 min_samples_split=2,\n",
              "                                                 min_weight_fraction_leaf=0.0,\n",
              "                                                 n_estimators=20,\n",
              "                                                 n_iter_no...\n",
              "                                                 presort='deprecated',\n",
              "                                                 random_state=None,\n",
              "                                                 subsample=1.0, tol=0.0001,\n",
              "                                                 validation_fraction=0.1,\n",
              "                                                 verbose=0, warm_start=False),\n",
              "             iid='deprecated', n_jobs=-1,\n",
              "             param_grid={'learning_rate': array([0.1, 0.2, 0.3, 0.4, 0.5, 0.6, 0.7, 0.8, 0.9]),\n",
              "                         'n_estimators': array([10, 20, 30, 40, 50, 60, 70, 80, 90])},\n",
              "             pre_dispatch='2*n_jobs', refit=True, return_train_score=True,\n",
              "             scoring=None, verbose=0)"
            ]
          },
          "metadata": {
            "tags": []
          },
          "execution_count": 110
        }
      ]
    },
    {
      "cell_type": "code",
      "metadata": {
        "id": "7ULuBYUmkXIm",
        "colab_type": "code",
        "outputId": "5e57d39b-52e4-477d-cb39-35da581507bc",
        "colab": {
          "base_uri": "https://localhost:8080/",
          "height": 168
        }
      },
      "source": [
        "grd_gbr.best_estimator_"
      ],
      "execution_count": 0,
      "outputs": [
        {
          "output_type": "execute_result",
          "data": {
            "text/plain": [
              "GradientBoostingRegressor(alpha=0.9, ccp_alpha=0.0, criterion='friedman_mse',\n",
              "                          init=None, learning_rate=0.2, loss='ls', max_depth=3,\n",
              "                          max_features=None, max_leaf_nodes=None,\n",
              "                          min_impurity_decrease=0.0, min_impurity_split=None,\n",
              "                          min_samples_leaf=1, min_samples_split=2,\n",
              "                          min_weight_fraction_leaf=0.0, n_estimators=30,\n",
              "                          n_iter_no_change=None, presort='deprecated',\n",
              "                          random_state=None, subsample=1.0, tol=0.0001,\n",
              "                          validation_fraction=0.1, verbose=0, warm_start=False)"
            ]
          },
          "metadata": {
            "tags": []
          },
          "execution_count": 111
        }
      ]
    },
    {
      "cell_type": "markdown",
      "metadata": {
        "id": "kQ01MvJbkdX1",
        "colab_type": "text"
      },
      "source": [
        "GridSearchCV Tuned GradientBoost Regressor for Total Donation"
      ]
    },
    {
      "cell_type": "code",
      "metadata": {
        "id": "rz2H--_dkcUE",
        "colab_type": "code",
        "outputId": "c4e704f2-a042-40b5-ac3f-95cbe2ab55b6",
        "colab": {
          "base_uri": "https://localhost:8080/",
          "height": 101
        }
      },
      "source": [
        "gbr = GradientBoostingRegressor(loss='ls', n_estimators=30, learning_rate=0.2)\n",
        "\n",
        "gbr.fit(X_train, y_train)\n",
        "\n",
        "preds = gbr.predict(X_test)\n",
        "\n",
        "mse_gbr_grid = mean_squared_error(y_test, preds)\n",
        "mape_gbr_grid = (np.mean(np.abs((y_test - preds) / y_test)) * 100)\n",
        "gbr_train_grid = gbr.score(X_train, y_train)\n",
        "gbr_score_grid = gbr.score(X_test, y_test)\n",
        "cvs_gbr_grid = cross_val_score(gbr, X_test, y_test, cv=5)\n",
        "\n",
        "print('Mean Squared Error is {}'.format(mse_gbr_grid))\n",
        "print('Mean Absolute Percentage Error is {}'.format(mape_gbr_grid))\n",
        "print('R2 Train {}'.format(gbr_train_grid))\n",
        "print('R2 Test {}'.format(gbr_score_grid))\n",
        "print('5-fold Cross Validation Score Average {}'.format(np.mean(cvs_gbr_grid)))"
      ],
      "execution_count": 0,
      "outputs": [
        {
          "output_type": "stream",
          "text": [
            "Mean Squared Error is 185344788737674.97\n",
            "Mean Absolute Percentage Error is 343.19297711897366\n",
            "R2 Train 0.9145330902053223\n",
            "R2 Test 0.0840282136687277\n",
            "5-fold Cross Validation Score Average 0.18119492956087213\n"
          ],
          "name": "stdout"
        }
      ]
    },
    {
      "cell_type": "markdown",
      "metadata": {
        "id": "PbpW49N7ma9J",
        "colab_type": "text"
      },
      "source": [
        "Summary Table for Total Donation Predictions"
      ]
    },
    {
      "cell_type": "code",
      "metadata": {
        "id": "77hh5OFdkmR0",
        "colab_type": "code",
        "colab": {}
      },
      "source": [
        "summary_total = pd.DataFrame(\n",
        "    {\n",
        "        'Regression Model':['RandomForest', \n",
        "                         'RandomForest GridSearchCV', \n",
        "                         'KNN', 'KNN GridSearchCV',\n",
        "                         'GradientBoost', \n",
        "                         'GradientBoost GridSearchCV'],\n",
        "     \n",
        "        'Mean Squared Error': [mse_rf, mse_rf_grid, mse_knn, \n",
        "                            mse_knn_grid, mse_gbr, mse_gbr_grid],\n",
        "     \n",
        "        'Mean Absolute Percent Error': [mape_rf, mape_rf_grid, mape_knn, \n",
        "                                     mape_knn_grid, mape_gbr, mape_gbr_grid],\n",
        "     \n",
        "        'R-Squared Train':[train_score_rf, train_score_rf_grid, score_train_knn, \n",
        "                        score_train_knn_grid, gbr_train, gbr_train_grid],\n",
        "     \n",
        "        'R-Squared Test':[test_score_rf, test_score_rf_grid, score_test_knn, \n",
        "                       score_test_knn_grid, gbr_score, gbr_score_grid],\n",
        "     \n",
        "        '5-Fold Cross Validation Score':[np.mean(cvs_rf), np.mean(cvs_rf_grid), \n",
        "                                      np.mean(cvs_knn), np.mean(cvs_knn_grid), \n",
        "                                      np.mean(cvs_gbr), np.mean(cvs_gbr_grid)]\n",
        "     })"
      ],
      "execution_count": 0,
      "outputs": []
    },
    {
      "cell_type": "code",
      "metadata": {
        "id": "QBRtIvO8ndqP",
        "colab_type": "code",
        "outputId": "5436a51c-1f04-4506-b20c-d52946aa598d",
        "colab": {
          "base_uri": "https://localhost:8080/",
          "height": 225
        }
      },
      "source": [
        "summary_total"
      ],
      "execution_count": 0,
      "outputs": [
        {
          "output_type": "execute_result",
          "data": {
            "text/html": [
              "<div>\n",
              "<style scoped>\n",
              "    .dataframe tbody tr th:only-of-type {\n",
              "        vertical-align: middle;\n",
              "    }\n",
              "\n",
              "    .dataframe tbody tr th {\n",
              "        vertical-align: top;\n",
              "    }\n",
              "\n",
              "    .dataframe thead th {\n",
              "        text-align: right;\n",
              "    }\n",
              "</style>\n",
              "<table border=\"1\" class=\"dataframe\">\n",
              "  <thead>\n",
              "    <tr style=\"text-align: right;\">\n",
              "      <th></th>\n",
              "      <th>Regression Model</th>\n",
              "      <th>Mean Squared Error</th>\n",
              "      <th>Mean Absolute Percent Error</th>\n",
              "      <th>R-Squared Train</th>\n",
              "      <th>R-Squared Test</th>\n",
              "      <th>5-Fold Cross Validation Score</th>\n",
              "    </tr>\n",
              "  </thead>\n",
              "  <tbody>\n",
              "    <tr>\n",
              "      <th>0</th>\n",
              "      <td>RandomForest</td>\n",
              "      <td>1.557910e+14</td>\n",
              "      <td>360.532588</td>\n",
              "      <td>0.729587</td>\n",
              "      <td>0.230083</td>\n",
              "      <td>0.404751</td>\n",
              "    </tr>\n",
              "    <tr>\n",
              "      <th>1</th>\n",
              "      <td>RandomForest GridSearchCV</td>\n",
              "      <td>1.605116e+14</td>\n",
              "      <td>360.548441</td>\n",
              "      <td>0.632509</td>\n",
              "      <td>0.206753</td>\n",
              "      <td>0.398242</td>\n",
              "    </tr>\n",
              "    <tr>\n",
              "      <th>2</th>\n",
              "      <td>KNN</td>\n",
              "      <td>3.123494e+14</td>\n",
              "      <td>222.755229</td>\n",
              "      <td>0.970716</td>\n",
              "      <td>-0.543627</td>\n",
              "      <td>0.243511</td>\n",
              "    </tr>\n",
              "    <tr>\n",
              "      <th>3</th>\n",
              "      <td>KNN GridSearchCV</td>\n",
              "      <td>2.722511e+14</td>\n",
              "      <td>346.702508</td>\n",
              "      <td>0.971605</td>\n",
              "      <td>-0.345462</td>\n",
              "      <td>0.332483</td>\n",
              "    </tr>\n",
              "    <tr>\n",
              "      <th>4</th>\n",
              "      <td>GradientBoost</td>\n",
              "      <td>4.719532e+14</td>\n",
              "      <td>497.671793</td>\n",
              "      <td>0.722057</td>\n",
              "      <td>-1.332387</td>\n",
              "      <td>0.147552</td>\n",
              "    </tr>\n",
              "    <tr>\n",
              "      <th>5</th>\n",
              "      <td>GradientBoost GridSearchCV</td>\n",
              "      <td>1.853448e+14</td>\n",
              "      <td>343.192977</td>\n",
              "      <td>0.914533</td>\n",
              "      <td>0.084028</td>\n",
              "      <td>0.181195</td>\n",
              "    </tr>\n",
              "  </tbody>\n",
              "</table>\n",
              "</div>"
            ],
            "text/plain": [
              "             Regression Model  ...  5-Fold Cross Validation Score\n",
              "0                RandomForest  ...                       0.404751\n",
              "1   RandomForest GridSearchCV  ...                       0.398242\n",
              "2                         KNN  ...                       0.243511\n",
              "3            KNN GridSearchCV  ...                       0.332483\n",
              "4               GradientBoost  ...                       0.147552\n",
              "5  GradientBoost GridSearchCV  ...                       0.181195\n",
              "\n",
              "[6 rows x 6 columns]"
            ]
          },
          "metadata": {
            "tags": []
          },
          "execution_count": 181
        }
      ]
    },
    {
      "cell_type": "markdown",
      "metadata": {
        "id": "Dax2VOU45qAk",
        "colab_type": "text"
      },
      "source": [
        "From this summary, the best model based on Cross-Validation score was the RandomForest Regressor. \n",
        "\n",
        "Here it is graphed below:"
      ]
    },
    {
      "cell_type": "code",
      "metadata": {
        "id": "6wzeXIt0nlTd",
        "colab_type": "code",
        "outputId": "54d8de3a-a8ed-4ace-c6fb-aa89ab5ff3b3",
        "colab": {
          "base_uri": "https://localhost:8080/",
          "height": 736
        }
      },
      "source": [
        "plt.figure(figsize=(20,12))\n",
        "plt.scatter(X_test.index, preds_rf_2, alpha=0.5)\n",
        "plt.scatter(X_test.index, y_test, alpha=0.5)\n",
        "plt.title('RandomForest Regressor Predictions Vs. Actual (Total Donation)')\n",
        "plt.ylabel('Foreign Gift Amount')\n",
        "plt.xlabel('Index')\n",
        "plt.legend(labels=('Predictions', 'Actual'))\n",
        "plt.show()"
      ],
      "execution_count": 0,
      "outputs": [
        {
          "output_type": "display_data",
          "data": {
            "image/png": "[encoded data removed]",
            "text/plain": [
              "<Figure size 1440x864 with 1 Axes>"
            ]
          },
          "metadata": {
            "tags": []
          }
        }
      ]
    },
    {
      "cell_type": "markdown",
      "metadata": {
        "id": "4PW2gg5PJc4r",
        "colab_type": "text"
      },
      "source": [
        "##Conclusion"
      ]
    },
    {
      "cell_type": "markdown",
      "metadata": {
        "id": "TOQ-IA-_KSBp",
        "colab_type": "text"
      },
      "source": [
        "After exhaustive tuning and repeated attempts to improve model performance, it can be said that for this project, the prediction results for both individual and total donations reflect poor predictors. \n",
        "\n",
        "Additionally, the targets in both cases (Individual and Total donations) measured in 'Foreign Gift Amount\", is a difficult target to predict, and many factors likely contribute to a specific donation amount. These could be factors that are impossible to know or measure (i.e. reasons why someone/some entity would donate vs. not donate) reliably.\n",
        "\n",
        "The explanatory power of these models was perhaps the greatest outcome in this project. Using the feature importance method of the Random Forest model, the explanatory power of the model can be seen. In each case, the continuous variables regarding enrollment seemed to be the most significant features involved. In the individual donation instance, the country feature was most important.\n",
        "\n",
        "For interested stakeholders, this project was unable to predict the 2 target variables of individual donations, and total donations. Again, this is due to the poor predictive power of the features, and difficult target to predict. Despite tuning, all models overfit and failed to generalize. The Mean Squared Error and Mean Absolute Error Percentage for Regression never came down enough to be reliable for the use-case I suggested at the outset: predicting donation amounts with the intent to plan departmental goal-setting for fundraising.\n",
        "\n",
        "In closing, I should mention the fact that my project did not address the fact that this was a project dealing with time series data. This project would be of interest with new features and with consideration of this time series component. \n",
        "\n"
      ]
    },
    {
      "cell_type": "code",
      "metadata": {
        "id": "81ClOWRjOkuv",
        "colab_type": "code",
        "colab": {}
      },
      "source": [
        ""
      ],
      "execution_count": 0,
      "outputs": []
    }
  ]
}